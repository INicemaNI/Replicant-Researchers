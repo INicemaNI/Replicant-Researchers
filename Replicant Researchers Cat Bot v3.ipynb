{
 "cells": [
  {
   "cell_type": "markdown",
   "metadata": {
    "id": "GDZe4r8KmhZV"
   },
   "source": [
    "# Чат-бот \"Кошка-из-трешки\""
   ]
  },
  {
   "cell_type": "markdown",
   "metadata": {
    "id": "mamvF8j2nMGX",
    "tags": []
   },
   "source": [
    "# Подключение API Yandex GPT"
   ]
  },
  {
   "cell_type": "code",
   "execution_count": 1,
   "metadata": {
    "execution": {
     "iopub.execute_input": "2024-05-27T22:09:07.817528Z",
     "iopub.status.busy": "2024-05-27T22:09:07.816544Z",
     "iopub.status.idle": "2024-05-27T22:09:07.988614Z",
     "shell.execute_reply": "2024-05-27T22:09:07.987886Z",
     "shell.execute_reply.started": "2024-05-27T22:09:07.817480Z"
    },
    "id": "n-0PZLJcedY4",
    "tags": []
   },
   "outputs": [],
   "source": [
    "import os\n",
    "\n",
    "import requests\n",
    "\n",
    "api_key = \"AQVN0-FV0kOBiKSo26Wi-jZCLPPoOdyBjGHs3pXV\"\n",
    "os.environ[\"api_key\"] = api_key\n",
    "api_key = os.environ[\"api_key\"]\n",
    "folder_id = \"b1gst3c7cskk2big5fqn\"\n",
    "\n",
    "tg_notifications_api_token = \"7007888308:AAHnHfCIlM3GyG0IftxXvIJvM2pdfzcRyRw\"\n",
    "tg_notifications_chat_id = \"469119744\"\n",
    "\n",
    "\n",
    "def send_tg_message(text=\"Вычисление завершено\"):\n",
    "    requests.post(\n",
    "        \"https://api.telegram.org/\"\n",
    "        + \"bot{}/sendMessage\".format(tg_notifications_api_token),\n",
    "        params=dict(chat_id=tg_notifications_chat_id, text=text),\n",
    "    )"
   ]
  },
  {
   "cell_type": "code",
   "execution_count": 2,
   "metadata": {
    "execution": {
     "iopub.execute_input": "2024-05-27T21:54:43.968030Z",
     "iopub.status.busy": "2024-05-27T21:54:43.966843Z",
     "iopub.status.idle": "2024-05-27T21:54:44.203680Z",
     "shell.execute_reply": "2024-05-27T21:54:44.202950Z",
     "shell.execute_reply.started": "2024-05-27T21:54:43.967985Z"
    },
    "tags": []
   },
   "outputs": [],
   "source": [
    "send_tg_message(\"Test message\")"
   ]
  },
  {
   "cell_type": "markdown",
   "metadata": {
    "id": "mLPFjnKbzS2j",
    "jp-MarkdownHeadingCollapsed": true,
    "tags": []
   },
   "source": [
    "# 1. Обработка ссылок сайта priem.mai.ru"
   ]
  },
  {
   "cell_type": "markdown",
   "metadata": {
    "id": "nKFKX3viJzob"
   },
   "source": [
    "Изначально через сторонний сервис был получен список страниц сайта priem.mai.ru. Список записан в файл pages.txt.\n",
    "\n",
    "Помещаем ссылки на все странички из текстового файла pages.txt в словарь `pages`:"
   ]
  },
  {
   "cell_type": "code",
   "execution_count": null,
   "metadata": {
    "id": "zG2EsPLn0QmL"
   },
   "outputs": [],
   "source": [
    "import logging\n",
    "\n",
    "import requests\n",
    "from bs4 import BeautifulSoup\n",
    "\n",
    "# Настройка логирования\n",
    "logging.basicConfig(\n",
    "    level=logging.INFO, format=\"%(asctime)s - %(levelname)s - %(message)s\"\n",
    ")\n",
    "logger = logging.getLogger()\n",
    "\n",
    "# Заголовки для HTTP-запроса\n",
    "headers = {\n",
    "    \"User-Agent\": \"Mozilla/5.0 (Windows NT 10.0; Win64; x64) AppleWebKit/537.36 (KHTML, like Gecko) Chrome/90.0.4430.93 Safari/537.36\"\n",
    "}\n",
    "\n",
    "\n",
    "# Функция для получения заголовка страницы по URL\n",
    "def get_page_title(url):\n",
    "    try:\n",
    "        response = requests.get(url, headers=headers)\n",
    "        response.raise_for_status()  # Проверка на успешный ответ\n",
    "        soup = BeautifulSoup(response.text, \"html.parser\")\n",
    "        title = soup.title.string if soup.title else \"No title found\"\n",
    "        print(f\"Успешно получен заголовок для {url}\")\n",
    "        return title\n",
    "    except requests.RequestException as e:\n",
    "        print(f\"Ошибка при получении заголовка для {url}: {e}\")\n",
    "        return f\"Error: {e}\"\n",
    "\n",
    "\n",
    "# Чтение ссылок из файла\n",
    "with open(\"/content/drive/MyDrive/pages.txt\", \"r\") as file:\n",
    "    links = file.read().splitlines()\n",
    "    print(f\"Прочитано {len(links)} ссылок из файла\")\n",
    "\n",
    "# Создание словаря ссылок и заголовков страниц\n",
    "pages = {}\n",
    "for link in links:\n",
    "    print(f\"Обработка ссылки: {link}\")\n",
    "    title = get_page_title(link)\n",
    "    pages[link] = title\n",
    "    if \"Error:\" in title:\n",
    "        print(f\"Не удалось получить заголовок для {link}\")\n",
    "    else:\n",
    "        print(f'Заголовок для {link}: \"{title}\"')\n",
    "\n",
    "# Вывод результатов\n",
    "# for link, title in pages.items():\n",
    "#     print(f'{link}: {title}')\n",
    "\n",
    "# Итоговый вывод\n",
    "successful = sum(1 for title in pages.values() if not title.startswith(\"Error:\"))\n",
    "failed = len(pages) - successful\n",
    "print(f\"Успешно получено заголовков: {successful}\")\n",
    "print(f\"Не удалось получить заголовков: {failed}\")"
   ]
  },
  {
   "cell_type": "markdown",
   "metadata": {
    "id": "0rLyDa_qDR-x"
   },
   "source": [
    "Записываем список страниц и их заголовков в файл pages.json:"
   ]
  },
  {
   "cell_type": "code",
   "execution_count": null,
   "metadata": {
    "id": "_iwzAR1P_Mp7"
   },
   "outputs": [],
   "source": [
    "import json\n",
    "\n",
    "with open(\"/content/drive/MyDrive/pages.json\", \"w\", encoding=\"utf-8\") as f:\n",
    "    json.dump(pages, f, ensure_ascii=False)"
   ]
  },
  {
   "cell_type": "markdown",
   "metadata": {
    "id": "F6ySqI7QM6g8"
   },
   "source": [
    "Для дальнейшей работы создадим необходимые директории:"
   ]
  },
  {
   "cell_type": "code",
   "execution_count": null,
   "metadata": {
    "id": "fgNzevRiL-_j"
   },
   "outputs": [],
   "source": [
    "import os\n",
    "\n",
    "\n",
    "def create_directory(directory_name):\n",
    "    if not os.path.exists(directory_name):\n",
    "        os.makedirs(directory_name)\n",
    "        print(f\"Папка '{directory_name}' успешно создана.\")\n",
    "    else:\n",
    "        print(f\"Папка '{directory_name}' уже существует.\")\n",
    "\n",
    "\n",
    "create_directory(\"/content/drive/MyDrive/html\")\n",
    "create_directory(\"/content/drive/MyDrive/text\")"
   ]
  },
  {
   "cell_type": "markdown",
   "metadata": {
    "id": "c2nfC1NJJzob"
   },
   "source": [
    "Теперь организуем скачивание всех страничек на диск в формате HTML с помощью команды wget:"
   ]
  },
  {
   "cell_type": "code",
   "execution_count": null,
   "metadata": {
    "colab": {
     "base_uri": "https://localhost:8080/"
    },
    "executionInfo": {
     "elapsed": 750994,
     "status": "ok",
     "timestamp": 1715959506468,
     "user": {
      "displayName": "Михаил Волков",
      "userId": "04805121734699826834"
     },
     "user_tz": -180
    },
    "id": "UuKhpQ9uXHJQ",
    "outputId": "3b161092-f64e-49f1-f5c0-45dee4b84978"
   },
   "outputs": [
    {
     "name": "stderr",
     "output_type": "stream",
     "text": [
      "Downloading pages: 100%|██████████| 697/697 [12:30<00:00,  1.08s/it]"
     ]
    },
    {
     "name": "stdout",
     "output_type": "stream",
     "text": [
      "Download complete.\n"
     ]
    },
    {
     "name": "stderr",
     "output_type": "stream",
     "text": [
      "\n"
     ]
    }
   ],
   "source": [
    "import json\n",
    "import os\n",
    "\n",
    "from tqdm import tqdm\n",
    "\n",
    "# Путь к файлу со списком ссылок в формате JSON\n",
    "links_file = \"/content/drive/MyDrive/pages.json\"\n",
    "\n",
    "# Директория для хранения загруженных HTML файлов\n",
    "html_dir = \"/content/drive/MyDrive/html\"\n",
    "os.makedirs(html_dir, exist_ok=True)\n",
    "\n",
    "# Загрузка списка ссылок из файла JSON\n",
    "with open(links_file, \"r\", encoding=\"utf-8\") as f:\n",
    "    urls = json.load(f)\n",
    "\n",
    "# Загрузка страниц с использованием wget\n",
    "for url in tqdm(urls, desc=\"Downloading pages\"):\n",
    "    # Создаем имя файла на основе URL\n",
    "    filename = os.path.join(html_dir, url.split(\"/\")[-1] + \".html\")\n",
    "    command = f'wget -O \"{filename}\" \"{url}\"'\n",
    "    os.system(command)\n",
    "\n",
    "print(\"Download complete.\")"
   ]
  },
  {
   "cell_type": "markdown",
   "metadata": {
    "id": "O1JLc0ij1Vwt"
   },
   "source": [
    "Далее переименуем названия страниц в соответствии с их заголовком"
   ]
  },
  {
   "cell_type": "code",
   "execution_count": null,
   "metadata": {
    "id": "Vl7XYpijSLYb"
   },
   "outputs": [],
   "source": [
    "import os\n",
    "import string\n",
    "\n",
    "from bs4 import BeautifulSoup\n",
    "\n",
    "\n",
    "def rename_html_files(source_directory, target_directory):\n",
    "    # Проверяем, существует ли целевая директория, если нет - создаем ее\n",
    "    if not os.path.exists(target_directory):\n",
    "        os.makedirs(target_directory)\n",
    "\n",
    "    # Проходим по всем файлам в исходной директории\n",
    "    for filename in os.listdir(source_directory):\n",
    "        if filename.endswith(\".html\") or filename.endswith(\".htm\"):\n",
    "            source_filepath = os.path.join(source_directory, filename)\n",
    "\n",
    "            # Открываем файл и читаем его содержимое\n",
    "            with open(source_filepath, \"r\", encoding=\"utf-8\") as file:\n",
    "                content = file.read()\n",
    "\n",
    "                # Используем BeautifulSoup для парсинга HTML\n",
    "                soup = BeautifulSoup(content, \"html.parser\")\n",
    "\n",
    "                # Извлекаем заголовок страницы\n",
    "                title = soup.title.string if soup.title else \"untitled\"\n",
    "\n",
    "                # Создаем новое имя файла из заголовка страницы\n",
    "                # Удаляем недопустимые символы для имен файлов\n",
    "                valid_chars = \"-_.() %s%s\" % (string.ascii_letters, string.digits)\n",
    "                new_filename = (\n",
    "                    \"\".join(\n",
    "                        c\n",
    "                        for c in title\n",
    "                        if c in valid_chars or c.isalpha() or c.isspace()\n",
    "                    )\n",
    "                    .strip()\n",
    "                    .replace(\" \", \"_\")\n",
    "                )\n",
    "\n",
    "                # Добавляем расширение .html к новому имени файла\n",
    "                new_filepath = os.path.join(target_directory, new_filename + \".html\")\n",
    "\n",
    "                # Переименовываем файл и копируем его в целевую директорию\n",
    "                with open(new_filepath, \"w\", encoding=\"utf-8\") as new_file:\n",
    "                    new_file.write(content)\n",
    "                print(f\"Copied and renamed '{filename}' to '{new_filename}.html'\")\n",
    "\n",
    "\n",
    "# Пути к исходной и целевой папкам\n",
    "source_directory_path = \"/content/drive/MyDrive/html\"\n",
    "target_directory_path = \"/content/drive/MyDrive/html_new\"\n",
    "\n",
    "rename_html_files(source_directory_path, target_directory_path)"
   ]
  },
  {
   "cell_type": "markdown",
   "metadata": {
    "id": "K5219WYtJzoc"
   },
   "source": [
    "### Извлекаем текст из страниц"
   ]
  },
  {
   "cell_type": "markdown",
   "metadata": {
    "id": "PdSPm4X0Jzoc"
   },
   "source": [
    "Для извлечения текста из страничек, мы будем использовать библиотеку [BeautifulSoup](https://beautiful-soup-4.readthedocs.io/en/latest/https://beautiful-soup-4.readthedocs.io/en/latest/)."
   ]
  },
  {
   "cell_type": "code",
   "execution_count": null,
   "metadata": {
    "id": "5N5HjA30Jzoc"
   },
   "outputs": [],
   "source": [
    "import os\n",
    "import re\n",
    "import string\n",
    "\n",
    "from bs4 import BeautifulSoup\n",
    "\n",
    "\n",
    "def sanitize_filename(filename):\n",
    "    # Удаляем недопустимые символы\n",
    "    filename = re.sub(r'[\\\\/*?:\"<>|]', \"\", filename)\n",
    "    # Ограничиваем длину имени файла до 100 символов\n",
    "    return filename[:100]\n",
    "\n",
    "\n",
    "def rename_html_files(source_directory, target_directory):\n",
    "    # Проверяем, существует ли целевая директория, если нет - создаем ее\n",
    "    if not os.path.exists(target_directory):\n",
    "        os.makedirs(target_directory)\n",
    "\n",
    "    # Проходим по всем файлам в исходной директории\n",
    "    for filename in os.listdir(source_directory):\n",
    "        if filename.endswith(\".html\") or filename.endswith(\".htm\"):\n",
    "            source_filepath = os.path.join(source_directory, filename)\n",
    "\n",
    "            # Пытаемся открыть файл с кодировкой utf-8\n",
    "            try:\n",
    "                with open(source_filepath, \"r\", encoding=\"utf-8\") as file:\n",
    "                    content = file.read()\n",
    "            except UnicodeDecodeError:\n",
    "                print(f\"Skipping file due to encoding issues: {filename}\")\n",
    "                continue\n",
    "\n",
    "            # Используем BeautifulSoup для парсинга HTML\n",
    "            soup = BeautifulSoup(content, \"html.parser\")\n",
    "\n",
    "            # Извлекаем заголовок страницы\n",
    "            title = soup.title.string if soup.title else \"untitled\"\n",
    "\n",
    "            # Создаем новое имя файла из заголовка страницы\n",
    "            # Удаляем недопустимые символы для имен файлов\n",
    "            valid_chars = \"-_.() %s%s\" % (string.ascii_letters, string.digits)\n",
    "            new_filename = (\n",
    "                \"\".join(\n",
    "                    c for c in title if c in valid_chars or c.isalpha() or c.isspace()\n",
    "                )\n",
    "                .strip()\n",
    "                .replace(\" \", \"_\")\n",
    "            )\n",
    "\n",
    "            # Санируем новое имя файла\n",
    "            new_filename = sanitize_filename(new_filename)\n",
    "\n",
    "            # Добавляем расширение .html к новому имени файла\n",
    "            new_filepath = os.path.join(target_directory, new_filename + \".html\")\n",
    "\n",
    "            # Проверяем, существует ли уже файл с таким именем, если да, добавляем суффикс\n",
    "            counter = 1\n",
    "            original_new_filepath = new_filepath\n",
    "            while os.path.exists(new_filepath):\n",
    "                new_filepath = f\"{original_new_filepath[:-5]}_{counter}.html\"\n",
    "                counter += 1\n",
    "\n",
    "            # Переименовываем файл и копируем его в целевую директорию\n",
    "            with open(new_filepath, \"w\", encoding=\"utf-8\") as new_file:\n",
    "                new_file.write(content)\n",
    "            print(f\"Copied and renamed '{filename}' to '{new_filename}.html'\")\n",
    "\n",
    "\n",
    "# Укажите пути к исходной и целевой папкам\n",
    "source_directory_path = \"/content/drive/MyDrive/html\"\n",
    "target_directory_path = \"/content/drive/MyDrive/html_new\"\n",
    "\n",
    "rename_html_files(source_directory_path, target_directory_path)"
   ]
  },
  {
   "cell_type": "markdown",
   "metadata": {
    "id": "fEIaKPywJzoc"
   },
   "source": [
    "Теперь пройдёмся по всем страничкам в директории `content/html`, и запишем в директорию `content/text` текстовые эквиваленты."
   ]
  },
  {
   "cell_type": "code",
   "execution_count": null,
   "metadata": {
    "colab": {
     "base_uri": "https://localhost:8080/"
    },
    "executionInfo": {
     "elapsed": 86271,
     "status": "ok",
     "timestamp": 1715963738439,
     "user": {
      "displayName": "Михаил Волков",
      "userId": "04805121734699826834"
     },
     "user_tz": -180
    },
    "id": "fdgI2N1EJzoc",
    "outputId": "4baba6b3-38a7-40cc-ec31-827c421eeaab"
   },
   "outputs": [
    {
     "name": "stderr",
     "output_type": "stream",
     "text": [
      "  1%|          | 6/629 [00:01<02:15,  4.60it/s]"
     ]
    },
    {
     "name": "stdout",
     "output_type": "stream",
     "text": [
      "Body element not found\n",
      "<!DOCTYPE html>\n",
      "<html lang=\"ru\">\n",
      " <head>\n",
      "  <title>\n",
      "   IT-магистратура в Москве\n",
      "  </title>\n",
      "  <meta charset=\"utf-8\"/>\n",
      "  <meta content=\"width=device-width, initial-scale=1\" name=\"viewport\"/>\n",
      "  <meta content=\"#f5f5f5\" name=\"theme-color\"/>\n",
      "  <meta content=\"website\" property=\"og:type\"/>\n",
      "  <meta content=\"IT-магистратура в Москве\" property=\"og:title\"/>\n",
      "  <meta content=\"https://priem.mai.ru//it/\" property=\"og:url\"/>\n",
      "  <meta content=\"1323748498089307\" property=\"fb:app_id\"/>\n",
      "  <meta content=\"IT-магистратура в Москве\" property=\"twitter:title\"/>\n",
      "  <meta content=\"@MAIuniversity\" property=\"twitter:site\"/>\n",
      "  <meta content=\"summary_large_image\" property=\"twitter:card\"/>\n",
      "  <meta content=\"Все образовательные программы IT-магистратуры МАИ. Московский авиационный институт входит в тройку лидеров ВУЗов, выпускающих на рынок труда самых востребованных специалистов в сфере информационных технологий согласно рейтингу HeadHunter.\" property=\"og:description\"/>\n",
      "  <meta content=\"Все образовательные программы IT-маг\n"
     ]
    },
    {
     "name": "stderr",
     "output_type": "stream",
     "text": [
      "  7%|▋         | 42/629 [00:08<00:54, 10.76it/s]"
     ]
    },
    {
     "name": "stdout",
     "output_type": "stream",
     "text": [
      "Body element not found\n",
      "<!DOCTYPE html>\n",
      "<html lang=\"ru\">\n",
      " <head>\n",
      "  <title>\n",
      "   Календарь абитуриента\n",
      "  </title>\n",
      "  <meta charset=\"utf-8\"/>\n",
      "  <meta content=\"width=device-width, initial-scale=1\" name=\"viewport\"/>\n",
      "  <meta content=\"#f5f5f5\" name=\"theme-color\"/>\n",
      "  <meta content=\"website\" property=\"og:type\"/>\n",
      "  <meta content=\"Календарь абитуриента\" property=\"og:title\"/>\n",
      "  <meta content=\"https://priem.mai.ru//calendar/\" property=\"og:url\"/>\n",
      "  <meta content=\"1323748498089307\" property=\"fb:app_id\"/>\n",
      "  <meta content=\"Календарь абитуриента\" property=\"twitter:title\"/>\n",
      "  <meta content=\"@MAIuniversity\" property=\"twitter:site\"/>\n",
      "  <meta content=\"summary_large_image\" property=\"twitter:card\"/>\n",
      "  <meta content=\"День открытых дверей, сроки приёма, мастер-классы, университетские субботы\" property=\"og:description\"/>\n",
      "  <meta content=\"День открытых дверей, сроки приёма, мастер-классы, университетские субботы\" property=\"twitter:description\"/>\n",
      "  <meta content=\"Календарь абитуриента\" property=\"og:image:alt\"/>\n",
      "  <meta content=\"https://dev\n"
     ]
    },
    {
     "name": "stderr",
     "output_type": "stream",
     "text": [
      "100%|██████████| 629/629 [01:25<00:00,  7.32it/s]"
     ]
    },
    {
     "name": "stdout",
     "output_type": "stream",
     "text": [
      "Processing complete.\n"
     ]
    },
    {
     "name": "stderr",
     "output_type": "stream",
     "text": [
      "\n"
     ]
    }
   ],
   "source": [
    "import os\n",
    "import re\n",
    "\n",
    "from bs4 import BeautifulSoup\n",
    "from tqdm import tqdm\n",
    "\n",
    "\n",
    "# Функция для извлечения текста и заголовка из HTML с отладочной информацией\n",
    "def get_text(html):\n",
    "    soup = BeautifulSoup(html, \"html.parser\")\n",
    "\n",
    "    # Ищем заголовок страницы\n",
    "    title_element = soup.find(\"title\")\n",
    "    if not title_element:\n",
    "        print(\"Title element not found\")\n",
    "        print(\n",
    "            soup.prettify()[:1000]\n",
    "        )  # Печатаем первые 1000 символов HTML для диагностики\n",
    "    title = title_element.text if title_element else \"No title found\"\n",
    "\n",
    "    # Ищем основной контент страницы\n",
    "    body_element = soup.find(\"div\", {\"class\": \"page-wrapper\"})\n",
    "    if not body_element:\n",
    "        print(\"Body element not found\")\n",
    "        print(\n",
    "            soup.prettify()[:1000]\n",
    "        )  # Печатаем первые 1000 символов HTML для диагностики\n",
    "    body = body_element.text if body_element else \"No content found\"\n",
    "\n",
    "    # Собираем полный текст страницы\n",
    "    text = f\"{title}\\n{body}\"\n",
    "    return title, text\n",
    "\n",
    "\n",
    "# Полный путь к директории с HTML файлами\n",
    "html_dir = \"/content/drive/MyDrive/html_new\"\n",
    "# Создание директории для текстовых файлов\n",
    "text_dir = \"/content/drive/MyDrive/text\"\n",
    "os.makedirs(text_dir, exist_ok=True)\n",
    "\n",
    "# Процесс извлечения текста и записи его в файлы\n",
    "for fn in tqdm(os.listdir(html_dir)):\n",
    "    if fn.endswith(\".html\"):  # Проверка расширения файла\n",
    "        filepath = os.path.join(html_dir, fn)\n",
    "        with open(filepath, \"r\", encoding=\"utf-8\") as file:\n",
    "            html = file.read()\n",
    "\n",
    "        try:\n",
    "            title, all_text = get_text(html)\n",
    "        except Exception as e:\n",
    "            print(f\"Error processing {fn}: {e}\")\n",
    "            continue\n",
    "\n",
    "        # Замена нескольких подряд идущих пустых строк на одну\n",
    "        all_text = re.sub(r\"[\\r\\n]{4,}\", r\"\\r\\n\", all_text)\n",
    "        text_filename = os.path.join(text_dir, f\"{fn[:-5]}.txt\")\n",
    "\n",
    "        with open(text_filename, \"w\", encoding=\"utf-8\") as f:\n",
    "            f.write(f\"## {title}\\n\")\n",
    "            f.write(all_text)\n",
    "\n",
    "print(\"Processing complete.\")"
   ]
  },
  {
   "cell_type": "markdown",
   "metadata": {
    "id": "KIy_meJJJzoc"
   },
   "source": [
    "Теперь запишем содержимое `class_info` в отдельные файлы, начинающиеся с `class_`. Эти тексты тоже могут нам пригодиться для формирования ответов."
   ]
  },
  {
   "cell_type": "code",
   "execution_count": null,
   "metadata": {
    "id": "7iL-O1jhJzoc"
   },
   "outputs": [],
   "source": [
    "class_info = set()\n",
    "\n",
    "d = {}\n",
    "for x in class_info:\n",
    "    name = x.split(\"\\r\")[0].split(\"\\n\")[0]\n",
    "    if name not in d:\n",
    "        d[name] = x\n",
    "    else:\n",
    "        if len(x) < len(d[name]):\n",
    "            d[name] = x\n",
    "for k, v in d.items():\n",
    "    with open(f\"/content/drive/MyDrive/text/class_{k}.txt\", \"w\", encoding=\"utf-8\") as f:\n",
    "        f.write(v)"
   ]
  },
  {
   "cell_type": "markdown",
   "metadata": {
    "id": "TvLhaXdBJzoc"
   },
   "source": [
    "# 2. Строим вопрос-ответного бота по технологии Retrieval-Augmented Generation на LangChain"
   ]
  },
  {
   "cell_type": "markdown",
   "metadata": {
    "id": "OU7VZhm_Jzod"
   },
   "source": [
    "## Разбиваем документ на части"
   ]
  },
  {
   "cell_type": "markdown",
   "metadata": {
    "id": "5aFTugiqJzod"
   },
   "source": [
    "Для работы retrival augmented generation нам необходимо по запросу найти наиболее релевантные фрагменты исходного текста, на основе которых будет формироваться ответ. Для этого нам надо разбить текст на такие фрагменты, по которым мы сможем вычислять эмбеддинг, и которые будут с запасом помещаться во входное окно используемой большой языковой модели.\n",
    "\n",
    "Для этого можно использовать механизмы фреймворка LangChain - например, `RecursiveCharacterTextSplitter`. Он разбивает текст на перекрывающиеся фрагменты по набору типовых разделителей - абзацы, переводы строк, разделители слов."
   ]
  },
  {
   "cell_type": "markdown",
   "metadata": {
    "id": "_8ew_JNnWZBL",
    "tags": []
   },
   "source": [
    "#### Тестовая версия (обрабатываются первые 5 файлов)"
   ]
  },
  {
   "cell_type": "code",
   "execution_count": 2,
   "metadata": {
    "colab": {
     "base_uri": "https://localhost:8080/"
    },
    "execution": {
     "iopub.execute_input": "2024-05-27T22:09:14.188318Z",
     "iopub.status.busy": "2024-05-27T22:09:14.187183Z",
     "iopub.status.idle": "2024-05-27T22:11:15.297298Z",
     "shell.execute_reply": "2024-05-27T22:11:15.296467Z",
     "shell.execute_reply.started": "2024-05-27T22:09:14.188278Z"
    },
    "executionInfo": {
     "elapsed": 222671,
     "status": "ok",
     "timestamp": 1716399817901,
     "user": {
      "displayName": "Михаил Волков",
      "userId": "04805121734699826834"
     },
     "user_tz": -180
    },
    "id": "4YTw2mUIWVrI",
    "outputId": "2f25195a-a40b-4d73-d981-3eed6c3b1e26",
    "tags": []
   },
   "outputs": [
    {
     "name": "stderr",
     "output_type": "stream",
     "text": [
      "100%|█████████▉| 629/630 [02:00<00:00,  5.21it/s]"
     ]
    },
    {
     "name": "stdout",
     "output_type": "stream",
     "text": [
      "Общее количество фрагментов: 32\n"
     ]
    },
    {
     "name": "stderr",
     "output_type": "stream",
     "text": [
      "\n"
     ]
    }
   ],
   "source": [
    "import langchain\n",
    "import langchain.document_loaders\n",
    "from langchain.text_splitter import RecursiveCharacterTextSplitter\n",
    "\n",
    "user = \"rep-res\"\n",
    "chunk_size = 1024\n",
    "chunk_overlap = 50\n",
    "source_dir = \"text\"\n",
    "\n",
    "# Загрузчик документов из директории\n",
    "loader = langchain.document_loaders.DirectoryLoader(\n",
    "    source_dir, glob=\"*.txt\", show_progress=True, recursive=True\n",
    ")\n",
    "\n",
    "# Загрузка всех документов\n",
    "all_documents = loader.load()\n",
    "\n",
    "# Ограничение на первые 20 документов\n",
    "documents = all_documents[:5]\n",
    "\n",
    "# Разделитель текста на фрагменты\n",
    "splitter = RecursiveCharacterTextSplitter(\n",
    "    chunk_size=chunk_size, chunk_overlap=chunk_overlap\n",
    ")\n",
    "\n",
    "# Разделение отфильтрованных документов на фрагменты\n",
    "# fragments = splitter.create_documents([x.page_content for x in documents])\n",
    "fragments = splitter.split_documents(documents)\n",
    "\n",
    "print(f\"Общее количество фрагментов: {len(fragments)}\")"
   ]
  },
  {
   "cell_type": "markdown",
   "metadata": {
    "id": "6_FN07K-WdrU",
    "jp-MarkdownHeadingCollapsed": true,
    "tags": []
   },
   "source": [
    "#### Полная версия (обрабатываются все файлы)"
   ]
  },
  {
   "cell_type": "code",
   "execution_count": 12,
   "metadata": {
    "colab": {
     "background_save": true,
     "base_uri": "https://localhost:8080/"
    },
    "execution": {
     "iopub.execute_input": "2024-05-25T08:26:20.173271Z",
     "iopub.status.busy": "2024-05-25T08:26:20.172205Z",
     "iopub.status.idle": "2024-05-25T08:28:26.606238Z",
     "shell.execute_reply": "2024-05-25T08:28:26.605348Z",
     "shell.execute_reply.started": "2024-05-25T08:26:20.173230Z"
    },
    "id": "GAOJOwUAJzod",
    "outputId": "0354c2d5-3c48-4b15-eca8-faaf690ebaa5",
    "tags": []
   },
   "outputs": [
    {
     "name": "stderr",
     "output_type": "stream",
     "text": [
      "100%|██████████| 629/629 [02:05<00:00,  5.03it/s]\n"
     ]
    },
    {
     "name": "stdout",
     "output_type": "stream",
     "text": [
      "Общее количество фрагментов: 9683\n"
     ]
    }
   ],
   "source": [
    "import langchain\n",
    "import langchain.document_loaders as loaders\n",
    "from langchain.text_splitter import RecursiveCharacterTextSplitter\n",
    "\n",
    "user = \"rep-res\"\n",
    "chunk_size = 1024\n",
    "chunk_overlap = 50\n",
    "source_dir = \"text\"\n",
    "\n",
    "# Загрузчик документов из директории\n",
    "loader = loaders.DirectoryLoader(\n",
    "    source_dir, glob=\"*.txt\", show_progress=True, recursive=True\n",
    ")\n",
    "\n",
    "# Разделитель текста на фрагменты\n",
    "splitter = RecursiveCharacterTextSplitter(\n",
    "    chunk_size=chunk_size, chunk_overlap=chunk_overlap\n",
    ")\n",
    "\n",
    "# Загрузка и разделение текстов на фрагменты\n",
    "documents = loader.load()\n",
    "# fragments = splitter.create_documents([doc.page_content for doc in documents])\n",
    "fragments = splitter.split_documents(documents)\n",
    "\n",
    "print(f\"Общее количество фрагментов: {len(fragments)}\")"
   ]
  },
  {
   "cell_type": "markdown",
   "metadata": {
    "id": "QHeuVe1wJzod"
   },
   "source": [
    "## Вычисляем эмбеддинги для всех фрагментов\n",
    "\n",
    "Для вычисления эмбеддингов берем модель из репозитория HuggingFace под названием distiluse-base-multilingual-cased-v1:"
   ]
  },
  {
   "cell_type": "code",
   "execution_count": 3,
   "metadata": {
    "colab": {
     "base_uri": "https://localhost:8080/"
    },
    "execution": {
     "iopub.execute_input": "2024-05-27T22:11:20.408414Z",
     "iopub.status.busy": "2024-05-27T22:11:20.407347Z",
     "iopub.status.idle": "2024-05-27T22:11:27.059571Z",
     "shell.execute_reply": "2024-05-27T22:11:27.058793Z",
     "shell.execute_reply.started": "2024-05-27T22:11:20.408372Z"
    },
    "executionInfo": {
     "elapsed": 1967,
     "status": "ok",
     "timestamp": 1716400880780,
     "user": {
      "displayName": "Михаил Волков",
      "userId": "04805121734699826834"
     },
     "user_tz": -180
    },
    "id": "0uryZFcspD5I",
    "outputId": "70eb1347-9cb7-446d-e78b-1e448d094290",
    "tags": []
   },
   "outputs": [
    {
     "name": "stderr",
     "output_type": "stream",
     "text": [
      "/home/jupyter/.local/lib/python3.10/site-packages/transformers/utils/hub.py:124: FutureWarning: Using `TRANSFORMERS_CACHE` is deprecated and will be removed in v5 of Transformers. Use `HF_HOME` instead.\n",
      "  warnings.warn(\n"
     ]
    },
    {
     "data": {
      "text/plain": [
       "512"
      ]
     },
     "execution_count": 3,
     "metadata": {},
     "output_type": "execute_result"
    }
   ],
   "source": [
    "from langchain.embeddings import HuggingFaceEmbeddings\n",
    "\n",
    "# Инициализация модели эмбеддингов\n",
    "embeddings = HuggingFaceEmbeddings(model_name=\"distiluse-base-multilingual-cased-v1\")\n",
    "\n",
    "# Вычисление эмбеддингов для всех фрагментов с прогресс-баром\n",
    "sample_vec = embeddings.embed_query(\"Hello, world!\")\n",
    "len(sample_vec)"
   ]
  },
  {
   "cell_type": "markdown",
   "metadata": {
    "id": "w-_ygmTnJzod"
   },
   "source": [
    "Также пробуем использовать более продвинутую модель [эмбеддингов от Yandex GPT](https://cloud.yandex.ru/docs/yandexgpt/api-ref/Embeddings/). Для работы с ней используем библиотеку [yandex_chain](http://githib.com/yandex-datasphere/yandex-chain), поскольку соответствующая поддержка пока не появилась в LangChain."
   ]
  },
  {
   "cell_type": "code",
   "execution_count": 4,
   "metadata": {
    "colab": {
     "base_uri": "https://localhost:8080/"
    },
    "execution": {
     "iopub.execute_input": "2024-05-27T22:11:29.092206Z",
     "iopub.status.busy": "2024-05-27T22:11:29.090901Z",
     "iopub.status.idle": "2024-05-27T22:11:29.398592Z",
     "shell.execute_reply": "2024-05-27T22:11:29.397803Z",
     "shell.execute_reply.started": "2024-05-27T22:11:29.092163Z"
    },
    "executionInfo": {
     "elapsed": 1815,
     "status": "ok",
     "timestamp": 1716400888646,
     "user": {
      "displayName": "Михаил Волков",
      "userId": "04805121734699826834"
     },
     "user_tz": -180
    },
    "id": "xPia92oaJzod",
    "outputId": "90d4d097-3377-4c7d-be13-c074aacc1af8",
    "tags": []
   },
   "outputs": [
    {
     "name": "stdout",
     "output_type": "stream",
     "text": [
      "Sample vector length for Yandex: 256\n"
     ]
    }
   ],
   "source": [
    "from yandex_chain import YandexEmbeddings\n",
    "from chromadb import Documents, EmbeddingFunction, Embeddings\n",
    "\n",
    "# Инициализация модели эмбеддингов Yandex GPT\n",
    "embeddings = YandexEmbeddings(folder_id=folder_id, api_key=api_key)\n",
    "\n",
    "# Вычисление эмбеддингов\n",
    "vec = embeddings.embed_query(\"Hello, world!\")\n",
    "sample_vector_length = len(embeddings.embed_query(\"Hello World\"))\n",
    "print(f\"Sample vector length for Yandex: {sample_vector_length}\")"
   ]
  },
  {
   "cell_type": "code",
   "execution_count": 16,
   "metadata": {
    "execution": {
     "iopub.execute_input": "2024-05-27T22:37:22.715738Z",
     "iopub.status.busy": "2024-05-27T22:37:22.714570Z",
     "iopub.status.idle": "2024-05-27T22:37:22.729944Z",
     "shell.execute_reply": "2024-05-27T22:37:22.729272Z",
     "shell.execute_reply.started": "2024-05-27T22:37:22.715676Z"
    },
    "tags": []
   },
   "outputs": [],
   "source": [
    "import os\n",
    "from yandex_chain import YandexEmbeddings\n",
    "from chromadb import Documents, EmbeddingFunction, Embeddings\n",
    "from langchain.embeddings import OpenAIEmbeddings\n",
    "\n",
    "class MyEmbeddingFunction(EmbeddingFunction):\n",
    "    def __init__(self, folder_id, api_key):\n",
    "        self.embeddings = YandexEmbeddings(folder_id=folder_id, api_key=api_key)\n",
    "\n",
    "    def __call__(self, input: Documents) -> Embeddings:\n",
    "        return [self.embeddings.embed_query(doc) for doc in input]\n",
    "    \n",
    "    def embed_documents(self, documents: Documents) -> Embeddings:\n",
    "        return self.__call__(documents)\n",
    "    \n",
    "    def embed_query(self, query: str) -> Embeddings:\n",
    "        return self.embeddings.embed_query(query)\n",
    "\n",
    "embedding_function = MyEmbeddingFunction(folder_id, api_key)"
   ]
  },
  {
   "cell_type": "markdown",
   "metadata": {
    "id": "TJMUD1d5Jzod"
   },
   "source": [
    "### Cохраняем эмбеддинги  в векторную БД\n",
    "\n",
    "Для поиска нам нужно уметь быстро сопоставлять эмбеддинг запроса, и эмбеддинги всех фрагементов наших исходных материалов. Для этого используются векторные базы данных. Для нашего примера мы используем небольшую векторную БД [LanceDB](https://lancedb.com/), хранящую индекс в директории на диске.\n",
    "\n",
    "Первоначально создадим базу данных, добавив туда одну строчку:"
   ]
  },
  {
   "cell_type": "code",
   "execution_count": 6,
   "metadata": {
    "execution": {
     "iopub.status.idle": "2024-05-27T22:01:52.607623Z",
     "shell.execute_reply": "2024-05-27T22:01:52.606801Z",
     "shell.execute_reply.started": "2024-05-27T22:01:13.920942Z"
    },
    "scrolled": true,
    "tags": []
   },
   "outputs": [
    {
     "name": "stdout",
     "output_type": "stream",
     "text": [
      "Collecting typing-extensions>=4.5.0 (from chromadb)\n",
      "  Downloading typing_extensions-4.12.0-py3-none-any.whl.metadata (3.0 kB)\n",
      "Collecting fastapi-cli>=0.0.2 (from fastapi>=0.95.2->chromadb)\n",
      "  Downloading fastapi_cli-0.0.4-py3-none-any.whl.metadata (7.0 kB)\n",
      "Requirement already satisfied: httpx>=0.23.0 in /home/jupyter/.local/lib/python3.10/site-packages (from fastapi>=0.95.2->chromadb) (0.25.2)\n",
      "Requirement already satisfied: jinja2>=2.11.2 in /usr/local/lib/python3.10/dist-packages (from fastapi>=0.95.2->chromadb) (3.1.2)\n",
      "Collecting python-multipart>=0.0.7 (from fastapi>=0.95.2->chromadb)\n",
      "  Downloading python_multipart-0.0.9-py3-none-any.whl.metadata (2.5 kB)\n",
      "Collecting ujson!=4.0.2,!=4.1.0,!=4.2.0,!=4.3.0,!=5.0.0,!=5.1.0,>=4.0.1 (from fastapi>=0.95.2->chromadb)\n",
      "  Downloading ujson-5.10.0-cp310-cp310-manylinux_2_17_x86_64.manylinux2014_x86_64.whl.metadata (9.3 kB)\n",
      "Collecting email_validator>=2.0.0 (from fastapi>=0.95.2->chromadb)\n",
      "  Downloading email_validator-2.1.1-py3-none-any.whl.metadata (26 kB)\n",
      "Requirement already satisfied: certifi>=14.05.14 in /usr/local/lib/python3.10/dist-packages (from kubernetes>=28.1.0->chromadb) (2023.7.22)\n",
      "Requirement already satisfied: six>=1.9.0 in /usr/lib/python3/dist-packages (from kubernetes>=28.1.0->chromadb) (1.16.0)\n",
      "Requirement already satisfied: python-dateutil>=2.5.3 in /usr/local/lib/python3.10/dist-packages (from kubernetes>=28.1.0->chromadb) (2.8.2)\n",
      "Requirement already satisfied: google-auth>=1.0.1 in /usr/local/lib/python3.10/dist-packages (from kubernetes>=28.1.0->chromadb) (2.17.3)\n",
      "Requirement already satisfied: websocket-client!=0.40.0,!=0.41.*,!=0.42.*,>=0.32.0 in /usr/local/lib/python3.10/dist-packages (from kubernetes>=28.1.0->chromadb) (1.6.1)\n",
      "Requirement already satisfied: requests-oauthlib in /usr/local/lib/python3.10/dist-packages (from kubernetes>=28.1.0->chromadb) (1.3.1)\n",
      "Requirement already satisfied: oauthlib>=3.2.2 in /usr/local/lib/python3.10/dist-packages (from kubernetes>=28.1.0->chromadb) (3.2.2)\n",
      "Requirement already satisfied: urllib3>=1.24.2 in /home/jupyter/.local/lib/python3.10/site-packages (from kubernetes>=28.1.0->chromadb) (2.2.1)\n",
      "Collecting coloredlogs (from onnxruntime>=1.14.1->chromadb)\n",
      "  Downloading coloredlogs-15.0.1-py2.py3-none-any.whl.metadata (12 kB)\n",
      "Requirement already satisfied: flatbuffers in /usr/local/lib/python3.10/dist-packages (from onnxruntime>=1.14.1->chromadb) (23.5.26)\n",
      "Requirement already satisfied: protobuf in /home/jupyter/.local/lib/python3.10/site-packages (from onnxruntime>=1.14.1->chromadb) (4.25.3)\n",
      "Requirement already satisfied: sympy in /usr/local/lib/python3.10/dist-packages (from onnxruntime>=1.14.1->chromadb) (1.11.1)\n",
      "Collecting deprecated>=1.2.6 (from opentelemetry-api>=1.2.0->chromadb)\n",
      "  Downloading Deprecated-1.2.14-py2.py3-none-any.whl.metadata (5.4 kB)\n",
      "Collecting importlib-metadata<=7.0,>=6.0 (from opentelemetry-api>=1.2.0->chromadb)\n",
      "  Downloading importlib_metadata-7.0.0-py3-none-any.whl.metadata (4.9 kB)\n",
      "Requirement already satisfied: googleapis-common-protos~=1.52 in /usr/local/lib/python3.10/dist-packages (from opentelemetry-exporter-otlp-proto-grpc>=1.2.0->chromadb) (1.59.1)\n",
      "Collecting opentelemetry-exporter-otlp-proto-common==1.24.0 (from opentelemetry-exporter-otlp-proto-grpc>=1.2.0->chromadb)\n",
      "  Downloading opentelemetry_exporter_otlp_proto_common-1.24.0-py3-none-any.whl.metadata (1.7 kB)\n",
      "Collecting opentelemetry-proto==1.24.0 (from opentelemetry-exporter-otlp-proto-grpc>=1.2.0->chromadb)\n",
      "  Downloading opentelemetry_proto-1.24.0-py3-none-any.whl.metadata (2.2 kB)\n",
      "Collecting opentelemetry-instrumentation-asgi==0.45b0 (from opentelemetry-instrumentation-fastapi>=0.41b0->chromadb)\n",
      "  Downloading opentelemetry_instrumentation_asgi-0.45b0-py3-none-any.whl.metadata (1.9 kB)\n",
      "Collecting opentelemetry-instrumentation==0.45b0 (from opentelemetry-instrumentation-fastapi>=0.41b0->chromadb)\n",
      "  Downloading opentelemetry_instrumentation-0.45b0-py3-none-any.whl.metadata (6.1 kB)\n",
      "Collecting opentelemetry-semantic-conventions==0.45b0 (from opentelemetry-instrumentation-fastapi>=0.41b0->chromadb)\n",
      "  Downloading opentelemetry_semantic_conventions-0.45b0-py3-none-any.whl.metadata (2.2 kB)\n",
      "Collecting opentelemetry-util-http==0.45b0 (from opentelemetry-instrumentation-fastapi>=0.41b0->chromadb)\n",
      "  Downloading opentelemetry_util_http-0.45b0-py3-none-any.whl.metadata (2.4 kB)\n",
      "Requirement already satisfied: setuptools>=16.0 in /kernel/lib/python3.10/site-packages (from opentelemetry-instrumentation==0.45b0->opentelemetry-instrumentation-fastapi>=0.41b0->chromadb) (65.5.0)\n",
      "Requirement already satisfied: wrapt<2.0.0,>=1.0.0 in /usr/local/lib/python3.10/dist-packages (from opentelemetry-instrumentation==0.45b0->opentelemetry-instrumentation-fastapi>=0.41b0->chromadb) (1.14.1)\n",
      "Collecting asgiref~=3.0 (from opentelemetry-instrumentation-asgi==0.45b0->opentelemetry-instrumentation-fastapi>=0.41b0->chromadb)\n",
      "  Downloading asgiref-3.8.1-py3-none-any.whl.metadata (9.3 kB)\n",
      "Collecting monotonic>=1.5 (from posthog>=2.4.0->chromadb)\n",
      "  Downloading monotonic-1.6-py2.py3-none-any.whl.metadata (1.5 kB)\n",
      "Requirement already satisfied: backoff>=1.10.0 in /home/jupyter/.local/lib/python3.10/site-packages (from posthog>=2.4.0->chromadb) (2.2.1)\n",
      "Requirement already satisfied: charset-normalizer<4,>=2 in /home/jupyter/.local/lib/python3.10/site-packages (from requests>=2.28->chromadb) (3.3.2)\n",
      "Requirement already satisfied: idna<4,>=2.5 in /usr/local/lib/python3.10/dist-packages (from requests>=2.28->chromadb) (3.4)\n",
      "Requirement already satisfied: huggingface-hub<1.0,>=0.16.4 in /home/jupyter/.local/lib/python3.10/site-packages (from tokenizers>=0.13.2->chromadb) (0.22.2)\n",
      "Requirement already satisfied: click<9.0.0,>=7.1.1 in /usr/local/lib/python3.10/dist-packages (from typer>=0.9.0->chromadb) (8.1.6)\n",
      "Requirement already satisfied: h11>=0.8 in /home/jupyter/.local/lib/python3.10/site-packages (from uvicorn>=0.18.3->uvicorn[standard]>=0.18.3->chromadb) (0.14.0)\n",
      "Collecting httptools>=0.5.0 (from uvicorn[standard]>=0.18.3->chromadb)\n",
      "  Downloading httptools-0.6.1-cp310-cp310-manylinux_2_5_x86_64.manylinux1_x86_64.manylinux_2_17_x86_64.manylinux2014_x86_64.whl.metadata (3.6 kB)\n",
      "Collecting python-dotenv>=0.13 (from uvicorn[standard]>=0.18.3->chromadb)\n",
      "  Downloading python_dotenv-1.0.1-py3-none-any.whl.metadata (23 kB)\n",
      "Collecting uvloop!=0.15.0,!=0.15.1,>=0.14.0 (from uvicorn[standard]>=0.18.3->chromadb)\n",
      "  Downloading uvloop-0.19.0-cp310-cp310-manylinux_2_17_x86_64.manylinux2014_x86_64.whl.metadata (4.9 kB)\n",
      "Collecting watchfiles>=0.13 (from uvicorn[standard]>=0.18.3->chromadb)\n",
      "  Downloading watchfiles-0.22.0-cp310-cp310-manylinux_2_17_x86_64.manylinux2014_x86_64.whl.metadata (4.9 kB)\n",
      "Collecting websockets>=10.4 (from uvicorn[standard]>=0.18.3->chromadb)\n",
      "  Downloading websockets-12.0-cp310-cp310-manylinux_2_5_x86_64.manylinux1_x86_64.manylinux_2_17_x86_64.manylinux2014_x86_64.whl.metadata (6.6 kB)\n",
      "Collecting dnspython>=2.0.0 (from email_validator>=2.0.0->fastapi>=0.95.2->chromadb)\n",
      "  Downloading dnspython-2.6.1-py3-none-any.whl.metadata (5.8 kB)\n",
      "Collecting typer>=0.9.0 (from chromadb)\n",
      "  Downloading typer-0.12.3-py3-none-any.whl.metadata (15 kB)\n",
      "Collecting shellingham>=1.3.0 (from typer>=0.9.0->chromadb)\n",
      "  Downloading shellingham-1.5.4-py2.py3-none-any.whl.metadata (3.5 kB)\n",
      "Requirement already satisfied: rich>=10.11.0 in /usr/local/lib/python3.10/dist-packages (from typer>=0.9.0->chromadb) (13.4.2)\n",
      "Requirement already satisfied: cachetools<6.0,>=2.0.0 in /usr/local/lib/python3.10/dist-packages (from google-auth>=1.0.1->kubernetes>=28.1.0->chromadb) (5.3.1)\n",
      "Requirement already satisfied: pyasn1-modules>=0.2.1 in /usr/local/lib/python3.10/dist-packages (from google-auth>=1.0.1->kubernetes>=28.1.0->chromadb) (0.3.0)\n",
      "Requirement already satisfied: rsa<5,>=3.1.4 in /usr/local/lib/python3.10/dist-packages (from google-auth>=1.0.1->kubernetes>=28.1.0->chromadb) (4.9)\n",
      "Requirement already satisfied: anyio in /usr/local/lib/python3.10/dist-packages (from httpx>=0.23.0->fastapi>=0.95.2->chromadb) (3.7.1)\n",
      "Requirement already satisfied: httpcore==1.* in /home/jupyter/.local/lib/python3.10/site-packages (from httpx>=0.23.0->fastapi>=0.95.2->chromadb) (1.0.5)\n",
      "Requirement already satisfied: sniffio in /usr/local/lib/python3.10/dist-packages (from httpx>=0.23.0->fastapi>=0.95.2->chromadb) (1.3.0)\n",
      "Requirement already satisfied: filelock in /usr/local/lib/python3.10/dist-packages (from huggingface-hub<1.0,>=0.16.4->tokenizers>=0.13.2->chromadb) (3.12.2)\n",
      "Requirement already satisfied: fsspec>=2023.5.0 in /usr/local/lib/python3.10/dist-packages (from huggingface-hub<1.0,>=0.16.4->tokenizers>=0.13.2->chromadb) (2023.6.0)\n",
      "Requirement already satisfied: zipp>=0.5 in /usr/local/lib/python3.10/dist-packages (from importlib-metadata<=7.0,>=6.0->opentelemetry-api>=1.2.0->chromadb) (3.16.2)\n",
      "Requirement already satisfied: MarkupSafe>=2.0 in /usr/local/lib/python3.10/dist-packages (from jinja2>=2.11.2->fastapi>=0.95.2->chromadb) (2.1.3)\n",
      "Requirement already satisfied: markdown-it-py>=2.2.0 in /usr/local/lib/python3.10/dist-packages (from rich>=10.11.0->typer>=0.9.0->chromadb) (3.0.0)\n",
      "Requirement already satisfied: pygments<3.0.0,>=2.13.0 in /usr/local/lib/python3.10/dist-packages (from rich>=10.11.0->typer>=0.9.0->chromadb) (2.14.0)\n",
      "Collecting humanfriendly>=9.1 (from coloredlogs->onnxruntime>=1.14.1->chromadb)\n",
      "  Downloading humanfriendly-10.0-py2.py3-none-any.whl.metadata (9.2 kB)\n",
      "Requirement already satisfied: mpmath>=0.19 in /usr/local/lib/python3.10/dist-packages (from sympy->onnxruntime>=1.14.1->chromadb) (1.3.0)\n",
      "Requirement already satisfied: exceptiongroup in /usr/local/lib/python3.10/dist-packages (from anyio->httpx>=0.23.0->fastapi>=0.95.2->chromadb) (1.1.2)\n",
      "Requirement already satisfied: mdurl~=0.1 in /usr/local/lib/python3.10/dist-packages (from markdown-it-py>=2.2.0->rich>=10.11.0->typer>=0.9.0->chromadb) (0.1.2)\n",
      "Requirement already satisfied: pyasn1<0.6.0,>=0.4.6 in /usr/local/lib/python3.10/dist-packages (from pyasn1-modules>=0.2.1->google-auth>=1.0.1->kubernetes>=28.1.0->chromadb) (0.5.0)\n",
      "Downloading chromadb-0.5.0-py3-none-any.whl (526 kB)\n",
      "\u001b[2K   \u001b[90m━━━━━━━━━━━━━━━━━━━━━━━━━━━━━━━━━━━━━━━━\u001b[0m \u001b[32m526.8/526.8 kB\u001b[0m \u001b[31m3.7 MB/s\u001b[0m eta \u001b[36m0:00:00\u001b[0m00:01\u001b[0m00:01\u001b[0m\n",
      "\u001b[?25hDownloading chroma_hnswlib-0.7.3-cp310-cp310-manylinux_2_17_x86_64.manylinux2014_x86_64.whl (2.4 MB)\n",
      "\u001b[2K   \u001b[90m━━━━━━━━━━━━━━━━━━━━━━━━━━━━━━━━━━━━━━━━\u001b[0m \u001b[32m2.4/2.4 MB\u001b[0m \u001b[31m15.9 MB/s\u001b[0m eta \u001b[36m0:00:00\u001b[0m00:01\u001b[0m00:01\u001b[0m\n",
      "\u001b[?25hDownloading build-1.2.1-py3-none-any.whl (21 kB)\n",
      "Downloading fastapi-0.111.0-py3-none-any.whl (91 kB)\n",
      "\u001b[2K   \u001b[90m━━━━━━━━━━━━━━━━━━━━━━━━━━━━━━━━━━━━━━━━\u001b[0m \u001b[32m92.0/92.0 kB\u001b[0m \u001b[31m2.3 MB/s\u001b[0m eta \u001b[36m0:00:00\u001b[0meta \u001b[36m0:00:01\u001b[0m\n",
      "\u001b[?25hDownloading grpcio-1.64.0-cp310-cp310-manylinux_2_17_x86_64.manylinux2014_x86_64.whl (5.6 MB)\n",
      "\u001b[2K   \u001b[90m━━━━━━━━━━━━━━━━━━━━━━━━━━━━━━━━━━━━━━━━\u001b[0m \u001b[32m5.6/5.6 MB\u001b[0m \u001b[31m71.6 MB/s\u001b[0m eta \u001b[36m0:00:00\u001b[0m:00:01\u001b[0m00:01\u001b[0m\n",
      "\u001b[?25hDownloading kubernetes-29.0.0-py2.py3-none-any.whl (1.6 MB)\n",
      "\u001b[2K   \u001b[90m━━━━━━━━━━━━━━━━━━━━━━━━━━━━━━━━━━━━━━━━\u001b[0m \u001b[32m1.6/1.6 MB\u001b[0m \u001b[31m48.3 MB/s\u001b[0m eta \u001b[36m0:00:00\u001b[0m\n",
      "\u001b[?25hDownloading mmh3-4.1.0-cp310-cp310-manylinux_2_5_x86_64.manylinux1_x86_64.manylinux_2_17_x86_64.manylinux2014_x86_64.whl (67 kB)\n",
      "\u001b[2K   \u001b[90m━━━━━━━━━━━━━━━━━━━━━━━━━━━━━━━━━━━━━━━━\u001b[0m \u001b[32m67.6/67.6 kB\u001b[0m \u001b[31m6.0 MB/s\u001b[0m eta \u001b[36m0:00:00\u001b[0m\n",
      "\u001b[?25hDownloading numpy-1.26.4-cp310-cp310-manylinux_2_17_x86_64.manylinux2014_x86_64.whl (18.2 MB)\n",
      "\u001b[2K   \u001b[90m━━━━━━━━━━━━━━━━━━━━━━━━━━━━━━━━━━━━━━━━\u001b[0m \u001b[32m18.2/18.2 MB\u001b[0m \u001b[31m49.5 MB/s\u001b[0m eta \u001b[36m0:00:00\u001b[0m00:01\u001b[0m00:01\u001b[0m\n",
      "\u001b[?25hDownloading onnxruntime-1.18.0-cp310-cp310-manylinux_2_27_x86_64.manylinux_2_28_x86_64.whl (6.8 MB)\n",
      "\u001b[2K   \u001b[90m━━━━━━━━━━━━━━━━━━━━━━━━━━━━━━━━━━━━━━━━\u001b[0m \u001b[32m6.8/6.8 MB\u001b[0m \u001b[31m61.3 MB/s\u001b[0m eta \u001b[36m0:00:00\u001b[0m00:01\u001b[0m00:01\u001b[0mm\n",
      "\u001b[?25hDownloading opentelemetry_api-1.24.0-py3-none-any.whl (60 kB)\n",
      "\u001b[2K   \u001b[90m━━━━━━━━━━━━━━━━━━━━━━━━━━━━━━━━━━━━━━━━\u001b[0m \u001b[32m60.1/60.1 kB\u001b[0m \u001b[31m4.3 MB/s\u001b[0m eta \u001b[36m0:00:00\u001b[0m\n",
      "\u001b[?25hDownloading opentelemetry_exporter_otlp_proto_grpc-1.24.0-py3-none-any.whl (18 kB)\n",
      "Downloading opentelemetry_exporter_otlp_proto_common-1.24.0-py3-none-any.whl (17 kB)\n",
      "Downloading opentelemetry_proto-1.24.0-py3-none-any.whl (50 kB)\n",
      "\u001b[2K   \u001b[90m━━━━━━━━━━━━━━━━━━━━━━━━━━━━━━━━━━━━━━━━\u001b[0m \u001b[32m50.8/50.8 kB\u001b[0m \u001b[31m5.2 MB/s\u001b[0m eta \u001b[36m0:00:00\u001b[0m\n",
      "\u001b[?25hDownloading opentelemetry_instrumentation_fastapi-0.45b0-py3-none-any.whl (11 kB)\n",
      "Downloading opentelemetry_instrumentation-0.45b0-py3-none-any.whl (28 kB)\n",
      "Downloading opentelemetry_instrumentation_asgi-0.45b0-py3-none-any.whl (14 kB)\n",
      "Downloading opentelemetry_semantic_conventions-0.45b0-py3-none-any.whl (36 kB)\n",
      "Downloading opentelemetry_util_http-0.45b0-py3-none-any.whl (6.9 kB)\n",
      "Downloading opentelemetry_sdk-1.24.0-py3-none-any.whl (106 kB)\n",
      "\u001b[2K   \u001b[90m━━━━━━━━━━━━━━━━━━━━━━━━━━━━━━━━━━━━━━━━\u001b[0m \u001b[32m106.1/106.1 kB\u001b[0m \u001b[31m13.3 MB/s\u001b[0m eta \u001b[36m0:00:00\u001b[0m\n",
      "\u001b[?25hDownloading posthog-3.5.0-py2.py3-none-any.whl (41 kB)\n",
      "\u001b[2K   \u001b[90m━━━━━━━━━━━━━━━━━━━━━━━━━━━━━━━━━━━━━━━━\u001b[0m \u001b[32m41.3/41.3 kB\u001b[0m \u001b[31m5.2 MB/s\u001b[0m eta \u001b[36m0:00:00\u001b[0m\n",
      "\u001b[?25hDownloading tenacity-8.3.0-py3-none-any.whl (25 kB)\n",
      "Downloading typing_extensions-4.12.0-py3-none-any.whl (37 kB)\n",
      "Downloading uvicorn-0.29.0-py3-none-any.whl (60 kB)\n",
      "\u001b[2K   \u001b[90m━━━━━━━━━━━━━━━━━━━━━━━━━━━━━━━━━━━━━━━━\u001b[0m \u001b[32m60.8/60.8 kB\u001b[0m \u001b[31m7.8 MB/s\u001b[0m eta \u001b[36m0:00:00\u001b[0m\n",
      "\u001b[?25hDownloading Deprecated-1.2.14-py2.py3-none-any.whl (9.6 kB)\n",
      "Downloading email_validator-2.1.1-py3-none-any.whl (30 kB)\n",
      "Downloading fastapi_cli-0.0.4-py3-none-any.whl (9.5 kB)\n",
      "Downloading typer-0.12.3-py3-none-any.whl (47 kB)\n",
      "\u001b[2K   \u001b[90m━━━━━━━━━━━━━━━━━━━━━━━━━━━━━━━━━━━━━━━━\u001b[0m \u001b[32m47.2/47.2 kB\u001b[0m \u001b[31m5.1 MB/s\u001b[0m eta \u001b[36m0:00:00\u001b[0m\n",
      "\u001b[?25hDownloading httptools-0.6.1-cp310-cp310-manylinux_2_5_x86_64.manylinux1_x86_64.manylinux_2_17_x86_64.manylinux2014_x86_64.whl (341 kB)\n",
      "\u001b[2K   \u001b[90m━━━━━━━━━━━━━━━━━━━━━━━━━━━━━━━━━━━━━━━━\u001b[0m \u001b[32m341.4/341.4 kB\u001b[0m \u001b[31m18.6 MB/s\u001b[0m eta \u001b[36m0:00:00\u001b[0m\n",
      "\u001b[?25hDownloading importlib_metadata-7.0.0-py3-none-any.whl (23 kB)\n",
      "Downloading monotonic-1.6-py2.py3-none-any.whl (8.2 kB)\n",
      "Downloading python_dotenv-1.0.1-py3-none-any.whl (19 kB)\n",
      "Downloading python_multipart-0.0.9-py3-none-any.whl (22 kB)\n",
      "Downloading shellingham-1.5.4-py2.py3-none-any.whl (9.8 kB)\n",
      "Downloading starlette-0.37.2-py3-none-any.whl (71 kB)\n",
      "\u001b[2K   \u001b[90m━━━━━━━━━━━━━━━━━━━━━━━━━━━━━━━━━━━━━━━━\u001b[0m \u001b[32m71.9/71.9 kB\u001b[0m \u001b[31m6.8 MB/s\u001b[0m eta \u001b[36m0:00:00\u001b[0m\n",
      "\u001b[?25hDownloading ujson-5.10.0-cp310-cp310-manylinux_2_17_x86_64.manylinux2014_x86_64.whl (53 kB)\n",
      "\u001b[2K   \u001b[90m━━━━━━━━━━━━━━━━━━━━━━━━━━━━━━━━━━━━━━━━\u001b[0m \u001b[32m53.6/53.6 kB\u001b[0m \u001b[31m3.9 MB/s\u001b[0m eta \u001b[36m0:00:00\u001b[0m\n",
      "\u001b[?25hDownloading uvloop-0.19.0-cp310-cp310-manylinux_2_17_x86_64.manylinux2014_x86_64.whl (3.4 MB)\n",
      "\u001b[2K   \u001b[90m━━━━━━━━━━━━━━━━━━━━━━━━━━━━━━━━━━━━━━━━\u001b[0m \u001b[32m3.4/3.4 MB\u001b[0m \u001b[31m53.5 MB/s\u001b[0m eta \u001b[36m0:00:00\u001b[0mta \u001b[36m0:00:01\u001b[0m\n",
      "\u001b[?25hDownloading watchfiles-0.22.0-cp310-cp310-manylinux_2_17_x86_64.manylinux2014_x86_64.whl (1.2 MB)\n",
      "\u001b[2K   \u001b[90m━━━━━━━━━━━━━━━━━━━━━━━━━━━━━━━━━━━━━━━━\u001b[0m \u001b[32m1.2/1.2 MB\u001b[0m \u001b[31m93.6 MB/s\u001b[0m eta \u001b[36m0:00:00\u001b[0m\n",
      "\u001b[?25hDownloading websockets-12.0-cp310-cp310-manylinux_2_5_x86_64.manylinux1_x86_64.manylinux_2_17_x86_64.manylinux2014_x86_64.whl (130 kB)\n",
      "\u001b[2K   \u001b[90m━━━━━━━━━━━━━━━━━━━━━━━━━━━━━━━━━━━━━━━━\u001b[0m \u001b[32m130.2/130.2 kB\u001b[0m \u001b[31m4.4 MB/s\u001b[0m eta \u001b[36m0:00:00\u001b[0m\n",
      "\u001b[?25hDownloading coloredlogs-15.0.1-py2.py3-none-any.whl (46 kB)\n",
      "\u001b[2K   \u001b[90m━━━━━━━━━━━━━━━━━━━━━━━━━━━━━━━━━━━━━━━━\u001b[0m \u001b[32m46.0/46.0 kB\u001b[0m \u001b[31m5.1 MB/s\u001b[0m eta \u001b[36m0:00:00\u001b[0m\n",
      "\u001b[?25hDownloading asgiref-3.8.1-py3-none-any.whl (23 kB)\n",
      "Downloading dnspython-2.6.1-py3-none-any.whl (307 kB)\n",
      "\u001b[2K   \u001b[90m━━━━━━━━━━━━━━━━━━━━━━━━━━━━━━━━━━━━━━━━\u001b[0m \u001b[32m307.7/307.7 kB\u001b[0m \u001b[31m5.1 MB/s\u001b[0m eta \u001b[36m0:00:00\u001b[0m:00:01\u001b[0m\n",
      "\u001b[?25hDownloading humanfriendly-10.0-py2.py3-none-any.whl (86 kB)\n",
      "\u001b[2K   \u001b[90m━━━━━━━━━━━━━━━━━━━━━━━━━━━━━━━━━━━━━━━━\u001b[0m \u001b[32m86.8/86.8 kB\u001b[0m \u001b[31m4.7 MB/s\u001b[0m eta \u001b[36m0:00:00\u001b[0m\n",
      "\u001b[?25hBuilding wheels for collected packages: pypika\n",
      "  Building wheel for pypika (pyproject.toml) ... \u001b[?25ldone\n",
      "\u001b[?25h  Created wheel for pypika: filename=PyPika-0.48.9-py2.py3-none-any.whl size=53723 sha256=23f027cc13b6b280eb55a5651c312a38d8d886a6a3b424ee16beaa9ce540cfdb\n",
      "  Stored in directory: /tmp/xdg_cache/pip/wheels/e1/26/51/d0bffb3d2fd82256676d7ad3003faea3bd6dddc9577af665f4\n",
      "Successfully built pypika\n",
      "Installing collected packages: pypika, monotonic, mmh3, websockets, uvloop, ujson, typing-extensions, tenacity, shellingham, python-multipart, python-dotenv, opentelemetry-util-http, opentelemetry-semantic-conventions, opentelemetry-proto, numpy, importlib-metadata, humanfriendly, httptools, grpcio, dnspython, deprecated, watchfiles, uvicorn, starlette, posthog, opentelemetry-exporter-otlp-proto-common, opentelemetry-api, email_validator, coloredlogs, chroma-hnswlib, build, asgiref, typer, opentelemetry-sdk, opentelemetry-instrumentation, onnxruntime, kubernetes, opentelemetry-instrumentation-asgi, opentelemetry-exporter-otlp-proto-grpc, fastapi-cli, opentelemetry-instrumentation-fastapi, fastapi, chromadb\n",
      "\u001b[33m  WARNING: The script dotenv is installed in '/home/jupyter/.local/bin' which is not on PATH.\n",
      "  Consider adding this directory to PATH or, if you prefer to suppress this warning, use --no-warn-script-location.\u001b[0m\u001b[33m\n",
      "\u001b[0m\u001b[33m  WARNING: The script f2py is installed in '/home/jupyter/.local/bin' which is not on PATH.\n",
      "  Consider adding this directory to PATH or, if you prefer to suppress this warning, use --no-warn-script-location.\u001b[0m\u001b[33m\n",
      "\u001b[0m\u001b[33m  WARNING: The script humanfriendly is installed in '/home/jupyter/.local/bin' which is not on PATH.\n",
      "  Consider adding this directory to PATH or, if you prefer to suppress this warning, use --no-warn-script-location.\u001b[0m\u001b[33m\n",
      "\u001b[0m\u001b[33m  WARNING: The script watchfiles is installed in '/home/jupyter/.local/bin' which is not on PATH.\n",
      "  Consider adding this directory to PATH or, if you prefer to suppress this warning, use --no-warn-script-location.\u001b[0m\u001b[33m\n",
      "\u001b[0m\u001b[33m  WARNING: The script uvicorn is installed in '/home/jupyter/.local/bin' which is not on PATH.\n",
      "  Consider adding this directory to PATH or, if you prefer to suppress this warning, use --no-warn-script-location.\u001b[0m\u001b[33m\n",
      "\u001b[0m\u001b[33m  WARNING: The script email_validator is installed in '/home/jupyter/.local/bin' which is not on PATH.\n",
      "  Consider adding this directory to PATH or, if you prefer to suppress this warning, use --no-warn-script-location.\u001b[0m\u001b[33m\n",
      "\u001b[0m\u001b[33m  WARNING: The script coloredlogs is installed in '/home/jupyter/.local/bin' which is not on PATH.\n",
      "  Consider adding this directory to PATH or, if you prefer to suppress this warning, use --no-warn-script-location.\u001b[0m\u001b[33m\n",
      "\u001b[0m\u001b[33m  WARNING: The script pyproject-build is installed in '/home/jupyter/.local/bin' which is not on PATH.\n",
      "  Consider adding this directory to PATH or, if you prefer to suppress this warning, use --no-warn-script-location.\u001b[0m\u001b[33m\n",
      "\u001b[0m\u001b[33m  WARNING: The script typer is installed in '/home/jupyter/.local/bin' which is not on PATH.\n",
      "  Consider adding this directory to PATH or, if you prefer to suppress this warning, use --no-warn-script-location.\u001b[0m\u001b[33m\n",
      "\u001b[0m\u001b[33m  WARNING: The scripts opentelemetry-bootstrap and opentelemetry-instrument are installed in '/home/jupyter/.local/bin' which is not on PATH.\n",
      "  Consider adding this directory to PATH or, if you prefer to suppress this warning, use --no-warn-script-location.\u001b[0m\u001b[33m\n",
      "\u001b[0m\u001b[33m  WARNING: The script onnxruntime_test is installed in '/home/jupyter/.local/bin' which is not on PATH.\n",
      "  Consider adding this directory to PATH or, if you prefer to suppress this warning, use --no-warn-script-location.\u001b[0m\u001b[33m\n",
      "\u001b[0m\u001b[33m  WARNING: The script fastapi is installed in '/home/jupyter/.local/bin' which is not on PATH.\n",
      "  Consider adding this directory to PATH or, if you prefer to suppress this warning, use --no-warn-script-location.\u001b[0m\u001b[33m\n",
      "\u001b[0m\u001b[33m  WARNING: The script chroma is installed in '/home/jupyter/.local/bin' which is not on PATH.\n",
      "  Consider adding this directory to PATH or, if you prefer to suppress this warning, use --no-warn-script-location.\u001b[0m\u001b[33m\n",
      "\u001b[0m\u001b[31mERROR: pip's dependency resolver does not currently take into account all the packages that are installed. This behaviour is the source of the following dependency conflicts.\n",
      "cupy-cuda11x 11.0.0 requires numpy<1.26,>=1.20, but you have numpy 1.26.4 which is incompatible.\n",
      "cvxpy 1.3.2 requires setuptools>65.5.1, but you have setuptools 65.5.0 which is incompatible.\n",
      "numba 0.56.4 requires numpy<1.24,>=1.18, but you have numpy 1.26.4 which is incompatible.\n",
      "pandas-gbq 0.17.9 requires pyarrow<10.0dev,>=3.0.0, but you have pyarrow 15.0.0 which is incompatible.\n",
      "spacy 3.5.4 requires typer<0.10.0,>=0.3.0, but you have typer 0.12.3 which is incompatible.\n",
      "tensorflow 2.12.0 requires numpy<1.24,>=1.22, but you have numpy 1.26.4 which is incompatible.\u001b[0m\u001b[31m\n",
      "\u001b[0mSuccessfully installed asgiref-3.8.1 build-1.2.1 chroma-hnswlib-0.7.3 chromadb-0.5.0 coloredlogs-15.0.1 deprecated-1.2.14 dnspython-2.6.1 email_validator-2.1.1 fastapi-0.111.0 fastapi-cli-0.0.4 grpcio-1.64.0 httptools-0.6.1 humanfriendly-10.0 importlib-metadata-7.0.0 kubernetes-29.0.0 mmh3-4.1.0 monotonic-1.6 numpy-1.26.4 onnxruntime-1.18.0 opentelemetry-api-1.24.0 opentelemetry-exporter-otlp-proto-common-1.24.0 opentelemetry-exporter-otlp-proto-grpc-1.24.0 opentelemetry-instrumentation-0.45b0 opentelemetry-instrumentation-asgi-0.45b0 opentelemetry-instrumentation-fastapi-0.45b0 opentelemetry-proto-1.24.0 opentelemetry-sdk-1.24.0 opentelemetry-semantic-conventions-0.45b0 opentelemetry-util-http-0.45b0 posthog-3.5.0 pypika-0.48.9 python-dotenv-1.0.1 python-multipart-0.0.9 shellingham-1.5.4 starlette-0.37.2 tenacity-8.3.0 typer-0.12.3 typing-extensions-4.12.0 ujson-5.10.0 uvicorn-0.29.0 uvloop-0.19.0 watchfiles-0.22.0 websockets-12.0\n",
      "\n",
      "\u001b[1m[\u001b[0m\u001b[34;49mnotice\u001b[0m\u001b[1;39;49m]\u001b[0m\u001b[39;49m A new release of pip is available: \u001b[0m\u001b[31;49m23.0.1\u001b[0m\u001b[39;49m -> \u001b[0m\u001b[32;49m24.0\u001b[0m\n",
      "\u001b[1m[\u001b[0m\u001b[34;49mnotice\u001b[0m\u001b[1;39;49m]\u001b[0m\u001b[39;49m To update, run: \u001b[0m\u001b[32;49mpython3 -m pip install --upgrade pip\u001b[0m\n"
     ]
    }
   ],
   "source": [
    "%pip install chromadb"
   ]
  },
  {
   "cell_type": "code",
   "execution_count": 18,
   "metadata": {
    "execution": {
     "iopub.execute_input": "2024-05-25T08:30:30.153868Z",
     "iopub.status.busy": "2024-05-25T08:30:30.152756Z",
     "iopub.status.idle": "2024-05-25T08:30:34.522535Z",
     "shell.execute_reply": "2024-05-25T08:30:34.521634Z",
     "shell.execute_reply.started": "2024-05-25T08:30:30.153825Z"
    },
    "executionInfo": {
     "elapsed": 704,
     "status": "ok",
     "timestamp": 1716400894756,
     "user": {
      "displayName": "Михаил Волков",
      "userId": "04805121734699826834"
     },
     "user_tz": -180
    },
    "id": "Bcz6WQgGJzod",
    "tags": []
   },
   "outputs": [],
   "source": [
    "import os\n",
    "\n",
    "import lancedb\n",
    "from langchain.vectorstores import LanceDB\n",
    "\n",
    "db_dir = \"store\"\n",
    "\n",
    "os.makedirs(db_dir, exist_ok=True)\n",
    "\n",
    "db = lancedb.connect(db_dir)\n",
    "table = db.create_table(\n",
    "    \"vector_index\",\n",
    "    data=[\n",
    "        {\n",
    "            \"vector\": embeddings.embed_query(\"Hello World\"),\n",
    "            \"text\": \"Hello World\",\n",
    "            \"id\": \"1\",\n",
    "        }\n",
    "    ],\n",
    "    mode=\"overwrite\",\n",
    ")"
   ]
  },
  {
   "cell_type": "code",
   "execution_count": 17,
   "metadata": {
    "execution": {
     "iopub.execute_input": "2024-05-27T22:37:31.482102Z",
     "iopub.status.busy": "2024-05-27T22:37:31.480899Z",
     "iopub.status.idle": "2024-05-27T22:37:31.573343Z",
     "shell.execute_reply": "2024-05-27T22:37:31.572488Z",
     "shell.execute_reply.started": "2024-05-27T22:37:31.482058Z"
    },
    "tags": []
   },
   "outputs": [],
   "source": [
    "import os\n",
    "\n",
    "from langchain.vectorstores import Chroma\n",
    "\n",
    "# Инициализация директории для базы данных\n",
    "db_dir = \"store\"\n",
    "\n",
    "os.makedirs(db_dir, exist_ok=True)\n",
    "\n",
    "# Создание базы данных и добавление начальных данных\n",
    "db = Chroma(\n",
    "    persist_directory=db_dir,\n",
    "    embedding_function=embedding_function  # Передаем функцию для вычисления эмбеддингов\n",
    ")\n",
    "\n",
    "db.add_texts(\n",
    "    texts=[\"Hello World\"],\n",
    "    metadatas=[{\"id\": \"1\"}],\n",
    "    ids=[\"1\"],\n",
    "    embeddings=[embeddings.embed_query(\"Hello World\")],\n",
    ")\n",
    "\n",
    "# Сохранение изменений\n",
    "db.persist()"
   ]
  },
  {
   "cell_type": "code",
   "execution_count": 19,
   "metadata": {
    "execution": {
     "iopub.execute_input": "2024-05-27T22:39:50.915508Z",
     "iopub.status.busy": "2024-05-27T22:39:50.914668Z",
     "iopub.status.idle": "2024-05-27T22:39:53.015367Z",
     "shell.execute_reply": "2024-05-27T22:39:53.013942Z",
     "shell.execute_reply.started": "2024-05-27T22:39:50.915463Z"
    },
    "tags": []
   },
   "outputs": [
    {
     "name": "stdout",
     "output_type": "stream",
     "text": [
      "Initial data check passed.\n",
      "Total records in the database: 1\n"
     ]
    },
    {
     "ename": "UnboundLocalError",
     "evalue": "local variable 'js' referenced before assignment",
     "output_type": "error",
     "traceback": [
      "\u001b[0;31m---------------------------------------------------------------------------\u001b[0m",
      "\u001b[0;31mTypeError\u001b[0m                                 Traceback (most recent call last)",
      "\u001b[0;32m~/.local/lib/python3.10/site-packages/yandex_chain/YandexGPTEmbeddings.py\u001b[0m in \u001b[0;36m_embed\u001b[0;34m(self, text, is_document)\u001b[0m\n\u001b[1;32m     28\u001b[0m                 \u001b[0;32mwith\u001b[0m \u001b[0mattempt\u001b[0m\u001b[0;34m:\u001b[0m\u001b[0;34m\u001b[0m\u001b[0;34m\u001b[0m\u001b[0m\n\u001b[0;32m---> 29\u001b[0;31m                     res = requests.post(\"https://llm.api.cloud.yandex.net/foundationModels/v1/textEmbedding\",\n\u001b[0m\u001b[1;32m     30\u001b[0m                                         json=j,headers=self.headers)\n",
      "\u001b[0;32m~/.local/lib/python3.10/site-packages/requests/api.py\u001b[0m in \u001b[0;36mpost\u001b[0;34m(url, data, json, **kwargs)\u001b[0m\n\u001b[1;32m    114\u001b[0m \u001b[0;34m\u001b[0m\u001b[0m\n\u001b[0;32m--> 115\u001b[0;31m     \u001b[0;32mreturn\u001b[0m \u001b[0mrequest\u001b[0m\u001b[0;34m(\u001b[0m\u001b[0;34m\"post\"\u001b[0m\u001b[0;34m,\u001b[0m \u001b[0murl\u001b[0m\u001b[0;34m,\u001b[0m \u001b[0mdata\u001b[0m\u001b[0;34m=\u001b[0m\u001b[0mdata\u001b[0m\u001b[0;34m,\u001b[0m \u001b[0mjson\u001b[0m\u001b[0;34m=\u001b[0m\u001b[0mjson\u001b[0m\u001b[0;34m,\u001b[0m \u001b[0;34m**\u001b[0m\u001b[0mkwargs\u001b[0m\u001b[0;34m)\u001b[0m\u001b[0;34m\u001b[0m\u001b[0;34m\u001b[0m\u001b[0m\n\u001b[0m\u001b[1;32m    116\u001b[0m \u001b[0;34m\u001b[0m\u001b[0m\n",
      "\u001b[0;32m~/.local/lib/python3.10/site-packages/requests/api.py\u001b[0m in \u001b[0;36mrequest\u001b[0;34m(method, url, **kwargs)\u001b[0m\n\u001b[1;32m     58\u001b[0m     \u001b[0;32mwith\u001b[0m \u001b[0msessions\u001b[0m\u001b[0;34m.\u001b[0m\u001b[0mSession\u001b[0m\u001b[0;34m(\u001b[0m\u001b[0;34m)\u001b[0m \u001b[0;32mas\u001b[0m \u001b[0msession\u001b[0m\u001b[0;34m:\u001b[0m\u001b[0;34m\u001b[0m\u001b[0;34m\u001b[0m\u001b[0m\n\u001b[0;32m---> 59\u001b[0;31m         \u001b[0;32mreturn\u001b[0m \u001b[0msession\u001b[0m\u001b[0;34m.\u001b[0m\u001b[0mrequest\u001b[0m\u001b[0;34m(\u001b[0m\u001b[0mmethod\u001b[0m\u001b[0;34m=\u001b[0m\u001b[0mmethod\u001b[0m\u001b[0;34m,\u001b[0m \u001b[0murl\u001b[0m\u001b[0;34m=\u001b[0m\u001b[0murl\u001b[0m\u001b[0;34m,\u001b[0m \u001b[0;34m**\u001b[0m\u001b[0mkwargs\u001b[0m\u001b[0;34m)\u001b[0m\u001b[0;34m\u001b[0m\u001b[0;34m\u001b[0m\u001b[0m\n\u001b[0m\u001b[1;32m     60\u001b[0m \u001b[0;34m\u001b[0m\u001b[0m\n",
      "\u001b[0;32m~/.local/lib/python3.10/site-packages/requests/sessions.py\u001b[0m in \u001b[0;36mrequest\u001b[0;34m(self, method, url, params, data, headers, cookies, files, auth, timeout, allow_redirects, proxies, hooks, stream, verify, cert, json)\u001b[0m\n\u001b[1;32m    574\u001b[0m         )\n\u001b[0;32m--> 575\u001b[0;31m         \u001b[0mprep\u001b[0m \u001b[0;34m=\u001b[0m \u001b[0mself\u001b[0m\u001b[0;34m.\u001b[0m\u001b[0mprepare_request\u001b[0m\u001b[0;34m(\u001b[0m\u001b[0mreq\u001b[0m\u001b[0;34m)\u001b[0m\u001b[0;34m\u001b[0m\u001b[0;34m\u001b[0m\u001b[0m\n\u001b[0m\u001b[1;32m    576\u001b[0m \u001b[0;34m\u001b[0m\u001b[0m\n",
      "\u001b[0;32m~/.local/lib/python3.10/site-packages/requests/sessions.py\u001b[0m in \u001b[0;36mprepare_request\u001b[0;34m(self, request)\u001b[0m\n\u001b[1;32m    483\u001b[0m         \u001b[0mp\u001b[0m \u001b[0;34m=\u001b[0m \u001b[0mPreparedRequest\u001b[0m\u001b[0;34m(\u001b[0m\u001b[0;34m)\u001b[0m\u001b[0;34m\u001b[0m\u001b[0;34m\u001b[0m\u001b[0m\n\u001b[0;32m--> 484\u001b[0;31m         p.prepare(\n\u001b[0m\u001b[1;32m    485\u001b[0m             \u001b[0mmethod\u001b[0m\u001b[0;34m=\u001b[0m\u001b[0mrequest\u001b[0m\u001b[0;34m.\u001b[0m\u001b[0mmethod\u001b[0m\u001b[0;34m.\u001b[0m\u001b[0mupper\u001b[0m\u001b[0;34m(\u001b[0m\u001b[0;34m)\u001b[0m\u001b[0;34m,\u001b[0m\u001b[0;34m\u001b[0m\u001b[0;34m\u001b[0m\u001b[0m\n",
      "\u001b[0;32m~/.local/lib/python3.10/site-packages/requests/models.py\u001b[0m in \u001b[0;36mprepare\u001b[0;34m(self, method, url, headers, files, data, params, auth, cookies, hooks, json)\u001b[0m\n\u001b[1;32m    369\u001b[0m         \u001b[0mself\u001b[0m\u001b[0;34m.\u001b[0m\u001b[0mprepare_cookies\u001b[0m\u001b[0;34m(\u001b[0m\u001b[0mcookies\u001b[0m\u001b[0;34m)\u001b[0m\u001b[0;34m\u001b[0m\u001b[0;34m\u001b[0m\u001b[0m\n\u001b[0;32m--> 370\u001b[0;31m         \u001b[0mself\u001b[0m\u001b[0;34m.\u001b[0m\u001b[0mprepare_body\u001b[0m\u001b[0;34m(\u001b[0m\u001b[0mdata\u001b[0m\u001b[0;34m,\u001b[0m \u001b[0mfiles\u001b[0m\u001b[0;34m,\u001b[0m \u001b[0mjson\u001b[0m\u001b[0;34m)\u001b[0m\u001b[0;34m\u001b[0m\u001b[0;34m\u001b[0m\u001b[0m\n\u001b[0m\u001b[1;32m    371\u001b[0m         \u001b[0mself\u001b[0m\u001b[0;34m.\u001b[0m\u001b[0mprepare_auth\u001b[0m\u001b[0;34m(\u001b[0m\u001b[0mauth\u001b[0m\u001b[0;34m,\u001b[0m \u001b[0murl\u001b[0m\u001b[0;34m)\u001b[0m\u001b[0;34m\u001b[0m\u001b[0;34m\u001b[0m\u001b[0m\n",
      "\u001b[0;32m~/.local/lib/python3.10/site-packages/requests/models.py\u001b[0m in \u001b[0;36mprepare_body\u001b[0;34m(self, data, files, json)\u001b[0m\n\u001b[1;32m    509\u001b[0m             \u001b[0;32mtry\u001b[0m\u001b[0;34m:\u001b[0m\u001b[0;34m\u001b[0m\u001b[0;34m\u001b[0m\u001b[0m\n\u001b[0;32m--> 510\u001b[0;31m                 \u001b[0mbody\u001b[0m \u001b[0;34m=\u001b[0m \u001b[0mcomplexjson\u001b[0m\u001b[0;34m.\u001b[0m\u001b[0mdumps\u001b[0m\u001b[0;34m(\u001b[0m\u001b[0mjson\u001b[0m\u001b[0;34m,\u001b[0m \u001b[0mallow_nan\u001b[0m\u001b[0;34m=\u001b[0m\u001b[0;32mFalse\u001b[0m\u001b[0;34m)\u001b[0m\u001b[0;34m\u001b[0m\u001b[0;34m\u001b[0m\u001b[0m\n\u001b[0m\u001b[1;32m    511\u001b[0m             \u001b[0;32mexcept\u001b[0m \u001b[0mValueError\u001b[0m \u001b[0;32mas\u001b[0m \u001b[0mve\u001b[0m\u001b[0;34m:\u001b[0m\u001b[0;34m\u001b[0m\u001b[0;34m\u001b[0m\u001b[0m\n",
      "\u001b[0;32m/usr/lib/python3.10/json/__init__.py\u001b[0m in \u001b[0;36mdumps\u001b[0;34m(obj, skipkeys, ensure_ascii, check_circular, allow_nan, cls, indent, separators, default, sort_keys, **kw)\u001b[0m\n\u001b[1;32m    237\u001b[0m         \u001b[0mseparators\u001b[0m\u001b[0;34m=\u001b[0m\u001b[0mseparators\u001b[0m\u001b[0;34m,\u001b[0m \u001b[0mdefault\u001b[0m\u001b[0;34m=\u001b[0m\u001b[0mdefault\u001b[0m\u001b[0;34m,\u001b[0m \u001b[0msort_keys\u001b[0m\u001b[0;34m=\u001b[0m\u001b[0msort_keys\u001b[0m\u001b[0;34m,\u001b[0m\u001b[0;34m\u001b[0m\u001b[0;34m\u001b[0m\u001b[0m\n\u001b[0;32m--> 238\u001b[0;31m         **kw).encode(obj)\n\u001b[0m\u001b[1;32m    239\u001b[0m \u001b[0;34m\u001b[0m\u001b[0m\n",
      "\u001b[0;32m/usr/lib/python3.10/json/encoder.py\u001b[0m in \u001b[0;36mencode\u001b[0;34m(self, o)\u001b[0m\n\u001b[1;32m    198\u001b[0m         \u001b[0;31m# equivalent to the PySequence_Fast that ''.join() would do.\u001b[0m\u001b[0;34m\u001b[0m\u001b[0;34m\u001b[0m\u001b[0m\n\u001b[0;32m--> 199\u001b[0;31m         \u001b[0mchunks\u001b[0m \u001b[0;34m=\u001b[0m \u001b[0mself\u001b[0m\u001b[0;34m.\u001b[0m\u001b[0miterencode\u001b[0m\u001b[0;34m(\u001b[0m\u001b[0mo\u001b[0m\u001b[0;34m,\u001b[0m \u001b[0m_one_shot\u001b[0m\u001b[0;34m=\u001b[0m\u001b[0;32mTrue\u001b[0m\u001b[0;34m)\u001b[0m\u001b[0;34m\u001b[0m\u001b[0;34m\u001b[0m\u001b[0m\n\u001b[0m\u001b[1;32m    200\u001b[0m         \u001b[0;32mif\u001b[0m \u001b[0;32mnot\u001b[0m \u001b[0misinstance\u001b[0m\u001b[0;34m(\u001b[0m\u001b[0mchunks\u001b[0m\u001b[0;34m,\u001b[0m \u001b[0;34m(\u001b[0m\u001b[0mlist\u001b[0m\u001b[0;34m,\u001b[0m \u001b[0mtuple\u001b[0m\u001b[0;34m)\u001b[0m\u001b[0;34m)\u001b[0m\u001b[0;34m:\u001b[0m\u001b[0;34m\u001b[0m\u001b[0;34m\u001b[0m\u001b[0m\n",
      "\u001b[0;32m/usr/lib/python3.10/json/encoder.py\u001b[0m in \u001b[0;36miterencode\u001b[0;34m(self, o, _one_shot)\u001b[0m\n\u001b[1;32m    256\u001b[0m                 self.skipkeys, _one_shot)\n\u001b[0;32m--> 257\u001b[0;31m         \u001b[0;32mreturn\u001b[0m \u001b[0m_iterencode\u001b[0m\u001b[0;34m(\u001b[0m\u001b[0mo\u001b[0m\u001b[0;34m,\u001b[0m \u001b[0;36m0\u001b[0m\u001b[0;34m)\u001b[0m\u001b[0;34m\u001b[0m\u001b[0;34m\u001b[0m\u001b[0m\n\u001b[0m\u001b[1;32m    258\u001b[0m \u001b[0;34m\u001b[0m\u001b[0m\n",
      "\u001b[0;32m/usr/lib/python3.10/json/encoder.py\u001b[0m in \u001b[0;36mdefault\u001b[0;34m(self, o)\u001b[0m\n\u001b[1;32m    178\u001b[0m         \"\"\"\n\u001b[0;32m--> 179\u001b[0;31m         raise TypeError(f'Object of type {o.__class__.__name__} '\n\u001b[0m\u001b[1;32m    180\u001b[0m                         f'is not JSON serializable')\n",
      "\u001b[0;31mTypeError\u001b[0m: Object of type Document is not JSON serializable",
      "\nThe above exception was the direct cause of the following exception:\n",
      "\u001b[0;31mRetryError\u001b[0m                                Traceback (most recent call last)",
      "\u001b[0;32m~/.local/lib/python3.10/site-packages/yandex_chain/YandexGPTEmbeddings.py\u001b[0m in \u001b[0;36m_embed\u001b[0;34m(self, text, is_document)\u001b[0m\n\u001b[1;32m     26\u001b[0m         \u001b[0;32mtry\u001b[0m\u001b[0;34m:\u001b[0m\u001b[0;34m\u001b[0m\u001b[0;34m\u001b[0m\u001b[0m\n\u001b[0;32m---> 27\u001b[0;31m             \u001b[0;32mfor\u001b[0m \u001b[0mattempt\u001b[0m \u001b[0;32min\u001b[0m \u001b[0mRetrying\u001b[0m\u001b[0;34m(\u001b[0m\u001b[0mstop\u001b[0m\u001b[0;34m=\u001b[0m\u001b[0mstop_after_attempt\u001b[0m\u001b[0;34m(\u001b[0m\u001b[0mself\u001b[0m\u001b[0;34m.\u001b[0m\u001b[0mretries\u001b[0m\u001b[0;34m)\u001b[0m\u001b[0;34m,\u001b[0m\u001b[0mwait\u001b[0m\u001b[0;34m=\u001b[0m\u001b[0mwait_fixed\u001b[0m\u001b[0;34m(\u001b[0m\u001b[0mself\u001b[0m\u001b[0;34m.\u001b[0m\u001b[0msleep_interval\u001b[0m\u001b[0;34m)\u001b[0m\u001b[0;34m)\u001b[0m\u001b[0;34m:\u001b[0m\u001b[0;34m\u001b[0m\u001b[0;34m\u001b[0m\u001b[0m\n\u001b[0m\u001b[1;32m     28\u001b[0m                 \u001b[0;32mwith\u001b[0m \u001b[0mattempt\u001b[0m\u001b[0;34m:\u001b[0m\u001b[0;34m\u001b[0m\u001b[0;34m\u001b[0m\u001b[0m\n",
      "\u001b[0;32m~/.local/lib/python3.10/site-packages/tenacity/__init__.py\u001b[0m in \u001b[0;36m__iter__\u001b[0;34m(self)\u001b[0m\n\u001b[1;32m    434\u001b[0m         \u001b[0;32mwhile\u001b[0m \u001b[0;32mTrue\u001b[0m\u001b[0;34m:\u001b[0m\u001b[0;34m\u001b[0m\u001b[0;34m\u001b[0m\u001b[0m\n\u001b[0;32m--> 435\u001b[0;31m             \u001b[0mdo\u001b[0m \u001b[0;34m=\u001b[0m \u001b[0mself\u001b[0m\u001b[0;34m.\u001b[0m\u001b[0miter\u001b[0m\u001b[0;34m(\u001b[0m\u001b[0mretry_state\u001b[0m\u001b[0;34m=\u001b[0m\u001b[0mretry_state\u001b[0m\u001b[0;34m)\u001b[0m\u001b[0;34m\u001b[0m\u001b[0;34m\u001b[0m\u001b[0m\n\u001b[0m\u001b[1;32m    436\u001b[0m             \u001b[0;32mif\u001b[0m \u001b[0misinstance\u001b[0m\u001b[0;34m(\u001b[0m\u001b[0mdo\u001b[0m\u001b[0;34m,\u001b[0m \u001b[0mDoAttempt\u001b[0m\u001b[0;34m)\u001b[0m\u001b[0;34m:\u001b[0m\u001b[0;34m\u001b[0m\u001b[0;34m\u001b[0m\u001b[0m\n",
      "\u001b[0;32m~/.local/lib/python3.10/site-packages/tenacity/__init__.py\u001b[0m in \u001b[0;36miter\u001b[0;34m(self, retry_state)\u001b[0m\n\u001b[1;32m    367\u001b[0m         \u001b[0;32mfor\u001b[0m \u001b[0maction\u001b[0m \u001b[0;32min\u001b[0m \u001b[0mself\u001b[0m\u001b[0;34m.\u001b[0m\u001b[0miter_state\u001b[0m\u001b[0;34m.\u001b[0m\u001b[0mactions\u001b[0m\u001b[0;34m:\u001b[0m\u001b[0;34m\u001b[0m\u001b[0;34m\u001b[0m\u001b[0m\n\u001b[0;32m--> 368\u001b[0;31m             \u001b[0mresult\u001b[0m \u001b[0;34m=\u001b[0m \u001b[0maction\u001b[0m\u001b[0;34m(\u001b[0m\u001b[0mretry_state\u001b[0m\u001b[0;34m)\u001b[0m\u001b[0;34m\u001b[0m\u001b[0;34m\u001b[0m\u001b[0m\n\u001b[0m\u001b[1;32m    369\u001b[0m         \u001b[0;32mreturn\u001b[0m \u001b[0mresult\u001b[0m\u001b[0;34m\u001b[0m\u001b[0;34m\u001b[0m\u001b[0m\n",
      "\u001b[0;32m~/.local/lib/python3.10/site-packages/tenacity/__init__.py\u001b[0m in \u001b[0;36mexc_check\u001b[0;34m(rs)\u001b[0m\n\u001b[1;32m    410\u001b[0m                     \u001b[0;32mraise\u001b[0m \u001b[0mretry_exc\u001b[0m\u001b[0;34m.\u001b[0m\u001b[0mreraise\u001b[0m\u001b[0;34m(\u001b[0m\u001b[0;34m)\u001b[0m\u001b[0;34m\u001b[0m\u001b[0;34m\u001b[0m\u001b[0m\n\u001b[0;32m--> 411\u001b[0;31m                 \u001b[0;32mraise\u001b[0m \u001b[0mretry_exc\u001b[0m \u001b[0;32mfrom\u001b[0m \u001b[0mfut\u001b[0m\u001b[0;34m.\u001b[0m\u001b[0mexception\u001b[0m\u001b[0;34m(\u001b[0m\u001b[0;34m)\u001b[0m\u001b[0;34m\u001b[0m\u001b[0;34m\u001b[0m\u001b[0m\n\u001b[0m\u001b[1;32m    412\u001b[0m \u001b[0;34m\u001b[0m\u001b[0m\n",
      "\u001b[0;31mRetryError\u001b[0m: RetryError[<Future at 0x7fde33545d80 state=finished raised TypeError>]",
      "\nDuring handling of the above exception, another exception occurred:\n",
      "\u001b[0;31mUnboundLocalError\u001b[0m                         Traceback (most recent call last)",
      "\u001b[0;32m/tmp/ipykernel_3889/3526376289.py\u001b[0m in \u001b[0;36m<cell line: 22>\u001b[0;34m()\u001b[0m\n\u001b[1;32m     20\u001b[0m             \u001b[0mprint\u001b[0m\u001b[0;34m(\u001b[0m\u001b[0;34mf\"Fragment '{fragment}' check failed.\"\u001b[0m\u001b[0;34m)\u001b[0m\u001b[0;34m\u001b[0m\u001b[0;34m\u001b[0m\u001b[0m\n\u001b[1;32m     21\u001b[0m \u001b[0;34m\u001b[0m\u001b[0m\n\u001b[0;32m---> 22\u001b[0;31m \u001b[0mcheck_database\u001b[0m\u001b[0;34m(\u001b[0m\u001b[0mdb\u001b[0m\u001b[0;34m)\u001b[0m\u001b[0;34m\u001b[0m\u001b[0;34m\u001b[0m\u001b[0m\n\u001b[0m",
      "\u001b[0;32m/tmp/ipykernel_3889/3526376289.py\u001b[0m in \u001b[0;36mcheck_database\u001b[0;34m(db)\u001b[0m\n\u001b[1;32m     14\u001b[0m     \u001b[0;31m# Проверка на присутствие всех фрагментов\u001b[0m\u001b[0;34m\u001b[0m\u001b[0;34m\u001b[0m\u001b[0m\n\u001b[1;32m     15\u001b[0m     \u001b[0;32mfor\u001b[0m \u001b[0mfragment\u001b[0m \u001b[0;32min\u001b[0m \u001b[0mfragments\u001b[0m\u001b[0;34m:\u001b[0m\u001b[0;34m\u001b[0m\u001b[0;34m\u001b[0m\u001b[0m\n\u001b[0;32m---> 16\u001b[0;31m         \u001b[0mresults\u001b[0m \u001b[0;34m=\u001b[0m \u001b[0mdb\u001b[0m\u001b[0;34m.\u001b[0m\u001b[0msimilarity_search\u001b[0m\u001b[0;34m(\u001b[0m\u001b[0mfragment\u001b[0m\u001b[0;34m,\u001b[0m \u001b[0mk\u001b[0m\u001b[0;34m=\u001b[0m\u001b[0;36m1\u001b[0m\u001b[0;34m)\u001b[0m\u001b[0;34m\u001b[0m\u001b[0;34m\u001b[0m\u001b[0m\n\u001b[0m\u001b[1;32m     17\u001b[0m         \u001b[0;32mif\u001b[0m \u001b[0mresults\u001b[0m \u001b[0;32mand\u001b[0m \u001b[0mresults\u001b[0m\u001b[0;34m[\u001b[0m\u001b[0;36m0\u001b[0m\u001b[0;34m]\u001b[0m\u001b[0;34m.\u001b[0m\u001b[0mpage_content\u001b[0m \u001b[0;34m==\u001b[0m \u001b[0mfragment\u001b[0m\u001b[0;34m:\u001b[0m\u001b[0;34m\u001b[0m\u001b[0;34m\u001b[0m\u001b[0m\n\u001b[1;32m     18\u001b[0m             \u001b[0mprint\u001b[0m\u001b[0;34m(\u001b[0m\u001b[0;34mf\"Fragment '{fragment}' check passed.\"\u001b[0m\u001b[0;34m)\u001b[0m\u001b[0;34m\u001b[0m\u001b[0;34m\u001b[0m\u001b[0m\n",
      "\u001b[0;32m~/.local/lib/python3.10/site-packages/langchain_community/vectorstores/chroma.py\u001b[0m in \u001b[0;36msimilarity_search\u001b[0;34m(self, query, k, filter, **kwargs)\u001b[0m\n\u001b[1;32m    346\u001b[0m             \u001b[0mList\u001b[0m\u001b[0;34m[\u001b[0m\u001b[0mDocument\u001b[0m\u001b[0;34m]\u001b[0m\u001b[0;34m:\u001b[0m \u001b[0mList\u001b[0m \u001b[0mof\u001b[0m \u001b[0mdocuments\u001b[0m \u001b[0mmost\u001b[0m \u001b[0msimilar\u001b[0m \u001b[0mto\u001b[0m \u001b[0mthe\u001b[0m \u001b[0mquery\u001b[0m \u001b[0mtext\u001b[0m\u001b[0;34m.\u001b[0m\u001b[0;34m\u001b[0m\u001b[0;34m\u001b[0m\u001b[0m\n\u001b[1;32m    347\u001b[0m         \"\"\"\n\u001b[0;32m--> 348\u001b[0;31m         docs_and_scores = self.similarity_search_with_score(\n\u001b[0m\u001b[1;32m    349\u001b[0m             \u001b[0mquery\u001b[0m\u001b[0;34m,\u001b[0m \u001b[0mk\u001b[0m\u001b[0;34m,\u001b[0m \u001b[0mfilter\u001b[0m\u001b[0;34m=\u001b[0m\u001b[0mfilter\u001b[0m\u001b[0;34m,\u001b[0m \u001b[0;34m**\u001b[0m\u001b[0mkwargs\u001b[0m\u001b[0;34m\u001b[0m\u001b[0;34m\u001b[0m\u001b[0m\n\u001b[1;32m    350\u001b[0m         )\n",
      "\u001b[0;32m~/.local/lib/python3.10/site-packages/langchain_community/vectorstores/chroma.py\u001b[0m in \u001b[0;36msimilarity_search_with_score\u001b[0;34m(self, query, k, filter, where_document, **kwargs)\u001b[0m\n\u001b[1;32m    435\u001b[0m             )\n\u001b[1;32m    436\u001b[0m         \u001b[0;32melse\u001b[0m\u001b[0;34m:\u001b[0m\u001b[0;34m\u001b[0m\u001b[0;34m\u001b[0m\u001b[0m\n\u001b[0;32m--> 437\u001b[0;31m             \u001b[0mquery_embedding\u001b[0m \u001b[0;34m=\u001b[0m \u001b[0mself\u001b[0m\u001b[0;34m.\u001b[0m\u001b[0m_embedding_function\u001b[0m\u001b[0;34m.\u001b[0m\u001b[0membed_query\u001b[0m\u001b[0;34m(\u001b[0m\u001b[0mquery\u001b[0m\u001b[0;34m)\u001b[0m\u001b[0;34m\u001b[0m\u001b[0;34m\u001b[0m\u001b[0m\n\u001b[0m\u001b[1;32m    438\u001b[0m             results = self.__query_collection(\n\u001b[1;32m    439\u001b[0m                 \u001b[0mquery_embeddings\u001b[0m\u001b[0;34m=\u001b[0m\u001b[0;34m[\u001b[0m\u001b[0mquery_embedding\u001b[0m\u001b[0;34m]\u001b[0m\u001b[0;34m,\u001b[0m\u001b[0;34m\u001b[0m\u001b[0;34m\u001b[0m\u001b[0m\n",
      "\u001b[0;32m/tmp/ipykernel_3889/587435563.py\u001b[0m in \u001b[0;36membed_query\u001b[0;34m(self, query)\u001b[0m\n\u001b[1;32m     15\u001b[0m \u001b[0;34m\u001b[0m\u001b[0m\n\u001b[1;32m     16\u001b[0m     \u001b[0;32mdef\u001b[0m \u001b[0membed_query\u001b[0m\u001b[0;34m(\u001b[0m\u001b[0mself\u001b[0m\u001b[0;34m,\u001b[0m \u001b[0mquery\u001b[0m\u001b[0;34m:\u001b[0m \u001b[0mstr\u001b[0m\u001b[0;34m)\u001b[0m \u001b[0;34m->\u001b[0m \u001b[0mEmbeddings\u001b[0m\u001b[0;34m:\u001b[0m\u001b[0;34m\u001b[0m\u001b[0;34m\u001b[0m\u001b[0m\n\u001b[0;32m---> 17\u001b[0;31m         \u001b[0;32mreturn\u001b[0m \u001b[0mself\u001b[0m\u001b[0;34m.\u001b[0m\u001b[0membeddings\u001b[0m\u001b[0;34m.\u001b[0m\u001b[0membed_query\u001b[0m\u001b[0;34m(\u001b[0m\u001b[0mquery\u001b[0m\u001b[0;34m)\u001b[0m\u001b[0;34m\u001b[0m\u001b[0;34m\u001b[0m\u001b[0m\n\u001b[0m\u001b[1;32m     18\u001b[0m \u001b[0;34m\u001b[0m\u001b[0m\n\u001b[1;32m     19\u001b[0m \u001b[0membedding_function\u001b[0m \u001b[0;34m=\u001b[0m \u001b[0mMyEmbeddingFunction\u001b[0m\u001b[0;34m(\u001b[0m\u001b[0mfolder_id\u001b[0m\u001b[0;34m,\u001b[0m \u001b[0mapi_key\u001b[0m\u001b[0;34m)\u001b[0m\u001b[0;34m\u001b[0m\u001b[0;34m\u001b[0m\u001b[0m\n",
      "\u001b[0;32m~/.local/lib/python3.10/site-packages/yandex_chain/YandexGPTEmbeddings.py\u001b[0m in \u001b[0;36membed_query\u001b[0;34m(self, text)\u001b[0m\n\u001b[1;32m     47\u001b[0m \u001b[0;34m\u001b[0m\u001b[0m\n\u001b[1;32m     48\u001b[0m     \u001b[0;32mdef\u001b[0m \u001b[0membed_query\u001b[0m\u001b[0;34m(\u001b[0m\u001b[0mself\u001b[0m\u001b[0;34m,\u001b[0m \u001b[0mtext\u001b[0m\u001b[0;34m)\u001b[0m\u001b[0;34m:\u001b[0m\u001b[0;34m\u001b[0m\u001b[0;34m\u001b[0m\u001b[0m\n\u001b[0;32m---> 49\u001b[0;31m         \u001b[0;32mreturn\u001b[0m \u001b[0mself\u001b[0m\u001b[0;34m.\u001b[0m\u001b[0m_embed\u001b[0m\u001b[0;34m(\u001b[0m\u001b[0mtext\u001b[0m\u001b[0;34m,\u001b[0m\u001b[0mis_document\u001b[0m\u001b[0;34m=\u001b[0m\u001b[0;32mFalse\u001b[0m\u001b[0;34m)\u001b[0m\u001b[0;34m\u001b[0m\u001b[0;34m\u001b[0m\u001b[0m\n\u001b[0m",
      "\u001b[0;32m~/.local/lib/python3.10/site-packages/yandex_chain/YandexGPTEmbeddings.py\u001b[0m in \u001b[0;36m_embed\u001b[0;34m(self, text, is_document)\u001b[0m\n\u001b[1;32m     34\u001b[0m                     \u001b[0;32mraise\u001b[0m \u001b[0mYException\u001b[0m\u001b[0;34m(\u001b[0m\u001b[0;34mf\"No embedding found, result returned: {js}\"\u001b[0m\u001b[0;34m)\u001b[0m\u001b[0;34m\u001b[0m\u001b[0;34m\u001b[0m\u001b[0m\n\u001b[1;32m     35\u001b[0m         \u001b[0;32mexcept\u001b[0m \u001b[0mRetryError\u001b[0m\u001b[0;34m:\u001b[0m\u001b[0;34m\u001b[0m\u001b[0;34m\u001b[0m\u001b[0m\n\u001b[0;32m---> 36\u001b[0;31m             \u001b[0;32mraise\u001b[0m \u001b[0mYException\u001b[0m\u001b[0;34m(\u001b[0m\u001b[0;34mf\"Error computing embeddings after {self.retries} retries. Result returned:\\n{js}\"\u001b[0m\u001b[0;34m)\u001b[0m\u001b[0;34m\u001b[0m\u001b[0;34m\u001b[0m\u001b[0m\n\u001b[0m\u001b[1;32m     37\u001b[0m \u001b[0;34m\u001b[0m\u001b[0m\n\u001b[1;32m     38\u001b[0m     \u001b[0;32mdef\u001b[0m \u001b[0membed_document\u001b[0m\u001b[0;34m(\u001b[0m\u001b[0mself\u001b[0m\u001b[0;34m,\u001b[0m \u001b[0mtext\u001b[0m\u001b[0;34m)\u001b[0m\u001b[0;34m:\u001b[0m\u001b[0;34m\u001b[0m\u001b[0;34m\u001b[0m\u001b[0m\n",
      "\u001b[0;31mUnboundLocalError\u001b[0m: local variable 'js' referenced before assignment"
     ]
    }
   ],
   "source": [
    "# Проверка корректного создания базы данных и добавленных данных\n",
    "def check_database(db):\n",
    "    # Попробуем извлечь данные по тексту \"Hello World\"\n",
    "    results = db.similarity_search(\"Hello World\", k=1)\n",
    "    if results and results[0].page_content == \"Hello World\":\n",
    "        print(\"Initial data check passed.\")\n",
    "    else:\n",
    "        print(\"Initial data check failed.\")\n",
    "\n",
    "    # Проверим количество записей в базе данных\n",
    "    total_records = db._collection.count()\n",
    "    print(f\"Total records in the database: {total_records}\")\n",
    "\n",
    "    # Проверка на присутствие всех фрагментов\n",
    "    for fragment in fragments:\n",
    "        results = db.similarity_search(fragment, k=1)\n",
    "        if results and results[0].page_content == fragment:\n",
    "            print(f\"Fragment '{fragment}' check passed.\")\n",
    "        else:\n",
    "            print(f\"Fragment '{fragment}' check failed.\")\n",
    "\n",
    "check_database(db)"
   ]
  },
  {
   "cell_type": "code",
   "execution_count": 12,
   "metadata": {
    "execution": {
     "iopub.execute_input": "2024-05-27T22:33:03.230645Z",
     "iopub.status.busy": "2024-05-27T22:33:03.229450Z",
     "iopub.status.idle": "2024-05-27T22:33:05.285081Z",
     "shell.execute_reply": "2024-05-27T22:33:05.283304Z",
     "shell.execute_reply.started": "2024-05-27T22:33:03.230606Z"
    },
    "tags": []
   },
   "outputs": [
    {
     "ename": "UnboundLocalError",
     "evalue": "local variable 'js' referenced before assignment",
     "output_type": "error",
     "traceback": [
      "\u001b[0;31m---------------------------------------------------------------------------\u001b[0m",
      "\u001b[0;31mTypeError\u001b[0m                                 Traceback (most recent call last)",
      "\u001b[0;32m~/.local/lib/python3.10/site-packages/yandex_chain/YandexGPTEmbeddings.py\u001b[0m in \u001b[0;36m_embed\u001b[0;34m(self, text, is_document)\u001b[0m\n\u001b[1;32m     28\u001b[0m                 \u001b[0;32mwith\u001b[0m \u001b[0mattempt\u001b[0m\u001b[0;34m:\u001b[0m\u001b[0;34m\u001b[0m\u001b[0;34m\u001b[0m\u001b[0m\n\u001b[0;32m---> 29\u001b[0;31m                     res = requests.post(\"https://llm.api.cloud.yandex.net/foundationModels/v1/textEmbedding\",\n\u001b[0m\u001b[1;32m     30\u001b[0m                                         json=j,headers=self.headers)\n",
      "\u001b[0;32m~/.local/lib/python3.10/site-packages/requests/api.py\u001b[0m in \u001b[0;36mpost\u001b[0;34m(url, data, json, **kwargs)\u001b[0m\n\u001b[1;32m    114\u001b[0m \u001b[0;34m\u001b[0m\u001b[0m\n\u001b[0;32m--> 115\u001b[0;31m     \u001b[0;32mreturn\u001b[0m \u001b[0mrequest\u001b[0m\u001b[0;34m(\u001b[0m\u001b[0;34m\"post\"\u001b[0m\u001b[0;34m,\u001b[0m \u001b[0murl\u001b[0m\u001b[0;34m,\u001b[0m \u001b[0mdata\u001b[0m\u001b[0;34m=\u001b[0m\u001b[0mdata\u001b[0m\u001b[0;34m,\u001b[0m \u001b[0mjson\u001b[0m\u001b[0;34m=\u001b[0m\u001b[0mjson\u001b[0m\u001b[0;34m,\u001b[0m \u001b[0;34m**\u001b[0m\u001b[0mkwargs\u001b[0m\u001b[0;34m)\u001b[0m\u001b[0;34m\u001b[0m\u001b[0;34m\u001b[0m\u001b[0m\n\u001b[0m\u001b[1;32m    116\u001b[0m \u001b[0;34m\u001b[0m\u001b[0m\n",
      "\u001b[0;32m~/.local/lib/python3.10/site-packages/requests/api.py\u001b[0m in \u001b[0;36mrequest\u001b[0;34m(method, url, **kwargs)\u001b[0m\n\u001b[1;32m     58\u001b[0m     \u001b[0;32mwith\u001b[0m \u001b[0msessions\u001b[0m\u001b[0;34m.\u001b[0m\u001b[0mSession\u001b[0m\u001b[0;34m(\u001b[0m\u001b[0;34m)\u001b[0m \u001b[0;32mas\u001b[0m \u001b[0msession\u001b[0m\u001b[0;34m:\u001b[0m\u001b[0;34m\u001b[0m\u001b[0;34m\u001b[0m\u001b[0m\n\u001b[0;32m---> 59\u001b[0;31m         \u001b[0;32mreturn\u001b[0m \u001b[0msession\u001b[0m\u001b[0;34m.\u001b[0m\u001b[0mrequest\u001b[0m\u001b[0;34m(\u001b[0m\u001b[0mmethod\u001b[0m\u001b[0;34m=\u001b[0m\u001b[0mmethod\u001b[0m\u001b[0;34m,\u001b[0m \u001b[0murl\u001b[0m\u001b[0;34m=\u001b[0m\u001b[0murl\u001b[0m\u001b[0;34m,\u001b[0m \u001b[0;34m**\u001b[0m\u001b[0mkwargs\u001b[0m\u001b[0;34m)\u001b[0m\u001b[0;34m\u001b[0m\u001b[0;34m\u001b[0m\u001b[0m\n\u001b[0m\u001b[1;32m     60\u001b[0m \u001b[0;34m\u001b[0m\u001b[0m\n",
      "\u001b[0;32m~/.local/lib/python3.10/site-packages/requests/sessions.py\u001b[0m in \u001b[0;36mrequest\u001b[0;34m(self, method, url, params, data, headers, cookies, files, auth, timeout, allow_redirects, proxies, hooks, stream, verify, cert, json)\u001b[0m\n\u001b[1;32m    574\u001b[0m         )\n\u001b[0;32m--> 575\u001b[0;31m         \u001b[0mprep\u001b[0m \u001b[0;34m=\u001b[0m \u001b[0mself\u001b[0m\u001b[0;34m.\u001b[0m\u001b[0mprepare_request\u001b[0m\u001b[0;34m(\u001b[0m\u001b[0mreq\u001b[0m\u001b[0;34m)\u001b[0m\u001b[0;34m\u001b[0m\u001b[0;34m\u001b[0m\u001b[0m\n\u001b[0m\u001b[1;32m    576\u001b[0m \u001b[0;34m\u001b[0m\u001b[0m\n",
      "\u001b[0;32m~/.local/lib/python3.10/site-packages/requests/sessions.py\u001b[0m in \u001b[0;36mprepare_request\u001b[0;34m(self, request)\u001b[0m\n\u001b[1;32m    483\u001b[0m         \u001b[0mp\u001b[0m \u001b[0;34m=\u001b[0m \u001b[0mPreparedRequest\u001b[0m\u001b[0;34m(\u001b[0m\u001b[0;34m)\u001b[0m\u001b[0;34m\u001b[0m\u001b[0;34m\u001b[0m\u001b[0m\n\u001b[0;32m--> 484\u001b[0;31m         p.prepare(\n\u001b[0m\u001b[1;32m    485\u001b[0m             \u001b[0mmethod\u001b[0m\u001b[0;34m=\u001b[0m\u001b[0mrequest\u001b[0m\u001b[0;34m.\u001b[0m\u001b[0mmethod\u001b[0m\u001b[0;34m.\u001b[0m\u001b[0mupper\u001b[0m\u001b[0;34m(\u001b[0m\u001b[0;34m)\u001b[0m\u001b[0;34m,\u001b[0m\u001b[0;34m\u001b[0m\u001b[0;34m\u001b[0m\u001b[0m\n",
      "\u001b[0;32m~/.local/lib/python3.10/site-packages/requests/models.py\u001b[0m in \u001b[0;36mprepare\u001b[0;34m(self, method, url, headers, files, data, params, auth, cookies, hooks, json)\u001b[0m\n\u001b[1;32m    369\u001b[0m         \u001b[0mself\u001b[0m\u001b[0;34m.\u001b[0m\u001b[0mprepare_cookies\u001b[0m\u001b[0;34m(\u001b[0m\u001b[0mcookies\u001b[0m\u001b[0;34m)\u001b[0m\u001b[0;34m\u001b[0m\u001b[0;34m\u001b[0m\u001b[0m\n\u001b[0;32m--> 370\u001b[0;31m         \u001b[0mself\u001b[0m\u001b[0;34m.\u001b[0m\u001b[0mprepare_body\u001b[0m\u001b[0;34m(\u001b[0m\u001b[0mdata\u001b[0m\u001b[0;34m,\u001b[0m \u001b[0mfiles\u001b[0m\u001b[0;34m,\u001b[0m \u001b[0mjson\u001b[0m\u001b[0;34m)\u001b[0m\u001b[0;34m\u001b[0m\u001b[0;34m\u001b[0m\u001b[0m\n\u001b[0m\u001b[1;32m    371\u001b[0m         \u001b[0mself\u001b[0m\u001b[0;34m.\u001b[0m\u001b[0mprepare_auth\u001b[0m\u001b[0;34m(\u001b[0m\u001b[0mauth\u001b[0m\u001b[0;34m,\u001b[0m \u001b[0murl\u001b[0m\u001b[0;34m)\u001b[0m\u001b[0;34m\u001b[0m\u001b[0;34m\u001b[0m\u001b[0m\n",
      "\u001b[0;32m~/.local/lib/python3.10/site-packages/requests/models.py\u001b[0m in \u001b[0;36mprepare_body\u001b[0;34m(self, data, files, json)\u001b[0m\n\u001b[1;32m    509\u001b[0m             \u001b[0;32mtry\u001b[0m\u001b[0;34m:\u001b[0m\u001b[0;34m\u001b[0m\u001b[0;34m\u001b[0m\u001b[0m\n\u001b[0;32m--> 510\u001b[0;31m                 \u001b[0mbody\u001b[0m \u001b[0;34m=\u001b[0m \u001b[0mcomplexjson\u001b[0m\u001b[0;34m.\u001b[0m\u001b[0mdumps\u001b[0m\u001b[0;34m(\u001b[0m\u001b[0mjson\u001b[0m\u001b[0;34m,\u001b[0m \u001b[0mallow_nan\u001b[0m\u001b[0;34m=\u001b[0m\u001b[0;32mFalse\u001b[0m\u001b[0;34m)\u001b[0m\u001b[0;34m\u001b[0m\u001b[0;34m\u001b[0m\u001b[0m\n\u001b[0m\u001b[1;32m    511\u001b[0m             \u001b[0;32mexcept\u001b[0m \u001b[0mValueError\u001b[0m \u001b[0;32mas\u001b[0m \u001b[0mve\u001b[0m\u001b[0;34m:\u001b[0m\u001b[0;34m\u001b[0m\u001b[0;34m\u001b[0m\u001b[0m\n",
      "\u001b[0;32m/usr/lib/python3.10/json/__init__.py\u001b[0m in \u001b[0;36mdumps\u001b[0;34m(obj, skipkeys, ensure_ascii, check_circular, allow_nan, cls, indent, separators, default, sort_keys, **kw)\u001b[0m\n\u001b[1;32m    237\u001b[0m         \u001b[0mseparators\u001b[0m\u001b[0;34m=\u001b[0m\u001b[0mseparators\u001b[0m\u001b[0;34m,\u001b[0m \u001b[0mdefault\u001b[0m\u001b[0;34m=\u001b[0m\u001b[0mdefault\u001b[0m\u001b[0;34m,\u001b[0m \u001b[0msort_keys\u001b[0m\u001b[0;34m=\u001b[0m\u001b[0msort_keys\u001b[0m\u001b[0;34m,\u001b[0m\u001b[0;34m\u001b[0m\u001b[0;34m\u001b[0m\u001b[0m\n\u001b[0;32m--> 238\u001b[0;31m         **kw).encode(obj)\n\u001b[0m\u001b[1;32m    239\u001b[0m \u001b[0;34m\u001b[0m\u001b[0m\n",
      "\u001b[0;32m/usr/lib/python3.10/json/encoder.py\u001b[0m in \u001b[0;36mencode\u001b[0;34m(self, o)\u001b[0m\n\u001b[1;32m    198\u001b[0m         \u001b[0;31m# equivalent to the PySequence_Fast that ''.join() would do.\u001b[0m\u001b[0;34m\u001b[0m\u001b[0;34m\u001b[0m\u001b[0m\n\u001b[0;32m--> 199\u001b[0;31m         \u001b[0mchunks\u001b[0m \u001b[0;34m=\u001b[0m \u001b[0mself\u001b[0m\u001b[0;34m.\u001b[0m\u001b[0miterencode\u001b[0m\u001b[0;34m(\u001b[0m\u001b[0mo\u001b[0m\u001b[0;34m,\u001b[0m \u001b[0m_one_shot\u001b[0m\u001b[0;34m=\u001b[0m\u001b[0;32mTrue\u001b[0m\u001b[0;34m)\u001b[0m\u001b[0;34m\u001b[0m\u001b[0;34m\u001b[0m\u001b[0m\n\u001b[0m\u001b[1;32m    200\u001b[0m         \u001b[0;32mif\u001b[0m \u001b[0;32mnot\u001b[0m \u001b[0misinstance\u001b[0m\u001b[0;34m(\u001b[0m\u001b[0mchunks\u001b[0m\u001b[0;34m,\u001b[0m \u001b[0;34m(\u001b[0m\u001b[0mlist\u001b[0m\u001b[0;34m,\u001b[0m \u001b[0mtuple\u001b[0m\u001b[0;34m)\u001b[0m\u001b[0;34m)\u001b[0m\u001b[0;34m:\u001b[0m\u001b[0;34m\u001b[0m\u001b[0;34m\u001b[0m\u001b[0m\n",
      "\u001b[0;32m/usr/lib/python3.10/json/encoder.py\u001b[0m in \u001b[0;36miterencode\u001b[0;34m(self, o, _one_shot)\u001b[0m\n\u001b[1;32m    256\u001b[0m                 self.skipkeys, _one_shot)\n\u001b[0;32m--> 257\u001b[0;31m         \u001b[0;32mreturn\u001b[0m \u001b[0m_iterencode\u001b[0m\u001b[0;34m(\u001b[0m\u001b[0mo\u001b[0m\u001b[0;34m,\u001b[0m \u001b[0;36m0\u001b[0m\u001b[0;34m)\u001b[0m\u001b[0;34m\u001b[0m\u001b[0;34m\u001b[0m\u001b[0m\n\u001b[0m\u001b[1;32m    258\u001b[0m \u001b[0;34m\u001b[0m\u001b[0m\n",
      "\u001b[0;32m/usr/lib/python3.10/json/encoder.py\u001b[0m in \u001b[0;36mdefault\u001b[0;34m(self, o)\u001b[0m\n\u001b[1;32m    178\u001b[0m         \"\"\"\n\u001b[0;32m--> 179\u001b[0;31m         raise TypeError(f'Object of type {o.__class__.__name__} '\n\u001b[0m\u001b[1;32m    180\u001b[0m                         f'is not JSON serializable')\n",
      "\u001b[0;31mTypeError\u001b[0m: Object of type Document is not JSON serializable",
      "\nThe above exception was the direct cause of the following exception:\n",
      "\u001b[0;31mRetryError\u001b[0m                                Traceback (most recent call last)",
      "\u001b[0;32m~/.local/lib/python3.10/site-packages/yandex_chain/YandexGPTEmbeddings.py\u001b[0m in \u001b[0;36m_embed\u001b[0;34m(self, text, is_document)\u001b[0m\n\u001b[1;32m     26\u001b[0m         \u001b[0;32mtry\u001b[0m\u001b[0;34m:\u001b[0m\u001b[0;34m\u001b[0m\u001b[0;34m\u001b[0m\u001b[0m\n\u001b[0;32m---> 27\u001b[0;31m             \u001b[0;32mfor\u001b[0m \u001b[0mattempt\u001b[0m \u001b[0;32min\u001b[0m \u001b[0mRetrying\u001b[0m\u001b[0;34m(\u001b[0m\u001b[0mstop\u001b[0m\u001b[0;34m=\u001b[0m\u001b[0mstop_after_attempt\u001b[0m\u001b[0;34m(\u001b[0m\u001b[0mself\u001b[0m\u001b[0;34m.\u001b[0m\u001b[0mretries\u001b[0m\u001b[0;34m)\u001b[0m\u001b[0;34m,\u001b[0m\u001b[0mwait\u001b[0m\u001b[0;34m=\u001b[0m\u001b[0mwait_fixed\u001b[0m\u001b[0;34m(\u001b[0m\u001b[0mself\u001b[0m\u001b[0;34m.\u001b[0m\u001b[0msleep_interval\u001b[0m\u001b[0;34m)\u001b[0m\u001b[0;34m)\u001b[0m\u001b[0;34m:\u001b[0m\u001b[0;34m\u001b[0m\u001b[0;34m\u001b[0m\u001b[0m\n\u001b[0m\u001b[1;32m     28\u001b[0m                 \u001b[0;32mwith\u001b[0m \u001b[0mattempt\u001b[0m\u001b[0;34m:\u001b[0m\u001b[0;34m\u001b[0m\u001b[0;34m\u001b[0m\u001b[0m\n",
      "\u001b[0;32m~/.local/lib/python3.10/site-packages/tenacity/__init__.py\u001b[0m in \u001b[0;36m__iter__\u001b[0;34m(self)\u001b[0m\n\u001b[1;32m    434\u001b[0m         \u001b[0;32mwhile\u001b[0m \u001b[0;32mTrue\u001b[0m\u001b[0;34m:\u001b[0m\u001b[0;34m\u001b[0m\u001b[0;34m\u001b[0m\u001b[0m\n\u001b[0;32m--> 435\u001b[0;31m             \u001b[0mdo\u001b[0m \u001b[0;34m=\u001b[0m \u001b[0mself\u001b[0m\u001b[0;34m.\u001b[0m\u001b[0miter\u001b[0m\u001b[0;34m(\u001b[0m\u001b[0mretry_state\u001b[0m\u001b[0;34m=\u001b[0m\u001b[0mretry_state\u001b[0m\u001b[0;34m)\u001b[0m\u001b[0;34m\u001b[0m\u001b[0;34m\u001b[0m\u001b[0m\n\u001b[0m\u001b[1;32m    436\u001b[0m             \u001b[0;32mif\u001b[0m \u001b[0misinstance\u001b[0m\u001b[0;34m(\u001b[0m\u001b[0mdo\u001b[0m\u001b[0;34m,\u001b[0m \u001b[0mDoAttempt\u001b[0m\u001b[0;34m)\u001b[0m\u001b[0;34m:\u001b[0m\u001b[0;34m\u001b[0m\u001b[0;34m\u001b[0m\u001b[0m\n",
      "\u001b[0;32m~/.local/lib/python3.10/site-packages/tenacity/__init__.py\u001b[0m in \u001b[0;36miter\u001b[0;34m(self, retry_state)\u001b[0m\n\u001b[1;32m    367\u001b[0m         \u001b[0;32mfor\u001b[0m \u001b[0maction\u001b[0m \u001b[0;32min\u001b[0m \u001b[0mself\u001b[0m\u001b[0;34m.\u001b[0m\u001b[0miter_state\u001b[0m\u001b[0;34m.\u001b[0m\u001b[0mactions\u001b[0m\u001b[0;34m:\u001b[0m\u001b[0;34m\u001b[0m\u001b[0;34m\u001b[0m\u001b[0m\n\u001b[0;32m--> 368\u001b[0;31m             \u001b[0mresult\u001b[0m \u001b[0;34m=\u001b[0m \u001b[0maction\u001b[0m\u001b[0;34m(\u001b[0m\u001b[0mretry_state\u001b[0m\u001b[0;34m)\u001b[0m\u001b[0;34m\u001b[0m\u001b[0;34m\u001b[0m\u001b[0m\n\u001b[0m\u001b[1;32m    369\u001b[0m         \u001b[0;32mreturn\u001b[0m \u001b[0mresult\u001b[0m\u001b[0;34m\u001b[0m\u001b[0;34m\u001b[0m\u001b[0m\n",
      "\u001b[0;32m~/.local/lib/python3.10/site-packages/tenacity/__init__.py\u001b[0m in \u001b[0;36mexc_check\u001b[0;34m(rs)\u001b[0m\n\u001b[1;32m    410\u001b[0m                     \u001b[0;32mraise\u001b[0m \u001b[0mretry_exc\u001b[0m\u001b[0;34m.\u001b[0m\u001b[0mreraise\u001b[0m\u001b[0;34m(\u001b[0m\u001b[0;34m)\u001b[0m\u001b[0;34m\u001b[0m\u001b[0;34m\u001b[0m\u001b[0m\n\u001b[0;32m--> 411\u001b[0;31m                 \u001b[0;32mraise\u001b[0m \u001b[0mretry_exc\u001b[0m \u001b[0;32mfrom\u001b[0m \u001b[0mfut\u001b[0m\u001b[0;34m.\u001b[0m\u001b[0mexception\u001b[0m\u001b[0;34m(\u001b[0m\u001b[0;34m)\u001b[0m\u001b[0;34m\u001b[0m\u001b[0;34m\u001b[0m\u001b[0m\n\u001b[0m\u001b[1;32m    412\u001b[0m \u001b[0;34m\u001b[0m\u001b[0m\n",
      "\u001b[0;31mRetryError\u001b[0m: RetryError[<Future at 0x7fde3363b700 state=finished raised TypeError>]",
      "\nDuring handling of the above exception, another exception occurred:\n",
      "\u001b[0;31mUnboundLocalError\u001b[0m                         Traceback (most recent call last)",
      "\u001b[0;32m/tmp/ipykernel_3889/1241981583.py\u001b[0m in \u001b[0;36m<cell line: 1>\u001b[0;34m()\u001b[0m\n\u001b[0;32m----> 1\u001b[0;31m embeddings_list = [\n\u001b[0m\u001b[1;32m      2\u001b[0m     \u001b[0membeddings\u001b[0m\u001b[0;34m.\u001b[0m\u001b[0membed_query\u001b[0m\u001b[0;34m(\u001b[0m\u001b[0mtext\u001b[0m\u001b[0;34m)\u001b[0m \u001b[0;32mfor\u001b[0m \u001b[0mtext\u001b[0m \u001b[0;32min\u001b[0m \u001b[0mfragments\u001b[0m\u001b[0;34m\u001b[0m\u001b[0;34m\u001b[0m\u001b[0m\n\u001b[1;32m      3\u001b[0m ]  # Получение эмбеддингов для каждого фрагмента\n\u001b[1;32m      4\u001b[0m \u001b[0;34m\u001b[0m\u001b[0m\n\u001b[1;32m      5\u001b[0m \u001b[0;31m# Подключение к существующей базе данных\u001b[0m\u001b[0;34m\u001b[0m\u001b[0;34m\u001b[0m\u001b[0m\n",
      "\u001b[0;32m/tmp/ipykernel_3889/1241981583.py\u001b[0m in \u001b[0;36m<listcomp>\u001b[0;34m(.0)\u001b[0m\n\u001b[1;32m      1\u001b[0m embeddings_list = [\n\u001b[0;32m----> 2\u001b[0;31m     \u001b[0membeddings\u001b[0m\u001b[0;34m.\u001b[0m\u001b[0membed_query\u001b[0m\u001b[0;34m(\u001b[0m\u001b[0mtext\u001b[0m\u001b[0;34m)\u001b[0m \u001b[0;32mfor\u001b[0m \u001b[0mtext\u001b[0m \u001b[0;32min\u001b[0m \u001b[0mfragments\u001b[0m\u001b[0;34m\u001b[0m\u001b[0;34m\u001b[0m\u001b[0m\n\u001b[0m\u001b[1;32m      3\u001b[0m ]  # Получение эмбеддингов для каждого фрагмента\n\u001b[1;32m      4\u001b[0m \u001b[0;34m\u001b[0m\u001b[0m\n\u001b[1;32m      5\u001b[0m \u001b[0;31m# Подключение к существующей базе данных\u001b[0m\u001b[0;34m\u001b[0m\u001b[0;34m\u001b[0m\u001b[0m\n",
      "\u001b[0;32m~/.local/lib/python3.10/site-packages/yandex_chain/YandexGPTEmbeddings.py\u001b[0m in \u001b[0;36membed_query\u001b[0;34m(self, text)\u001b[0m\n\u001b[1;32m     47\u001b[0m \u001b[0;34m\u001b[0m\u001b[0m\n\u001b[1;32m     48\u001b[0m     \u001b[0;32mdef\u001b[0m \u001b[0membed_query\u001b[0m\u001b[0;34m(\u001b[0m\u001b[0mself\u001b[0m\u001b[0;34m,\u001b[0m \u001b[0mtext\u001b[0m\u001b[0;34m)\u001b[0m\u001b[0;34m:\u001b[0m\u001b[0;34m\u001b[0m\u001b[0;34m\u001b[0m\u001b[0m\n\u001b[0;32m---> 49\u001b[0;31m         \u001b[0;32mreturn\u001b[0m \u001b[0mself\u001b[0m\u001b[0;34m.\u001b[0m\u001b[0m_embed\u001b[0m\u001b[0;34m(\u001b[0m\u001b[0mtext\u001b[0m\u001b[0;34m,\u001b[0m\u001b[0mis_document\u001b[0m\u001b[0;34m=\u001b[0m\u001b[0;32mFalse\u001b[0m\u001b[0;34m)\u001b[0m\u001b[0;34m\u001b[0m\u001b[0;34m\u001b[0m\u001b[0m\n\u001b[0m",
      "\u001b[0;32m~/.local/lib/python3.10/site-packages/yandex_chain/YandexGPTEmbeddings.py\u001b[0m in \u001b[0;36m_embed\u001b[0;34m(self, text, is_document)\u001b[0m\n\u001b[1;32m     34\u001b[0m                     \u001b[0;32mraise\u001b[0m \u001b[0mYException\u001b[0m\u001b[0;34m(\u001b[0m\u001b[0;34mf\"No embedding found, result returned: {js}\"\u001b[0m\u001b[0;34m)\u001b[0m\u001b[0;34m\u001b[0m\u001b[0;34m\u001b[0m\u001b[0m\n\u001b[1;32m     35\u001b[0m         \u001b[0;32mexcept\u001b[0m \u001b[0mRetryError\u001b[0m\u001b[0;34m:\u001b[0m\u001b[0;34m\u001b[0m\u001b[0;34m\u001b[0m\u001b[0m\n\u001b[0;32m---> 36\u001b[0;31m             \u001b[0;32mraise\u001b[0m \u001b[0mYException\u001b[0m\u001b[0;34m(\u001b[0m\u001b[0;34mf\"Error computing embeddings after {self.retries} retries. Result returned:\\n{js}\"\u001b[0m\u001b[0;34m)\u001b[0m\u001b[0;34m\u001b[0m\u001b[0;34m\u001b[0m\u001b[0m\n\u001b[0m\u001b[1;32m     37\u001b[0m \u001b[0;34m\u001b[0m\u001b[0m\n\u001b[1;32m     38\u001b[0m     \u001b[0;32mdef\u001b[0m \u001b[0membed_document\u001b[0m\u001b[0;34m(\u001b[0m\u001b[0mself\u001b[0m\u001b[0;34m,\u001b[0m \u001b[0mtext\u001b[0m\u001b[0;34m)\u001b[0m\u001b[0;34m:\u001b[0m\u001b[0;34m\u001b[0m\u001b[0;34m\u001b[0m\u001b[0m\n",
      "\u001b[0;31mUnboundLocalError\u001b[0m: local variable 'js' referenced before assignment"
     ]
    }
   ],
   "source": [
    "embeddings_list = [\n",
    "    embeddings.embed_query(text) for text in fragments\n",
    "]  # Получение эмбеддингов для каждого фрагмента\n",
    "\n",
    "# Подключение к существующей базе данных\n",
    "db = Chroma(persist_directory=db_dir)\n",
    "\n",
    "# Добавление новых данных\n",
    "db.add_texts(texts=fragments, embeddings=embeddings_list)\n",
    "\n",
    "# Сохранение изменений\n",
    "db.persist()"
   ]
  },
  {
   "cell_type": "markdown",
   "metadata": {
    "id": "To6Dcc2cJzod"
   },
   "source": [
    "Далее проиндексируем все выделенные ранее фрагменты нашей документации, используя реализованный нами выше адаптер для YandexGPT-эмбеддингов."
   ]
  },
  {
   "cell_type": "code",
   "execution_count": 19,
   "metadata": {
    "execution": {
     "iopub.execute_input": "2024-05-25T08:30:44.647186Z",
     "iopub.status.busy": "2024-05-25T08:30:44.645802Z",
     "iopub.status.idle": "2024-05-25T11:17:07.364076Z",
     "shell.execute_reply": "2024-05-25T11:17:07.363167Z",
     "shell.execute_reply.started": "2024-05-25T08:30:44.647137Z"
    },
    "id": "k4eUCT_oJzod",
    "tags": []
   },
   "outputs": [
    {
     "name": "stderr",
     "output_type": "stream",
     "text": [
      "[2024-05-25T08:30:44Z WARN  lance::dataset] No existing dataset at /tmp/lancedb/vectorstore.lance, it will be created\n"
     ]
    }
   ],
   "source": [
    "# db = LanceDB.from_documents(fragments, embeddings, connection=db)\n",
    "db = LanceDB.from_documents(fragments, embeddings)"
   ]
  },
  {
   "cell_type": "code",
   "execution_count": 111,
   "metadata": {
    "execution": {
     "iopub.execute_input": "2024-05-26T10:29:42.301943Z",
     "iopub.status.busy": "2024-05-26T10:29:42.300889Z",
     "iopub.status.idle": "2024-05-26T10:29:42.314460Z",
     "shell.execute_reply": "2024-05-26T10:29:42.313740Z",
     "shell.execute_reply.started": "2024-05-26T10:29:42.301896Z"
    },
    "tags": []
   },
   "outputs": [
    {
     "name": "stdout",
     "output_type": "stream",
     "text": [
      "0.6.8\n"
     ]
    }
   ],
   "source": [
    "print(lancedb.__version__)"
   ]
  },
  {
   "cell_type": "code",
   "execution_count": 20,
   "metadata": {
    "colab": {
     "base_uri": "https://localhost:8080/"
    },
    "execution": {
     "iopub.execute_input": "2024-05-25T12:03:48.069564Z",
     "iopub.status.busy": "2024-05-25T12:03:48.068303Z",
     "iopub.status.idle": "2024-05-25T12:03:48.308707Z",
     "shell.execute_reply": "2024-05-25T12:03:48.307821Z",
     "shell.execute_reply.started": "2024-05-25T12:03:48.069517Z"
    },
    "executionInfo": {
     "elapsed": 897,
     "status": "ok",
     "timestamp": 1716395573640,
     "user": {
      "displayName": "Михаил Волков",
      "userId": "04805121734699826834"
     },
     "user_tz": -180
    },
    "id": "m8Xp-PxoB-Zg",
    "outputId": "5d0e8451-d5d8-4cef-badb-886d210104d4",
    "tags": []
   },
   "outputs": [
    {
     "name": "stdout",
     "output_type": "stream",
     "text": [
      "## Выбираем направления обучения в МАИ | новости МАИ Выбираем направления обучения в МАИ | новости МАИ Московский авиационный институт Приёмная комиссия Предыдущий Предприём заявлений\n",
      "\n",
      "Как поступить?\n",
      "\n",
      "Подготовительные курсы\n",
      "\n",
      "Приказы о зачислении Cледующий Контакты Меню для мобильных телефонов Меню ГлавнаяСтатьиВыбираем направления обучения в МАИ\n",
      "\n",
      "Выбираем направления обучения в МАИ | новости МАИ\n",
      "\n",
      "Выбираем направления обучения в МАИ | новости МАИ 19 мая 2022\n",
      "\n",
      "В МАИ состоялся цикл мероприятий, направленных на знакомство абитуриентов с конкурсными группами и программами обучения.\n",
      "\n",
      "Руководители институтов и ответственные секретари рассказали, чему учат на каждом из меганаправлений, об образовательных и карьерных траекториях, целевой подготовке, практике и стажировках и внеучебной жизни.\n"
     ]
    }
   ],
   "source": [
    "q = \"Какие направления обучения есть в МАИ?\"\n",
    "res = db.similarity_search(q)\n",
    "print(res[0].page_content)"
   ]
  },
  {
   "cell_type": "markdown",
   "metadata": {
    "id": "1-VWYFKXJzoe"
   },
   "source": [
    "Также в качестве пример попробуем использовать еще один полезный интерфейс для поиска текстов - `Retriever`, убедимся, что он тоже работает:"
   ]
  },
  {
   "cell_type": "code",
   "execution_count": 21,
   "metadata": {
    "colab": {
     "base_uri": "https://localhost:8080/"
    },
    "execution": {
     "iopub.execute_input": "2024-05-25T12:03:58.576087Z",
     "iopub.status.busy": "2024-05-25T12:03:58.575039Z",
     "iopub.status.idle": "2024-05-25T12:03:58.625082Z",
     "shell.execute_reply": "2024-05-25T12:03:58.624072Z",
     "shell.execute_reply.started": "2024-05-25T12:03:58.576044Z"
    },
    "executionInfo": {
     "elapsed": 1110,
     "status": "ok",
     "timestamp": 1716394500179,
     "user": {
      "displayName": "Михаил Волков",
      "userId": "04805121734699826834"
     },
     "user_tz": -180
    },
    "id": "X8k8vXuqJzoe",
    "outputId": "b8958b68-fd2e-4afe-90d4-689480eb0126",
    "scrolled": true,
    "tags": []
   },
   "outputs": [
    {
     "name": "stdout",
     "output_type": "stream",
     "text": [
      "## Выбираем направления обучения в МАИ | новости МАИ Выбираем направления обучения в МАИ | новости МАИ Московский авиационный институт Приёмная комиссия Предыдущий Предприём заявлений\n",
      "\n",
      "Как поступить?\n",
      "\n",
      "Подготовительные курсы\n",
      "\n",
      "Приказы о зачислении Cледующий Контакты Меню для мобильных телефонов Меню ГлавнаяСтатьиВыбираем направления обучения в МАИ\n",
      "\n",
      "Выбираем направления обучения в МАИ | новости МАИ\n",
      "\n",
      "Выбираем направления обучения в МАИ | новости МАИ 19 мая 2022\n",
      "\n",
      "В МАИ состоялся цикл мероприятий, направленных на знакомство абитуриентов с конкурсными группами и программами обучения.\n",
      "\n",
      "Руководители институтов и ответственные секретари рассказали, чему учат на каждом из меганаправлений, об образовательных и карьерных траекториях, целевой подготовке, практике и стажировках и внеучебной жизни.\n",
      "4. Подготовительные курсы МАИ\n",
      "\n",
      "Центр «Подготовительные курсы МАИ» осуществляет подготовку учащихся 8-11 классов к поступлению в университет и их дальнейшему обучению в МАИ и других вузах. Занятия по подготовке к ОГЭ, ЕГЭ и участию в Олимпиадах проводят высококвалифицированные преподаватели МАИ, имеющие многолетний опыт работы с абитуриентами и студентами. Обучение на подготовительных курсах МАИ даёт возможность:\n",
      "\n",
      "Устранить существующие пробелы в знаниях и улучшить успеваемость в школе;\n",
      "\n",
      "Углубленно подготовиться по предметам, необходимым для поступления и для дальнейшего успешного обучения в институте;\n",
      "\n",
      "Подготовиться к успешной сдаче ОГЭ, ЕГЭ и Олимпиад, победители и призёры которых имеют льготы при поступлении;\n",
      "\n",
      "Развить навыки абстрактного и пространственного мышления и умение творчески подходить к решению заданий повышенной сложности;\n",
      "\n",
      "Психологически подготовиться учащихся к предстоящим экзаменам;\n",
      "\n",
      "Адаптироваться к дальнейшему обучению в вузе.\n",
      "\n",
      "5. Детский технопарк «Траектория взлёта»\n",
      "Целевое обучение в МАИ: что нужно знать абитуриентам и их родителям 20 апр 2023\n",
      "\n",
      "Робототехника, квест в Roblox и нейросети: проведи майские выходные с детским технопарком МАИ 7 апр 2023\n",
      "\n",
      "Оптимизация производства самолётов: как студент МАИ из Дубны помогает промышленности страны 7 8 9 10 11 Рубрики Все статьи Курсы Мероприятия Полезные советы Почему МАИ Профессии будущего Таланты\n",
      "\n",
      "пришло время поведать тебе секретный ингредиент поступления Базовое высшее образование\n",
      "\n",
      "Программы\n",
      "\n",
      "Подача документов\n",
      "\n",
      "Платное обучение\n",
      "\n",
      "Индивидуальные достижения\n",
      "\n",
      "Особые права\n",
      "\n",
      "Целевое обучение\n",
      "\n",
      "Предложения от работодателей\n",
      "\n",
      "Видеопрезентации предприятий 2024\n",
      "\n",
      "Сетевые программы\n",
      "\n",
      "Баллы\n",
      "\n",
      "Экзамены\n",
      "\n",
      "Общежитие\n",
      "\n",
      "Специализированное высшее образование\n",
      "\n",
      "Программы\n",
      "\n",
      "Подача документов\n",
      "\n",
      "Платное обучение\n",
      "\n",
      "Индивидуальные достижения\n",
      "\n",
      "Целевой приём\n",
      "\n",
      "Целевая квота\n",
      "\n",
      "Предложения от работодателей\n",
      "\n",
      "Экзамены\n",
      "\n",
      "Общежитие\n",
      "\n",
      "Среднее профессиональное образование\n",
      "\n",
      "Программы\n",
      "\n",
      "Экзамены\n",
      "\n",
      "Подача документов\n",
      "\n",
      "Сетевые программы\n",
      "\n",
      "Стоимость обучения\n",
      "Стоит отметить, что МАИ — это среда развития, где перед студентами открываются возможности в различных областях. В научной сфере преподаватели поддерживают инициативу и предоставляют необходимое оборудование для исследований. В социальной сфере — это волонтёрские движения, которые помогают реализовать управленческие навыки. пришло время поведать тебе секретный ингредиент поступления Базовое высшее образование\n",
      "\n",
      "Программы\n",
      "\n",
      "Подача документов\n",
      "\n",
      "Платное обучение\n",
      "\n",
      "Индивидуальные достижения\n",
      "\n",
      "Особые права\n",
      "\n",
      "Целевое обучение\n",
      "\n",
      "Предложения от работодателей\n",
      "\n",
      "Видеопрезентации предприятий 2024\n",
      "\n",
      "Сетевые программы\n",
      "\n",
      "Баллы\n",
      "\n",
      "Экзамены\n",
      "\n",
      "Общежитие\n",
      "\n",
      "Специализированное высшее образование\n",
      "\n",
      "Программы\n",
      "\n",
      "Подача документов\n",
      "\n",
      "Платное обучение\n",
      "\n",
      "Индивидуальные достижения\n",
      "\n",
      "Целевой приём\n",
      "\n",
      "Целевая квота\n",
      "\n",
      "Предложения от работодателей\n",
      "\n",
      "Экзамены\n",
      "\n",
      "Общежитие\n",
      "\n",
      "Среднее профессиональное образование\n",
      "\n",
      "Программы\n",
      "\n",
      "Экзамены\n",
      "\n",
      "Подача документов\n",
      "\n",
      "Сетевые программы\n",
      "\n",
      "Стоимость обучения\n",
      "\n",
      "Иностранным гражданам\n",
      "\n",
      "Правила приёма иностранных граждан\n",
      "\n",
      "Базовое высшее\n",
      "## Траектории МАИ | новости МАИ Траектории МАИ | новости МАИ Московский авиационный институт Приёмная комиссия Предыдущий Предприём заявлений\n",
      "\n",
      "Как поступить?\n",
      "\n",
      "Подготовительные курсы\n",
      "\n",
      "Приказы о зачислении\n",
      "\n",
      "Cледующий\n",
      "\n",
      "Контакты\n",
      "\n",
      "Меню для мобильных телефонов\n",
      "\n",
      "Меню\n",
      "\n",
      "ГлавнаяСтатьиТраектории МАИ\n",
      "\n",
      "Траектории МАИ | новости МАИ\n",
      "\n",
      "Траектории МАИ | новости МАИ 28 сентября 2023\n",
      "\n",
      "Как МАИ отвечает на вызовы, стоящие перед высокотехнологичной индустрией, и готовит инженеров будущего.\n"
     ]
    }
   ],
   "source": [
    "retriever = db.as_retriever(search_kwargs={\"k\": 5})\n",
    "res = retriever.get_relevant_documents(q)\n",
    "for x in res:\n",
    "    print(x.page_content)"
   ]
  },
  {
   "cell_type": "markdown",
   "metadata": {
    "id": "jCAZkXZJJzoe"
   },
   "source": [
    "## Подключаемся к Yandex GPT\n",
    "\n",
    "Для формирования целостного ответа на вопрос пользователей нам потребуется обработать найденные фрагменты текста с помощью большой языковой модели. Фреймворк LangChain поддерживает интеграцию с различными большими языковыми моделями, включая Yandex GPT."
   ]
  },
  {
   "cell_type": "code",
   "execution_count": 122,
   "metadata": {
    "colab": {
     "base_uri": "https://localhost:8080/",
     "height": 105
    },
    "execution": {
     "iopub.execute_input": "2024-05-26T11:36:45.276374Z",
     "iopub.status.busy": "2024-05-26T11:36:45.275244Z",
     "iopub.status.idle": "2024-05-26T11:36:47.533314Z",
     "shell.execute_reply": "2024-05-26T11:36:47.532546Z",
     "shell.execute_reply.started": "2024-05-26T11:36:45.276317Z"
    },
    "executionInfo": {
     "elapsed": 5096,
     "status": "ok",
     "timestamp": 1716394532528,
     "user": {
      "displayName": "Михаил Волков",
      "userId": "04805121734699826834"
     },
     "user_tz": -180
    },
    "id": "A6yh_VNKacQY",
    "outputId": "2e1a06a1-37bd-423f-c066-ff8687c73e8a",
    "tags": []
   },
   "outputs": [],
   "source": [
    "from yandex_chain import YandexLLM\n",
    "\n",
    "instructions = \"\"\"\n",
    "Ты - дружелюбный чат-бот, отвечающий на вопросы абитуриентов по поступлению в МАИ\n",
    "\"\"\"\n",
    "\n",
    "llm = YandexLLM(api_key=api_key, folder_id=folder_id, instruction_text=instructions)\n",
    "llm(q)\n",
    "\n",
    "send_tg_message()"
   ]
  },
  {
   "cell_type": "markdown",
   "metadata": {
    "id": "wWqyi71OJzof"
   },
   "source": [
    "В данном примере мы пока что никак не использовали наши текстовые документы.\n",
    "\n",
    "## Собираем Retrieval-Augmented Generation\n",
    "\n",
    "Пришла пора соединить всё вместе и научить бота отвечать на вопросы, подглядывая в наш текстовый корпус. Для этого используем механизм цепочек (*chains*). Основную функциональность реализует `StuffDocumentsChain`, которая делает следующее:\n",
    "\n",
    "1. Берёт коллекцию документов `input_documents`\n",
    "1. Каждый из них пропускает через `document_prompt`, и затем объединяет вместе.\n",
    "1. Данный текст помещается в переменную `document_variable_name`, и передаётся большой языковой модели `llm`\n",
    "\n",
    "В нашем случае `document_prompt` не будет модицицировать документ, а основной запрос к LLM будет содержать в себе инструкции для Yandex GPT."
   ]
  },
  {
   "cell_type": "code",
   "execution_count": 23,
   "metadata": {
    "colab": {
     "base_uri": "https://localhost:8080/",
     "height": 177
    },
    "execution": {
     "iopub.execute_input": "2024-05-25T12:06:40.744999Z",
     "iopub.status.busy": "2024-05-25T12:06:40.743937Z",
     "iopub.status.idle": "2024-05-25T12:06:42.540907Z",
     "shell.execute_reply": "2024-05-25T12:06:42.539997Z",
     "shell.execute_reply.started": "2024-05-25T12:06:40.744955Z"
    },
    "executionInfo": {
     "elapsed": 5876,
     "status": "ok",
     "timestamp": 1716394570112,
     "user": {
      "displayName": "Михаил Волков",
      "userId": "04805121734699826834"
     },
     "user_tz": -180
    },
    "id": "G84SC6s-Jzof",
    "outputId": "d84c4eb7-b7ab-46b6-b86d-a1bc4c2329fd",
    "tags": []
   },
   "outputs": [
    {
     "name": "stderr",
     "output_type": "stream",
     "text": [
      "/home/jupyter/.local/lib/python3.10/site-packages/langchain_core/_api/deprecation.py:119: LangChainDeprecationWarning: The method `Chain.run` was deprecated in langchain 0.1.0 and will be removed in 0.2.0. Use invoke instead.\n",
      "  warn_deprecated(\n"
     ]
    },
    {
     "data": {
      "text/plain": [
       "'В тексте представлена следующая информация о направлениях обучения в **Московском авиационном институте (национальном исследовательском университете):**\\n1. Базовое высшее.  \\n2. Специализируемое высшее.  \\n3. Среднее профессиональное.\\n\\n**Также в тексте упоминается о меганаправлениях:**\\n1. *«Технопредпринимательство*», предполагающее подготовку предпринимателей, создающих инновационные стартапы в различных отраслях технологий и нацеленных на коммерциализацию своих разработок.\\n2. *«Инженер будущего*», обеспечивающее глубокое погружение в инженерную деятельность посредством включения в образовательный процесс элементов научно-исследовательской работы, проектной деятельности, а также прохождения практик и стажировок.\\n3. *«Интеллектуальные авиационные системы*». \\n\\nБолее точная информация представлена на официальном сайте МАИ.'"
      ]
     },
     "execution_count": 23,
     "metadata": {},
     "output_type": "execute_result"
    }
   ],
   "source": [
    "import langchain.chains\n",
    "import langchain.prompts\n",
    "\n",
    "# Промпт для обработки документов\n",
    "document_prompt = langchain.prompts.PromptTemplate(\n",
    "    input_variables=[\"page_content\"], template=\"{page_content}\"\n",
    ")\n",
    "\n",
    "# Промпт для языковой модели\n",
    "document_variable_name = \"context\"\n",
    "stuff_prompt_override = \"\"\"\n",
    "Пожалуйста, посмотри на текст ниже и ответь на вопрос, используя информацию из этого текста.\n",
    "Текст:\n",
    "-----\n",
    "{context}\n",
    "-----\n",
    "Вопрос:\n",
    "{query}\"\"\"\n",
    "prompt = langchain.prompts.PromptTemplate(\n",
    "    template=stuff_prompt_override, input_variables=[\"context\", \"query\"]\n",
    ")\n",
    "\n",
    "# Создаём цепочку\n",
    "llm_chain = langchain.chains.LLMChain(llm=llm, prompt=prompt)\n",
    "chain = langchain.chains.StuffDocumentsChain(\n",
    "    llm_chain=llm_chain,\n",
    "    document_prompt=document_prompt,\n",
    "    document_variable_name=document_variable_name,\n",
    ")\n",
    "chain.run(input_documents=res, query=q)"
   ]
  },
  {
   "cell_type": "markdown",
   "metadata": {
    "id": "yQagOOwCJzof"
   },
   "source": [
    "Чтобы ещё более улучшить результат, мы можем использовать хитрый механизм перемешивания документов, таким образом, чтобы наиболее значимые документы были ближе к началу запроса. Также мы оформим все операции в одну функцию `answer`:"
   ]
  },
  {
   "cell_type": "code",
   "execution_count": 24,
   "metadata": {
    "execution": {
     "iopub.execute_input": "2024-05-25T12:06:50.687068Z",
     "iopub.status.busy": "2024-05-25T12:06:50.685975Z",
     "iopub.status.idle": "2024-05-25T12:06:50.720460Z",
     "shell.execute_reply": "2024-05-25T12:06:50.719639Z",
     "shell.execute_reply.started": "2024-05-25T12:06:50.687026Z"
    },
    "id": "qkew1f1oJzof",
    "tags": []
   },
   "outputs": [],
   "source": [
    "from langchain.document_transformers import LongContextReorder\n",
    "\n",
    "reorderer = LongContextReorder()\n",
    "\n",
    "\n",
    "def answer(query, reorder=True, print_results=False):\n",
    "    results = retriever.get_relevant_documents(query)\n",
    "    if print_results:\n",
    "        for x in results:\n",
    "            print(f\"{x.page_content}\\n--------\")\n",
    "    if reorder:\n",
    "        results = reorderer.transform_documents(results)\n",
    "    return chain.run(input_documents=results, query=query)"
   ]
  },
  {
   "cell_type": "code",
   "execution_count": 1,
   "metadata": {
    "colab": {
     "base_uri": "https://localhost:8080/",
     "height": 87
    },
    "execution": {
     "iopub.execute_input": "2024-05-26T12:17:13.970013Z",
     "iopub.status.busy": "2024-05-26T12:17:13.969012Z",
     "iopub.status.idle": "2024-05-26T12:17:14.066241Z",
     "shell.execute_reply": "2024-05-26T12:17:14.065059Z",
     "shell.execute_reply.started": "2024-05-26T12:17:13.969967Z"
    },
    "executionInfo": {
     "elapsed": 4489,
     "status": "ok",
     "timestamp": 1716394896017,
     "user": {
      "displayName": "Михаил Волков",
      "userId": "04805121734699826834"
     },
     "user_tz": -180
    },
    "id": "Q8143s85Jzof",
    "outputId": "73042f82-71d3-4138-8f1d-86c26aa808aa",
    "tags": []
   },
   "outputs": [
    {
     "ename": "NameError",
     "evalue": "name 'answer' is not defined",
     "output_type": "error",
     "traceback": [
      "\u001b[0;31m---------------------------------------------------------------------------\u001b[0m",
      "\u001b[0;31mNameError\u001b[0m                                 Traceback (most recent call last)",
      "\u001b[0;32m/tmp/ipykernel_308889/2165846351.py\u001b[0m in \u001b[0;36m<cell line: 1>\u001b[0;34m()\u001b[0m\n\u001b[0;32m----> 1\u001b[0;31m \u001b[0manswer\u001b[0m\u001b[0;34m(\u001b[0m\u001b[0;34m\"Перечисли все меганаправления в МАИ\"\u001b[0m\u001b[0;34m,\u001b[0m \u001b[0mprint_results\u001b[0m\u001b[0;34m=\u001b[0m\u001b[0;32mFalse\u001b[0m\u001b[0;34m)\u001b[0m\u001b[0;34m\u001b[0m\u001b[0;34m\u001b[0m\u001b[0m\n\u001b[0m",
      "\u001b[0;31mNameError\u001b[0m: name 'answer' is not defined"
     ]
    }
   ],
   "source": [
    "answer(\"Перечисли все меганаправления в МАИ\", print_results=False)"
   ]
  },
  {
   "cell_type": "markdown",
   "metadata": {
    "id": "n7xQ0JVwJzof"
   },
   "source": [
    "Можно сравнить результаты, выдаваемые Yandex GPT напрямую, с результатами нашей генерации на основе документов:"
   ]
  },
  {
   "cell_type": "code",
   "execution_count": 26,
   "metadata": {
    "colab": {
     "base_uri": "https://localhost:8080/"
    },
    "execution": {
     "iopub.execute_input": "2024-05-25T12:07:03.905536Z",
     "iopub.status.busy": "2024-05-25T12:07:03.904348Z",
     "iopub.status.idle": "2024-05-25T12:07:10.815370Z",
     "shell.execute_reply": "2024-05-25T12:07:10.814591Z",
     "shell.execute_reply.started": "2024-05-25T12:07:03.905475Z"
    },
    "executionInfo": {
     "elapsed": 12025,
     "status": "ok",
     "timestamp": 1716394747960,
     "user": {
      "displayName": "Михаил Волков",
      "userId": "04805121734699826834"
     },
     "user_tz": -180
    },
    "id": "0H6klbnzJzof",
    "outputId": "243d2f06-c9ed-426b-a7d9-6e0b8edbd91c",
    "scrolled": true,
    "tags": []
   },
   "outputs": [
    {
     "name": "stdout",
     "output_type": "stream",
     "text": [
      "Ответ YGPT: В Московском авиационном институте (национальном исследовательском университете) на 2023 год доступно большое число различных направлений подготовки высшего образования. Вот некоторые из них:\n",
      "* «Авионика и применяемая авионика»;\n",
      " * «Аэронавигация и эксплуатация авиационной техники»;\n",
      "* «Двигатели летательных аппаратов»; \n",
      " * «Инновационные технологии проектирования металлических, композиционных и неметаллических материалов для изделий авиационно-космической техники»; \n",
      "*  «Информационно-аналитические системы и технологии»; \n",
      "\n",
      "* «Интеллектуальные системы компьютерной навигации и управления летательными аппаратами»;\n",
      "*  «Инновационные методы конструирования и технологии в машиностроении»;\n",
      "*«Инновационный менеджмент в авиастроении»; \n",
      "*«Конструктивно-технологическое проектирование ракет-носителей и космических аппаратов»;*\n",
      "*  и другие.\n",
      "По каждому направлению магистратуры доступны различные профили, интересующие абитуриента, можно изучить на странице направления в официальном сайте МАИ.\n",
      "Вам также может быть полезным раздел «Как поступить?» на сайте МАИ, который включает информацию о поступлении, необходимых документах, поступлении без экзаменов и другую актуальную информацию.\n",
      "Ответ бота: В **Московском авиационном институте** есть более 70 направлений бакалавриата, специалитета и магистратуры. В сумме они разбиваются **по девяти меганаправлениям**, среди которых:\n",
      "* Авиастроение;\n",
      "* Двигателестроение;\n",
      " * Информатика, кибернетика и электроэнергетика;\n",
      "* Математика и информатика;\n",
      "* Материалы и современные технологии;\n",
      "  * Радиоэлектроника и системы связи;\n",
      " * Ракетнокосмические системы;\n",
      " * Робототехнические системы и комплексы вооружения ЛА;\n",
      "* Управленческо-экономические и лингвистические направления.\n"
     ]
    }
   ],
   "source": [
    "def compare(q):\n",
    "    print(f\"Ответ YGPT: {llm(q)}\")\n",
    "    print(f\"Ответ бота: {answer(q)}\")\n",
    "\n",
    "\n",
    "compare(\"Какие направления есть в МАИ?\")"
   ]
  },
  {
   "cell_type": "markdown",
   "metadata": {
    "tags": []
   },
   "source": [
    "# 3. QA"
   ]
  },
  {
   "cell_type": "code",
   "execution_count": null,
   "metadata": {
    "execution": {
     "iopub.execute_input": "2024-05-25T16:35:54.812613Z",
     "iopub.status.busy": "2024-05-25T16:35:54.811758Z"
    },
    "scrolled": true,
    "tags": []
   },
   "outputs": [
    {
     "name": "stderr",
     "output_type": "stream",
     "text": [
      "Processing files:   0%|          | 0/629 [00:00<?, ?it/s]"
     ]
    },
    {
     "name": "stdout",
     "output_type": "stream",
     "text": [
      "Processing /home/jupyter/datasphere/project/text/23 абитуриента_сетевых_программ_МАИ_и СмолГУ_подписали_договоры_с авиационным_заводом__новости_МАИ.txt\n",
      "Pairs /home/jupyter/datasphere/project/text/23 абитуриента_сетевых_программ_МАИ_и СмолГУ_подписали_договоры_с авиационным_заводом__новости_МАИ.txt\n",
      ": [{'request': 'Какие специальности будут доступны для бюджетного обучения в сентябре 2023 года?', 'response': 'По специальностям «Проектирование, производство и эксплуатация ракет и ракетно-космических комплексов» и «Самолёто- и вертолётостроение»'}, {'request': 'Сколько человек заключили целевые договоры с авиационным заводом?', 'response': '23 абитуриента'}, {'request': 'Сколько человек поступят на бюджетное обучение в сентябре 2023 года?', 'response': '50 человек'}, {'request': 'Какие специальности доступны для платного обучения?', 'response': 'Все специальности, кроме «Проектирование, производство и эксплуатация ракет и ракетно-космических комплексов» и «Самолёто- и вертолётостроение»'}, {'request': 'Какие документы необходимы для поступления?', 'response': 'Список необходимых документов можно найти на сайте МАИ в разделе «Официальные документы».'}]\n"
     ]
    },
    {
     "name": "stderr",
     "output_type": "stream",
     "text": [
      "Processing files:   0%|          | 1/629 [00:25<4:23:27, 25.17s/it]"
     ]
    },
    {
     "name": "stdout",
     "output_type": "stream",
     "text": [
      "Processing /home/jupyter/datasphere/project/text/58 маёвцев_прошли_практику_на Комсомольском-на-Амуре_авиационном_заводе__новости_МАИ.txt\n",
      "Pairs /home/jupyter/datasphere/project/text/58 маёвцев_прошли_практику_на Комсомольском-на-Амуре_авиационном_заводе__новости_МАИ.txt\n",
      ": []\n"
     ]
    },
    {
     "name": "stderr",
     "output_type": "stream",
     "text": [
      "Processing files:   0%|          | 2/629 [00:50<4:23:47, 25.24s/it]"
     ]
    },
    {
     "name": "stdout",
     "output_type": "stream",
     "text": [
      "Processing /home/jupyter/datasphere/project/text/131_первокурсник_МАИ_начнёт_обучение_по программе_Крылья_Ростеха_в 2022_году__новости_МАИ.txt\n",
      "Pairs /home/jupyter/datasphere/project/text/131_первокурсник_МАИ_начнёт_обучение_по программе_Крылья_Ростеха_в 2022_году__новости_МАИ.txt\n",
      ": [{'request': 'Сколько первокурсников МАИ начнут обучение по программе «Крылья Ростеха» в 2022 году?', 'response': '131'}, {'request': 'Что такое целевая программа обучения «Крылья Ростеха» и как на неё попасть?', 'response': 'Всероссийская программа «Крылья Ростеха», направленная на обучение инженеров нового поколения для авиастроительной отрасли. Обучение организуется за счёт компаний-работодателей, входящих в состав Ростеха. В 2022 году обучение в МАИ по программе начнут 131 человек.'}, {'request': 'Где можно найти подробную информацию о программе «Крылья Ростеха»?', 'response': 'На сайте МАИ в разделе «Новости МАИ»'}, {'request': 'Какие специальности будут доступны для обучения по программе «Крылья Ростеха» в 2022 году?', 'response': '«Проектирование авиационных и ракетных двигателей», «Самолёто- и вертолётостроение», «Интегрированные системы летательных аппаратов»'}]\n"
     ]
    },
    {
     "name": "stderr",
     "output_type": "stream",
     "text": [
      "Processing files:   0%|          | 3/629 [01:15<4:23:44, 25.28s/it]"
     ]
    },
    {
     "name": "stdout",
     "output_type": "stream",
     "text": [
      "Processing /home/jupyter/datasphere/project/text/Cистемы_связи_радиоэлектроника_и_информационная_безопасность.txt\n",
      "Pairs /home/jupyter/datasphere/project/text/Cистемы_связи_радиоэлектроника_и_информационная_безопасность.txt\n",
      ": [{'request': 'Какие направления подготовки доступны для специализированного высшего образования в меганаправлении «Системы связи, радиоэлектроника и информационная безопасность»?', 'response': 'В МАИ доступны следующие направления специализированного высшего образования в меганаправлении «Системы связи, радиоэлектроника и информационная безопасность»: - Антенные устройства различного назначения. - Бортовая радиоэлектроника. - Радиолокационные системы. - Инфокоммуникационные системы и сети. - Информационная безопасность. - Радиоэлектронная борьба.'}, {'request': 'Какие направления исследований доступны для студентов меганаправления «Системы связи, радиоэлектроника и информационная безопасность»?', 'response': 'Для студентов меганаправления «Системы связи, радиоэлектроника и информационная безопасность» доступны следующие направления исследований: - Специальная радиоэлектроника. - Антенные устройства различного назначения. - Бортовая радиоэлектроника. - Радиолокационные системы. - Инфокоммуникационные системы и сети. - Информационная безопасность. - Радиоэлектронная борьба. - Построение систем телекоммуникаций, радиосвязи, спутниковой связи. - Обеспечение информационной безопасности объектов защиты, телекоммуникационных систем. - Проектирование радиолокационных и радионавигационных систем. - Программирование микропроцессоров и микроконтроллеров. - Создание лазерных и оптоэлектронных систем различного назначения. - Обработка сигналов и изображений. - Разработка web-приложений. - Технологии интернета вещей и умных городов. - Построение систем машинного зрения. - Изучение методов искусственного интеллекта в области распознавания видео и аудио информации.'}, {'request': 'Какие направления подготовки доступны для среднего профессионального образования в меганаправлении «Системы связи, радиоэлектроника и информационная безопасность»?', 'response': 'В МАИ доступны следующие направления подготовки для среднего профессионального образования в меганаправлении «Системы связи, радиоэлектроника и информационная безопасность»: - Системы связи и коммуникации. - Радиоэлектронные системы и комплексы. - Информационная безопасность. - Информационные системы и технологии.'}, {'request': 'Какие льготы предоставляются победителям и призёрам олимпиад при поступлении в МАИ?', 'response': 'При поступлении в МАИ победители и призёры олимпиад имеют право на льготы, которые включают в себя: - зачисление без экзаменов; - 100 баллов по профильному вступительному испытанию; - преимущество при равенстве баллов с другими поступающими.'}]\n"
     ]
    },
    {
     "name": "stderr",
     "output_type": "stream",
     "text": [
      "Processing files:   1%|          | 4/629 [01:56<5:26:29, 31.34s/it]"
     ]
    },
    {
     "name": "stdout",
     "output_type": "stream",
     "text": [
      "Processing /home/jupyter/datasphere/project/text/IT-магистратура_в_Москве.txt\n",
      "Pairs /home/jupyter/datasphere/project/text/IT-магистратура_в_Москве.txt\n",
      ": [{'request': 'Какие направления подготовки доступны в IT-магистратуре в Москве?', 'response': 'В IT-магистратуре Московского авиационного института (МАИ) в Москве доступны следующие направления подготовки:     Информационные технологии в управлении;     Информационные технологии в экономике и управлении;     Информационные технологии в образовании;     Информационные технологии в юриспруденции;     Информационные технологии в дизайне;     Информационные технологии в строительстве;     Информационные технологии в логистике;     Информационные технологии в менеджменте;     Информационные технологии в государственном и муниципальном управлении;     Информационные технологии в управлении персоналом;     Информационные технологии в маркетинге;     Информационные технологии в управлении проектами;     Информационные технологии в управлении качеством;     Информационные технологии в управлении рисками;     Информационные технологии в управлении инновациями;     Информационные технологии в управлении персоналом;     Информационные технологии в управлении финансами;     Информационные технологии в управлении закупками;     Информационные технологии в управлении производством;     Информационные технологии в управлении логистикой;     Информационные технологии в управлении цепями поставок;     Информационные технологии в управлении проектами;     Информационные технологии в управлении качеством;     Информационные технологии в управлении рисками;     Информационные технологии в управлении инновациями;     Информационные технологии в управлении персоналом;     Информационные технологии в управлении финансами;     Информационные технологии в управлении закупками;     Информационные технологии в управлении производством;     Информационные технологии в управлении цепями поставок.   '}, {'request': 'Какие вступительные испытания необходимо пройти для поступления в IT-магистратуру в МАИ?', 'response': 'Для поступления в IT-магистратуру Московского авиационного института (МАИ) необходимо сдать следующие вступительные испытания:     Математика (устно или письменно);     Русский язык (устно или письменно);     Информатика (устно или письменно).    В зависимости от выбранного направления подготовки могут быть также предложены дополнительные вступительные испытания по соответствующим дисциплинам.   '}, {'request': 'Какие документы необходимы для поступления в IT-магистратуру в МАИ?', 'response': 'Для поступления в IT-магистратуру Московского авиационного института (МАИ) необходимо предоставить следующие документы:     Заявление о поступлении;     Паспорт или другой документ, удостоверяющий личность;     Диплом о высшем образовании (бакалавриат или специалитет);     Документы, подтверждающие индивидуальные достижения (при наличии);     Фотографии (в зависимости от требований приёмной комиссии).    В зависимости от выбранного направления подготовки могут потребоваться дополнительные документы.   '}, {'request': 'Какие сроки подачи документов для поступления в IT-магистратуру в МАИ?', 'response': 'Приём документов для поступления в IT-магистратуру Московского авиационного института (МАИ) осуществляется в следующие сроки:     Приём документов от лиц, имеющих среднее общее образование: с 20 июня по 15 августа;     Приём документов от лиц, имеющих среднее профессиональное образование: с 10 июля по 15 августа.    Приём документов завершается не позднее чем за 10 дней до дня начала приёма документов для поступления.   '}, {'request': 'Какие формы обучения доступны в IT-магистратуре в МАИ?', 'response': 'В IT-магистратуре Московского авиационного института (МАИ) доступны следующие формы обучения:     Очная форма обучения (дневная форма);     Заочная форма обучения (очно-заочная форма);     Дистанционная форма обучения.    В зависимости от выбранного направления подготовки и формы обучения могут быть предложены различные программы обучения.   '}]\n"
     ]
    },
    {
     "name": "stderr",
     "output_type": "stream",
     "text": [
      "Processing files:   1%|          | 5/629 [02:25<5:18:09, 30.59s/it]"
     ]
    },
    {
     "name": "stdout",
     "output_type": "stream",
     "text": [
      "Processing /home/jupyter/datasphere/project/text/IT и радиоэлектроника_опыт_студентки_МАИ_из Новосибирска__новости_МАИ.txt\n",
      "Pairs /home/jupyter/datasphere/project/text/IT и радиоэлектроника_опыт_студентки_МАИ_из Новосибирска__новости_МАИ.txt\n",
      ": [{'request': 'Какие направления подготовки предлагает МАИ?', 'response': 'МАИ предлагает широкий спектр направлений подготовки, включая базовое, специализированное и среднее профессиональное высшее образование, а также программы для иностранных граждан.'}, {'request': 'Какие вступительные испытания проводятся МАИ самостоятельно?', 'response': 'МАИ самостоятельно проводит вступительные испытания по различным направлениям подготовки, включая экзамены по общеобразовательным предметам, а также по программам вступительных испытаний в магистратуру.'}, {'request': 'Какие льготы предоставляются победителям и призёрам олимпиад при поступлении?', 'response': 'Победители и призёры олимпиад имеют льготы при поступлении, включая возможность поступления без экзаменов или с более высокими баллами.'}, {'request': 'Какие стипендии и гранты доступны для студентов МАИ?', 'response': 'Студенты МАИ могут получать стипендии за хорошую успеваемость, научные исследования, участие в студенческих организациях и другие достижения. Также МАИ предлагает гранты для студентов, которые хотят углубить свои знания в области IT.'}]\n"
     ]
    },
    {
     "name": "stderr",
     "output_type": "stream",
     "text": [
      "Processing files:   1%|          | 6/629 [02:49<4:53:58, 28.31s/it]"
     ]
    },
    {
     "name": "stdout",
     "output_type": "stream",
     "text": [
      "Processing /home/jupyter/datasphere/project/text/IT-Центр_МАИ_провёл_день_открытых_дверей_для_бакалавров_и специалистов__новости_МАИ.txt\n",
      "Pairs /home/jupyter/datasphere/project/text/IT-Центр_МАИ_провёл_день_открытых_дверей_для_бакалавров_и специалистов__новости_МАИ.txt\n",
      ": []\n"
     ]
    },
    {
     "name": "stderr",
     "output_type": "stream",
     "text": [
      "Processing files:   1%|          | 7/629 [03:15<4:43:45, 27.37s/it]"
     ]
    },
    {
     "name": "stdout",
     "output_type": "stream",
     "text": [
      "Processing /home/jupyter/datasphere/project/text/Абитуриент_МАИ_изобрёл_универсальную_и экономичную_руку-манипулятор__новости_МАИ.txt\n",
      "Pairs /home/jupyter/datasphere/project/text/Абитуриент_МАИ_изобрёл_универсальную_и экономичную_руку-манипулятор__новости_МАИ.txt\n",
      ": []\n"
     ]
    },
    {
     "name": "stderr",
     "output_type": "stream",
     "text": [
      "Processing files:   1%|▏         | 8/629 [03:36<4:23:20, 25.44s/it]"
     ]
    },
    {
     "name": "stdout",
     "output_type": "stream",
     "text": [
      "Processing /home/jupyter/datasphere/project/text/Авиаперспективы_сквозь_призму_цифровых_технологий_ректор_МАИ _о трендах_в отрасли__новости_МАИ.txt\n",
      "Pairs /home/jupyter/datasphere/project/text/Авиаперспективы_сквозь_призму_цифровых_технологий_ректор_МАИ _о трендах_в отрасли__новости_МАИ.txt\n",
      ": [{'request': 'Какие технологии являются ключевыми для развития авиационной отрасли?', 'response': 'Цифровая трансформация, искусственный интеллект, новые материалы, электродвижение, беспилотная авиационная техника.'}, {'request': 'Как искусственный интеллект влияет на безопасность полётов?', 'response': 'Искусственный интеллект позволяет прогнозировать поведение различных элементов и систем летательного аппарата, что помогает предвосхищать критические ситуации на борту и повышать уровень безопасности.'}, {'request': 'Какова роль бортовой электроники и интегрированной авионики в обеспечении безопасности полётов?', 'response': 'Бортовая электроника и интегрированная авионика играют важную роль в обеспечении безопасности, надёжности и функциональности воздушных судов.'}, {'request': 'Какие материалы используются в современной авиации?', 'response': 'В современной авиации используются композиционные конструкции и аддитивные технологии.'}, {'request': 'Что такое электрификация инженерных систем в авиации?', 'response': 'Электрификация инженерных систем — это использование электрических двигателей и накопителей энергии для обеспечения электродвигателей и других систем воздушных судов.'}]\n"
     ]
    },
    {
     "name": "stderr",
     "output_type": "stream",
     "text": [
      "Processing files:   1%|▏         | 9/629 [04:01<4:22:34, 25.41s/it]"
     ]
    },
    {
     "name": "stdout",
     "output_type": "stream",
     "text": [
      "Processing /home/jupyter/datasphere/project/text/Авиаприборостроение_и_электронная_инженерия_(на_англ._языке).txt\n",
      "Pairs /home/jupyter/datasphere/project/text/Авиаприборостроение_и_электронная_инженерия_(на_англ._языке).txt\n",
      ": []\n"
     ]
    },
    {
     "name": "stderr",
     "output_type": "stream",
     "text": [
      "Processing files:   2%|▏         | 10/629 [04:32<4:40:18, 27.17s/it]"
     ]
    },
    {
     "name": "stdout",
     "output_type": "stream",
     "text": [
      "Processing /home/jupyter/datasphere/project/text/Авиастроение.txt\n",
      "Pairs /home/jupyter/datasphere/project/text/Авиастроение.txt\n",
      ": []\n"
     ]
    },
    {
     "name": "stderr",
     "output_type": "stream",
     "text": [
      "Processing files:   2%|▏         | 11/629 [04:59<4:38:53, 27.08s/it]"
     ]
    },
    {
     "name": "stdout",
     "output_type": "stream",
     "text": [
      "Processing /home/jupyter/datasphere/project/text/Авиационное_приборостроение_и_электронная_инженерия_(набор_только_иностранных_граждан).txt\n",
      "Pairs /home/jupyter/datasphere/project/text/Авиационное_приборостроение_и_электронная_инженерия_(набор_только_иностранных_граждан).txt\n",
      ": []\n"
     ]
    },
    {
     "name": "stderr",
     "output_type": "stream",
     "text": [
      "Processing files:   2%|▏         | 12/629 [05:21<4:21:01, 25.38s/it]"
     ]
    },
    {
     "name": "stdout",
     "output_type": "stream",
     "text": [
      "Processing /home/jupyter/datasphere/project/text/Авиационное_электрооборудование.txt\n",
      "Pairs /home/jupyter/datasphere/project/text/Авиационное_электрооборудование.txt\n",
      ": []\n"
     ]
    },
    {
     "name": "stderr",
     "output_type": "stream",
     "text": [
      "Processing files:   2%|▏         | 13/629 [05:47<4:22:38, 25.58s/it]"
     ]
    },
    {
     "name": "stdout",
     "output_type": "stream",
     "text": [
      "Processing /home/jupyter/datasphere/project/text/Авиационные_двигатели_с_альтернативными_источниками_энергии.txt\n",
      "Pairs /home/jupyter/datasphere/project/text/Авиационные_двигатели_с_альтернативными_источниками_энергии.txt\n",
      ": []\n"
     ]
    },
    {
     "name": "stderr",
     "output_type": "stream",
     "text": [
      "Processing files:   2%|▏         | 14/629 [06:14<4:28:37, 26.21s/it]"
     ]
    },
    {
     "name": "stdout",
     "output_type": "stream",
     "text": [
      "Processing /home/jupyter/datasphere/project/text/Автоматизированное_управление_бизнес-процессами_и_финансами.txt\n",
      "Pairs /home/jupyter/datasphere/project/text/Автоматизированное_управление_бизнес-процессами_и_финансами.txt\n",
      ": []\n"
     ]
    },
    {
     "name": "stderr",
     "output_type": "stream",
     "text": [
      "Processing files:   2%|▏         | 15/629 [06:36<4:14:03, 24.83s/it]"
     ]
    },
    {
     "name": "stdout",
     "output_type": "stream",
     "text": [
      "Processing /home/jupyter/datasphere/project/text/Автоматизированное_управление_ресурсами_в_экономике.txt\n",
      "Pairs /home/jupyter/datasphere/project/text/Автоматизированное_управление_ресурсами_в_экономике.txt\n",
      ": []\n"
     ]
    },
    {
     "name": "stderr",
     "output_type": "stream",
     "text": [
      "Processing files:   3%|▎         | 16/629 [07:03<4:20:36, 25.51s/it]"
     ]
    },
    {
     "name": "stdout",
     "output_type": "stream",
     "text": [
      "Processing /home/jupyter/datasphere/project/text/Автоматизированные_системы_обработки_информации_и_управления_1.txt\n",
      "Pairs /home/jupyter/datasphere/project/text/Автоматизированные_системы_обработки_информации_и_управления_1.txt\n",
      ": []\n"
     ]
    },
    {
     "name": "stderr",
     "output_type": "stream",
     "text": [
      "Processing files:   3%|▎         | 17/629 [07:25<4:07:44, 24.29s/it]"
     ]
    },
    {
     "name": "stdout",
     "output_type": "stream",
     "text": [
      "Processing /home/jupyter/datasphere/project/text/Автоматизированные_системы_обработки_информации_и_управления.txt\n",
      "Pairs /home/jupyter/datasphere/project/text/Автоматизированные_системы_обработки_информации_и_управления.txt\n",
      ": []\n"
     ]
    },
    {
     "name": "stderr",
     "output_type": "stream",
     "text": [
      "Processing files:   3%|▎         | 18/629 [07:46<3:58:37, 23.43s/it]"
     ]
    },
    {
     "name": "stdout",
     "output_type": "stream",
     "text": [
      "Processing /home/jupyter/datasphere/project/text/Анонсы.txt\n",
      "Pairs /home/jupyter/datasphere/project/text/Анонсы.txt\n",
      ": [{'request': 'Какие направления подготовки предлагает МАИ для получения базового высшего образования?', 'response': 'МАИ предлагает следующие направления подготовки для получения базового высшего образования:   Базовое высшее образование      Авиастроение      Ракетно-космические системы      Двигателестроение      Радиоэлектроника и системы связи      Компьютерные науки и прикладная математика      Бортовая электроника и техническая кибернетика      Робототехнические системы и комплексы вооружения ЛА      Материалы и современные технологии      Управленческо-экономические и лингвистические направления   Специализированное высшее образование      Авиастроение      Ракетно-космические системы      Двигателестроение      Радиоэлектроника и системы связи      Компьютерные науки и прикладная математика      Бортовая электроника и техническая кибернетика      Робототехнические системы и комплексы вооружения ЛА      Материалы и современные технологии      Управленческо-экономические и лингвистические направления   Среднее профессиональное образование      Авиастроение      Ракетно-космические системы      Двигателестроение      Радиоэлектроника и системы связи      Компьютерные науки и прикладная математика      Бортовая электроника и техническая кибернетика      Робототехнические системы и комплексы вооружения ЛА      Материалы и современные технологии      Управленческо-экономические и лингвистические направления  '}, {'request': 'Какие экзамены нужно сдавать для поступления на целевое обучение?', 'response': 'Для поступления на целевое обучение необходимо сдать следующие экзамены:   ЕГЭ по математике, русскому языку, физике или информатике (в зависимости от направления подготовки);  Вступительные испытания, проводимые МАИ самостоятельно;  Дополнительные вступительные испытания творческой и (или) профессиональной направленности (в зависимости от направления подготовки).  Подробности о необходимых экзаменах и вступительных испытаниях можно найти в нормативных документах МАИ и на сайте института.  '}, {'request': 'Какие льготы предоставляются победителям и призёрам олимпиад при поступлении?', 'response': 'Победители и призёры олимпиад, соответствующих профилю направления подготовки, могут получить льготы при поступлении. Подробности о льготах можно найти в нормативных документах МАИ и на сайте института.  Льготы могут включать в себя:   Зачисление без вступительных испытаний;  Приравнивание к 100 баллам по профильному предмету;  Дополнительные баллы к результатам ЕГЭ.  Подробности о льготах и условиях их предоставления можно узнать на сайте института и в нормативных документах.  '}, {'request': 'Какие документы необходимы для поступления в МАИ?', 'response': 'Для поступления в МАИ необходимо предоставить следующие документы:   Заявление о приёме;  Паспорт или другой документ, удостоверяющий личность;  Документ об образовании (аттестат, диплом);  Фотографии;  Медицинская справка (для некоторых направлений подготовки);  Документы, подтверждающие особые права и преимущества (для некоторых категорий поступающих).  Подробности о необходимых документах можно найти в нормативных документах МАИ и на сайте института.  '}]\n"
     ]
    },
    {
     "name": "stderr",
     "output_type": "stream",
     "text": [
      "Processing files:   3%|▎         | 19/629 [08:14<4:13:35, 24.94s/it]"
     ]
    },
    {
     "name": "stdout",
     "output_type": "stream",
     "text": [
      "Processing /home/jupyter/datasphere/project/text/Анонсы_1.txt\n",
      "Pairs /home/jupyter/datasphere/project/text/Анонсы_1.txt\n",
      ": []\n"
     ]
    },
    {
     "name": "stderr",
     "output_type": "stream",
     "text": [
      "Processing files:   3%|▎         | 20/629 [08:41<4:16:59, 25.32s/it]"
     ]
    },
    {
     "name": "stdout",
     "output_type": "stream",
     "text": [
      "Processing /home/jupyter/datasphere/project/text/Анонсы_2.txt\n",
      "Pairs /home/jupyter/datasphere/project/text/Анонсы_2.txt\n",
      ": []\n"
     ]
    },
    {
     "name": "stderr",
     "output_type": "stream",
     "text": [
      "Processing files:   3%|▎         | 21/629 [09:04<4:11:46, 24.85s/it]"
     ]
    },
    {
     "name": "stdout",
     "output_type": "stream",
     "text": [
      "Processing /home/jupyter/datasphere/project/text/Анонсы_3.txt\n",
      "Pairs /home/jupyter/datasphere/project/text/Анонсы_3.txt\n",
      ": [{'request': 'Какие программы предлагает МАИ для базового высшего образования?', 'response': 'МАИ предлагает различные программы для базового высшего образования, включая следующие направления: - Авиастроение. - Ракетно-космические системы. - Двигателестроение. - Радиоэлектроника и системы связи. - Компьютерные науки и прикладная математика. - Бортовая электроника и техническая кибернетика. - Робототехнические системы и комплексы вооружения ЛА. - Материалы и современные технологии. - Управленческо-экономические и лингвистические направления.'}, {'request': 'Какие экзамены нужно сдавать для поступления на программы базового высшего образования?', 'response': 'Для поступления на программы базового высшего образования необходимо сдать следующие экзамены: - Русский язык. - Математика (базовый уровень). - Физика, химия или информатика (на выбор). - Дополнительные экзамены в зависимости от направления обучения.'}, {'request': 'Какие льготы предоставляются победителям олимпиад при поступлении на программы базового высшего образования?', 'response': 'Победители и призёры олимпиад, соответствующих профилю направления, могут получить льготы при поступлении на программы базового высшего образования. Льготы могут включать в себя дополнительные баллы к результатам ЕГЭ или зачисление без экзаменов.'}, {'request': 'Какие документы необходимы для поступления на программы базового высшего образования?', 'response': 'Для поступления на программы базового высшего образования необходимы следующие документы: - Заявление о приёме. - Паспорт или другой документ, удостоверяющий личность. - Аттестат о среднем общем образовании или диплом о среднем профессиональном образовании. - Документы, подтверждающие индивидуальные достижения (при наличии). - Фотографии (при необходимости). - Медицинская справка (при необходимости). - Другие документы, предусмотренные правилами приёма.'}]\n"
     ]
    },
    {
     "name": "stderr",
     "output_type": "stream",
     "text": [
      "Processing files:   3%|▎         | 22/629 [09:30<4:15:00, 25.21s/it]"
     ]
    },
    {
     "name": "stdout",
     "output_type": "stream",
     "text": [
      "Processing /home/jupyter/datasphere/project/text/Антенные_системы_и_устройства.txt\n",
      "Pairs /home/jupyter/datasphere/project/text/Антенные_системы_и_устройства.txt\n",
      ": []\n"
     ]
    },
    {
     "name": "stderr",
     "output_type": "stream",
     "text": [
      "Processing files:   4%|▎         | 23/629 [09:52<4:03:16, 24.09s/it]"
     ]
    },
    {
     "name": "stdout",
     "output_type": "stream",
     "text": [
      "Processing /home/jupyter/datasphere/project/text/Антикризисное_управление_и_консалтинг.txt\n",
      "Pairs /home/jupyter/datasphere/project/text/Антикризисное_управление_и_консалтинг.txt\n",
      ": []\n"
     ]
    },
    {
     "name": "stderr",
     "output_type": "stream",
     "text": [
      "Processing files:   4%|▍         | 24/629 [10:19<4:10:56, 24.89s/it]"
     ]
    },
    {
     "name": "stdout",
     "output_type": "stream",
     "text": [
      "Processing /home/jupyter/datasphere/project/text/Аспирантка_МАИ_Анна_Кикина_верит_в инопланетян_и слушает_русский_рок__новости_МАИ.txt\n",
      "Pairs /home/jupyter/datasphere/project/text/Аспирантка_МАИ_Анна_Кикина_верит_в инопланетян_и слушает_русский_рок__новости_МАИ.txt\n",
      ": [{'request': 'В каком году Анна Кикина поступила в аспирантуру МАИ?', 'response': '2020 учебный год'}, {'request': 'Какие научные исследования планирует вести Анна Кикина на борту МКС?', 'response': 'Проведение различных научных экспериментов'}, {'request': 'Что такое «Выход-2»?', 'response': 'Тренажёр «Выход-2» — тренажёр для тренировки прямого и обратного шлюзования'}, {'request': 'Что такое обезвешивающая среда?', 'response': 'Обезвешивающая среда — это вода'}, {'request': 'Что такое «Выход-2»?', 'response': 'Тренажёр «Выход-2» — тренажёр для тренировки прямого и обратного шлюзования'}]\n"
     ]
    },
    {
     "name": "stderr",
     "output_type": "stream",
     "text": [
      "Processing files:   4%|▍         | 25/629 [10:43<4:07:31, 24.59s/it]"
     ]
    },
    {
     "name": "stdout",
     "output_type": "stream",
     "text": [
      "Processing /home/jupyter/datasphere/project/text/Аспирантура_МАИ_гид_по поступлению__новости_МАИ.txt\n",
      "Pairs /home/jupyter/datasphere/project/text/Аспирантура_МАИ_гид_по поступлению__новости_МАИ.txt\n",
      ": []\n"
     ]
    },
    {
     "name": "stderr",
     "output_type": "stream",
     "text": [
      "Processing files:   4%|▍         | 26/629 [11:09<4:13:20, 25.21s/it]"
     ]
    },
    {
     "name": "stdout",
     "output_type": "stream",
     "text": [
      "Processing /home/jupyter/datasphere/project/text/Аэродинамика_летательных_аппаратов.txt\n",
      "Pairs /home/jupyter/datasphere/project/text/Аэродинамика_летательных_аппаратов.txt\n",
      ": []\n"
     ]
    },
    {
     "name": "stderr",
     "output_type": "stream",
     "text": [
      "Processing files:   4%|▍         | 27/629 [11:36<4:16:46, 25.59s/it]"
     ]
    },
    {
     "name": "stdout",
     "output_type": "stream",
     "text": [
      "Processing /home/jupyter/datasphere/project/text/Аэрокосмическая_техника.txt\n",
      "Pairs /home/jupyter/datasphere/project/text/Аэрокосмическая_техника.txt\n",
      ": []\n"
     ]
    },
    {
     "name": "stderr",
     "output_type": "stream",
     "text": [
      "Processing files:   4%|▍         | 28/629 [11:57<4:04:08, 24.37s/it]"
     ]
    },
    {
     "name": "stdout",
     "output_type": "stream",
     "text": [
      "Processing /home/jupyter/datasphere/project/text/Аэрокосмическая_техника_(сетевая_программа_МАИ_и_Сибирского_государственного_университета_науки_и_те_1.txt\n",
      "Pairs /home/jupyter/datasphere/project/text/Аэрокосмическая_техника_(сетевая_программа_МАИ_и_Сибирского_государственного_университета_науки_и_те_1.txt\n",
      ": []\n"
     ]
    },
    {
     "name": "stderr",
     "output_type": "stream",
     "text": [
      "Processing files:   5%|▍         | 29/629 [12:18<3:54:01, 23.40s/it]"
     ]
    },
    {
     "name": "stdout",
     "output_type": "stream",
     "text": [
      "Processing /home/jupyter/datasphere/project/text/Аэрокосмическая_техника_(сетевая_программа_МАИ_и_Сибирского_государственного_университета_науки_и_те.txt\n",
      "Pairs /home/jupyter/datasphere/project/text/Аэрокосмическая_техника_(сетевая_программа_МАИ_и_Сибирского_государственного_университета_науки_и_те.txt\n",
      ": []\n"
     ]
    },
    {
     "name": "stderr",
     "output_type": "stream",
     "text": [
      "Processing files:   5%|▍         | 30/629 [12:40<3:47:12, 22.76s/it]"
     ]
    },
    {
     "name": "stdout",
     "output_type": "stream",
     "text": [
      "Processing /home/jupyter/datasphere/project/text/Аэрокосмическая_техника_1.txt\n",
      "Pairs /home/jupyter/datasphere/project/text/Аэрокосмическая_техника_1.txt\n",
      ": []\n"
     ]
    },
    {
     "name": "stderr",
     "output_type": "stream",
     "text": [
      "Processing files:   5%|▍         | 31/629 [13:06<3:58:51, 23.97s/it]"
     ]
    },
    {
     "name": "stdout",
     "output_type": "stream",
     "text": [
      "Processing /home/jupyter/datasphere/project/text/Базовое_высшее.txt\n",
      "Pairs /home/jupyter/datasphere/project/text/Базовое_высшее.txt\n",
      ": []\n"
     ]
    },
    {
     "name": "stderr",
     "output_type": "stream",
     "text": [
      "Processing files:   5%|▌         | 32/629 [13:32<4:02:00, 24.32s/it]"
     ]
    },
    {
     "name": "stdout",
     "output_type": "stream",
     "text": [
      "Processing /home/jupyter/datasphere/project/text/Базовое_высшее_образование.txt\n",
      "Pairs /home/jupyter/datasphere/project/text/Базовое_высшее_образование.txt\n",
      ": []\n"
     ]
    },
    {
     "name": "stderr",
     "output_type": "stream",
     "text": [
      "Processing files:   5%|▌         | 33/629 [13:57<4:04:08, 24.58s/it]"
     ]
    },
    {
     "name": "stdout",
     "output_type": "stream",
     "text": [
      "Processing /home/jupyter/datasphere/project/text/Базовое_высшее_образование_1.txt\n",
      "Pairs /home/jupyter/datasphere/project/text/Базовое_высшее_образование_1.txt\n",
      ": [{'request': 'В каком году был запущен пилотный проект, направленный на изменение уровней профессионального образования?', 'response': '12.05.2023'}, {'request': 'На какой срок обучения в МАИ по программам базового высшего образования по очной форме обучения рассчитан срок обучения?', 'response': '4 или 5,5 лет'}, {'request': 'Какие дисциплины доступны для студентов МАИ на старших курсах?', 'response': 'Дисциплины по перспективным технологиям, таким как материалы с изменяемыми свойствами, встроенные системы мониторинга состояния конструкций из композиционных материалов, методы искусственного интеллекта и суперкомпьютерного моделирования и т. д.'}, {'request': 'Какие модули формируют компетенции комплексного инженера в части ведения бизнес-процессов, управления проектами и гуманитарного мышления?', 'response': 'Модули, формирующие компетенции комплексного инженера в части ведения бизнес-процессов, управления проектами и гуманитарного мышления'}, {'request': 'Какие подходы к подготовке кадров внедряются в МАИ в соответствии с пилотным проектом?', 'response': 'Подходы к подготовке кадров, формирующие комплексные компетенции, интегрирующие конструкторские, цифровые, экономические и гуманитарные дисциплины'}]\n"
     ]
    },
    {
     "name": "stderr",
     "output_type": "stream",
     "text": [
      "Processing files:   5%|▌         | 34/629 [14:24<4:11:25, 25.35s/it]"
     ]
    },
    {
     "name": "stdout",
     "output_type": "stream",
     "text": [
      "Processing /home/jupyter/datasphere/project/text/Базовое_высшее_образование_2.txt\n",
      "Pairs /home/jupyter/datasphere/project/text/Базовое_высшее_образование_2.txt\n",
      ": []\n"
     ]
    },
    {
     "name": "stderr",
     "output_type": "stream",
     "text": [
      "Processing files:   6%|▌         | 35/629 [14:49<4:11:36, 25.42s/it]"
     ]
    },
    {
     "name": "stdout",
     "output_type": "stream",
     "text": [
      "Processing /home/jupyter/datasphere/project/text/Базовое_высшее_образование_3.txt\n",
      "Pairs /home/jupyter/datasphere/project/text/Базовое_высшее_образование_3.txt\n",
      ": [{'request': 'В каком году был запущен пилотный проект, направленный на изменение уровней профессионального образования?', 'response': '12.05.2023'}, {'request': 'Какова длительность программ базового высшего образования в МАИ по очной форме обучения?', 'response': '4 или 5,5 лет'}, {'request': 'Какие дисциплины доступны студентам старших курсов для повышения конкурентоспособности на рынке труда?', 'response': 'Дисциплины по перспективным технологиям, таким как материалы с изменяемыми свойствами, встроенные системы мониторинга, методы искусственного интеллекта и суперкомпьютерного моделирования'}, {'request': 'Какие модули формируют компетенции комплексного инженера в части ведения бизнес-процессов, управления проектами и гуманитарного мышления?', 'response': 'Модули, формирующие компетенции комплексного инженера в части ведения бизнес-процессов, управления проектами и гуманитарного мышления'}, {'request': 'Какие возможности предоставляются обучающимся по программам базового высшего образования?', 'response': 'Льготы и стипендии, обучение на военной кафедре и другие возможности'}]\n"
     ]
    },
    {
     "name": "stderr",
     "output_type": "stream",
     "text": [
      "Processing files:   6%|▌         | 36/629 [15:15<4:12:01, 25.50s/it]"
     ]
    },
    {
     "name": "stdout",
     "output_type": "stream",
     "text": [
      "Processing /home/jupyter/datasphere/project/text/Безопасность_жизнедеятельности_в_техносфере.txt\n",
      "Pairs /home/jupyter/datasphere/project/text/Безопасность_жизнедеятельности_в_техносфере.txt\n",
      ": []\n"
     ]
    },
    {
     "name": "stderr",
     "output_type": "stream",
     "text": [
      "Processing files:   6%|▌         | 37/629 [15:43<4:17:32, 26.10s/it]"
     ]
    },
    {
     "name": "stdout",
     "output_type": "stream",
     "text": [
      "Processing /home/jupyter/datasphere/project/text/Бизнес-аналитика_и_информатика.txt\n",
      "Pairs /home/jupyter/datasphere/project/text/Бизнес-аналитика_и_информатика.txt\n",
      ": []\n"
     ]
    },
    {
     "name": "stderr",
     "output_type": "stream",
     "text": [
      "Processing files:   6%|▌         | 38/629 [16:04<4:03:28, 24.72s/it]"
     ]
    },
    {
     "name": "stdout",
     "output_type": "stream",
     "text": [
      "Processing /home/jupyter/datasphere/project/text/Биотехнические_и_медицинские_аппараты_и_системы.txt\n",
      "Pairs /home/jupyter/datasphere/project/text/Биотехнические_и_медицинские_аппараты_и_системы.txt\n",
      ": []\n"
     ]
    },
    {
     "name": "stderr",
     "output_type": "stream",
     "text": [
      "Processing files:   6%|▌         | 39/629 [16:26<3:53:30, 23.75s/it]"
     ]
    },
    {
     "name": "stdout",
     "output_type": "stream",
     "text": [
      "Processing /home/jupyter/datasphere/project/text/Более_50 маёвцев_начали_практику_на авиационных_заводах_в Комсомольске-на-Амуре__и Новосибирске__нов.txt\n",
      "Pairs /home/jupyter/datasphere/project/text/Более_50 маёвцев_начали_практику_на авиационных_заводах_в Комсомольске-на-Амуре__и Новосибирске__нов.txt\n",
      ": [{'request': 'Сколько маёвцев начали практику на авиационных заводах в Комсомольске-на-Амуре и Новосибирске?', 'response': 'Более 50 маёвцев начали практику на авиационных заводах в Комсомольске-на-Амуре и Новосибирске'}, {'request': 'Когда была запущена программа «Авиапрактика»?', 'response': 'Программа «Авиапрактика» была запущена в 2021 году'}, {'request': 'Сколько студентов МАИ стали участниками программы «Авиапрактика» в 2023 году?', 'response': '150 маёвцев стали участниками программы «Авиапрактика» в 2023 году'}, {'request': 'Какие предприятия вошли в число партнёров программы «Авиапрактика» в 2023 году?', 'response': ['Комсомольский-на-Амуре авиационный завод имени Ю. А. Гагарина', 'Новосибирский авиационный завод имени В. П. Чкалова']}]\n"
     ]
    },
    {
     "name": "stderr",
     "output_type": "stream",
     "text": [
      "Processing files:   6%|▋         | 40/629 [16:49<3:52:53, 23.72s/it]"
     ]
    },
    {
     "name": "stdout",
     "output_type": "stream",
     "text": [
      "Processing /home/jupyter/datasphere/project/text/Более_150_проектов_представили_в школьной_секции_конференции_Гагаринские_чтения__новости_МАИ.txt\n",
      "Pairs /home/jupyter/datasphere/project/text/Более_150_проектов_представили_в школьной_секции_конференции_Гагаринские_чтения__новости_МАИ.txt\n",
      ": []\n"
     ]
    },
    {
     "name": "stderr",
     "output_type": "stream",
     "text": [
      "Processing files:   7%|▋         | 41/629 [17:16<4:00:49, 24.57s/it]"
     ]
    },
    {
     "name": "stdout",
     "output_type": "stream",
     "text": [
      "Processing /home/jupyter/datasphere/project/text/Более_200_школьников_стали_участниками_встреч_с маёвцами_в городах_России__новости_МАИ.txt\n",
      "Pairs /home/jupyter/datasphere/project/text/Более_200_школьников_стали_участниками_встреч_с маёвцами_в городах_России__новости_МАИ.txt\n",
      ": []\n"
     ]
    },
    {
     "name": "stderr",
     "output_type": "stream",
     "text": [
      "Processing files:   7%|▋         | 42/629 [17:41<4:02:02, 24.74s/it]"
     ]
    },
    {
     "name": "stdout",
     "output_type": "stream",
     "text": [
      "Processing /home/jupyter/datasphere/project/text/Более_500_школьников_посетили_МАИ_в рамках_проекта_Учебный_день_в городе__новости_МАИ.txt\n",
      "Pairs /home/jupyter/datasphere/project/text/Более_500_школьников_посетили_МАИ_в рамках_проекта_Учебный_день_в городе__новости_МАИ.txt\n",
      ": [{'request': 'Сколько школьников посетили МАИ в рамках проекта «Учебный день в городе»?', 'response': 'Более 500 школьников'}, {'request': 'Когда состоялось мероприятие?', 'response': '9 сентября 2022'}, {'request': 'Какова цель проекта «Учебный день в городе»?', 'response': 'Привлечение талантливой молодёжи в сферу исследований и разработок, повышение доступности информации о достижениях и перспективах российской науки, повышение престижа профессии учёного'}, {'request': 'Что было организовано для школьников в МАИ?', 'response': 'Насыщенная профориентационная программа, мастер-классы, экскурсии, экскурсия в самолётный ангар, экскурсии на предприятия ПАО «Туполев» и ГКНПЦ им. М.В. Хруничева'}]\n"
     ]
    },
    {
     "name": "stderr",
     "output_type": "stream",
     "text": [
      "Processing files:   7%|▋         | 43/629 [18:04<3:58:04, 24.38s/it]"
     ]
    },
    {
     "name": "stdout",
     "output_type": "stream",
     "text": [
      "Processing /home/jupyter/datasphere/project/text/Более_250_школьников_и_кадет_стали_участниками_конференции_Юный_инженер_МАИ__новости_МАИ.txt\n",
      "Pairs /home/jupyter/datasphere/project/text/Более_250_школьников_и_кадет_стали_участниками_конференции_Юный_инженер_МАИ__новости_МАИ.txt\n",
      ": [{'request': 'Сколько участников конференции представляли Тамбовский кадетский корпус?', 'response': 'Один участник, Владимир Миронов, представил проект «Влияние печного отжига на микротвердость и наноупругость аморфной и кристаллической пленки SiOx/SiO2» и занял первое место в номинации «Природа и техника»'}, {'request': 'Какие мастер-классы для учителей и школьников провели студенты МАИ?', 'response': 'Мастер-классы по 3D-моделированию в программе SolidWorks и бионике в авиации и космонавтике'}, {'request': 'Какие награды получили победители в номинации «Беспилотные летательные аппараты (мультикоптеры, модели самолётов и планеров)?', 'response': 'Первое место занял Артём Голубцов с проектом «Гибридный летательный аппарат широкой адаптации (ГЛАША)»'}, {'request': 'Какие направления подготовки предлагает МАИ для иностранных граждан?', 'response': 'МАИ предлагает обучение по программам бакалавриата, специалитета, магистратуры, аспирантуры и ординатуры для иностранных граждан'}, {'request': 'Какие льготы предоставляются победителям и призёрам олимпиад при поступлении?', 'response': 'Победители и призёры олимпиад имеют право на поступление без экзаменов или получение 100 баллов по профильному предмету'}]\n"
     ]
    },
    {
     "name": "stderr",
     "output_type": "stream",
     "text": [
      "Processing files:   7%|▋         | 44/629 [18:30<4:00:33, 24.67s/it]"
     ]
    },
    {
     "name": "stdout",
     "output_type": "stream",
     "text": [
      "Processing /home/jupyter/datasphere/project/text/Более_1700_школьников_посетили_Университетские_субботы_в МАИ__новости_МАИ.txt\n",
      "Pairs /home/jupyter/datasphere/project/text/Более_1700_школьников_посетили_Университетские_субботы_в МАИ__новости_МАИ.txt\n",
      ": [{'request': 'Сколько школьников посетили мероприятия МАИ в 2023 году?', 'response': 'Более 1700 школьников 7–11 классов и студентов колледжей посетили мероприятия в рамках проекта «Университетские субботы» в МАИ в 2023 году.'}, {'request': 'Какие мероприятия посетили школьники?', 'response': 'Интерактивные лекции и мастер-классы.'}, {'request': 'Что было на мероприятиях?', 'response': 'Лекции и мастер-классы, посвящённые изучению инновационных технологий в высокотехнологичных отраслях.'}, {'request': 'Кто проводил мероприятия?', 'response': 'Ведущие преподаватели и учёные МАИ.'}, {'request': 'Что узнали участники мероприятий?', 'response': 'О авиационных, космических и цифровых технологиях, включая композиционные материалы, нанотехнологии, ракетостроение, цифровое моделирование, робототехнику, искусственный интеллект, создание 3D анимаций, геймификацию и другие.'}, {'request': 'Где побывали участники?', 'response': 'В передовых лабораториях и центрах компетенций МАИ.'}, {'request': 'Какой проект проводит МАИ?', 'response': 'Проект «Университетские субботы».'}, {'request': 'Как поступить в МАИ?', 'response': 'Для поступления в МАИ необходимо подать документы, сдать экзамены и пройти конкурсный отбор. Для получения подробной информации о поступлении необходимо обратиться в приёмную комиссию МАИ.'}, {'request': 'Какие программы предлагает МАИ?', 'response': 'МАИ предлагает программы базового, специализированного и среднего профессионального образования. Также МАИ предлагает программы для иностранных граждан.'}, {'request': 'Какие документы необходимы для поступления?', 'response': 'Для поступления в МАИ необходимо предоставить следующие документы: заявление о приёме, документ, удостоверяющий личность, документ об образовании, документы, подтверждающие особые права и преимущества, и другие документы, предусмотренные правилами приёма МАИ.'}, {'request': 'Какие экзамены необходимо сдать для поступления?', 'response': 'Для поступления в МАИ необходимо сдать экзамены, предусмотренные правилами приёма МАИ. Для поступления на некоторые программы также необходимо сдать дополнительные экзамены.'}, {'request': 'Какие льготы предоставляются поступающим?', 'response': 'Поступающим предоставляются льготы, предусмотренные законодательством РФ и правилами приёма МАИ. Например, поступающие могут воспользоваться льготами победителей и призёров олимпиад, а также льготами, предоставляемыми поступающим с ограниченными возможностями здоровья.'}, {'request': 'Какие преимущества предоставляются поступающим?', 'response': 'Поступающим предоставляются преимущества, предусмотренные правилами приёма МАИ. Например, поступающие могут воспользоваться преимуществами, предоставляемыми целевым поступающим, а также преимуществами, предоставляемыми поступающим, имеющим особые достижения.'}]\n"
     ]
    },
    {
     "name": "stderr",
     "output_type": "stream",
     "text": [
      "Processing files:   7%|▋         | 45/629 [18:58<4:11:19, 25.82s/it]"
     ]
    },
    {
     "name": "stdout",
     "output_type": "stream",
     "text": [
      "Processing /home/jupyter/datasphere/project/text/Более_3000_абитуриентов_познакомились_с МАИ_на образовательной_выставке_Навигатор_поступления__новос.txt\n",
      "Pairs /home/jupyter/datasphere/project/text/Более_3000_абитуриентов_познакомились_с МАИ_на образовательной_выставке_Навигатор_поступления__новос.txt\n",
      ": []\n"
     ]
    },
    {
     "name": "stderr",
     "output_type": "stream",
     "text": [
      "Processing files:   7%|▋         | 46/629 [19:23<4:08:56, 25.62s/it]"
     ]
    },
    {
     "name": "stdout",
     "output_type": "stream",
     "text": [
      "Processing /home/jupyter/datasphere/project/text/Больше_возможностей_для_развития_базовое_высшее_образование_глазами_абитуриентов_МАИ__новости_МАИ.txt\n",
      "Pairs /home/jupyter/datasphere/project/text/Больше_возможностей_для_развития_базовое_высшее_образование_глазами_абитуриентов_МАИ__новости_МАИ.txt\n",
      ": []\n"
     ]
    },
    {
     "name": "stderr",
     "output_type": "stream",
     "text": [
      "Processing files:   7%|▋         | 47/629 [19:45<3:57:59, 24.53s/it]"
     ]
    },
    {
     "name": "stdout",
     "output_type": "stream",
     "text": [
      "Processing /home/jupyter/datasphere/project/text/БПЛА_как_в МАИ_осваивают_профессии_будущего__новости_МАИ.txt\n",
      "Pairs /home/jupyter/datasphere/project/text/БПЛА_как_в МАИ_осваивают_профессии_будущего__новости_МАИ.txt\n",
      ": [{'request': 'Вопрос 1: Что такое дрон-рейсинг?', 'response': 'Дрон-рейсинг — это гонки на дронах. Оператор удалённо управляет аппаратом при помощи видеосвязи с БПЛА. Камера, установленная на дроне, передаёт сигнал на специальные шлем или очки, и оператор, ориентируясь на изображение, проходит трассу, избегая препятствия, залетая в труднодоступные места.'}, {'request': 'Вопрос 2: Как проходят занятия со школьниками? Что входит в программу?', 'response': 'Самое главное — это техника безопасности. У дрона множество вращающихся деталей, мощные моторы. Поэтому первое, чему мы посвящаем занятия — это правильная эксплуатация. Далее рассказываем, как управлять беспилотниками, пробуем летать на компьютерном симуляторе, а затем, когда ребята уже приобретают первоначальный навык — практикуем реальный полёт, как без VR-очков и с ними (FPV-пилотирование). Параллельно с этим рассказываем на занятиях об общем строении беспилотника, учим его собирать и программировать.'}, {'request': 'Вопрос 3: Какие самые популярные категории дронов вы бы выделили?', 'response': 'Первая категория — это БПЛА, которые используют для фото- и видеосъёмки, в том числе в тепловизионной и лазерной. Модельный ряд таких аппаратов очень широкий — от 249 грамм до 10-15 кг. Ну и вторая категория, которая всё больше набирает популярность — это аппараты для дрон-рейсинга.'}, {'request': 'Вопрос 4: Сколько проектов у «Школы дронов» в разработке сейчас?', 'response': 'Порядка 5 проектов, которыми мы занимаемся каждый день: либо разработка концепции, либо внедрение. Это дроны-доставщики, дроны для мониторинга, для скоростной съёмки. Вообще, мы можем создать дрон для реализации любой задачи.'}]\n"
     ]
    },
    {
     "name": "stderr",
     "output_type": "stream",
     "text": [
      "Processing files:   8%|▊         | 48/629 [20:13<4:05:44, 25.38s/it]"
     ]
    },
    {
     "name": "stdout",
     "output_type": "stream",
     "text": [
      "Processing /home/jupyter/datasphere/project/text/Будущие_маёвцы_заняли_призовые_места_конкурса_Инженерный_старт__новости_МАИ.txt\n",
      "Pairs /home/jupyter/datasphere/project/text/Будущие_маёвцы_заняли_призовые_места_конкурса_Инженерный_старт__новости_МАИ.txt\n",
      ": []\n"
     ]
    },
    {
     "name": "stderr",
     "output_type": "stream",
     "text": [
      "Processing files:   8%|▊         | 49/629 [20:40<4:10:01, 25.86s/it]"
     ]
    },
    {
     "name": "stdout",
     "output_type": "stream",
     "text": [
      "Processing /home/jupyter/datasphere/project/text/В детском_технопарке_МАИ_Траектория_взлёта_открылась_новая_площадка__новости_МАИ.txt\n",
      "Pairs /home/jupyter/datasphere/project/text/В детском_технопарке_МАИ_Траектория_взлёта_открылась_новая_площадка__новости_МАИ.txt\n",
      ": []\n"
     ]
    },
    {
     "name": "stderr",
     "output_type": "stream",
     "text": [
      "Processing files:   8%|▊         | 50/629 [21:05<4:07:30, 25.65s/it]"
     ]
    },
    {
     "name": "stdout",
     "output_type": "stream",
     "text": [
      "Processing /home/jupyter/datasphere/project/text/В МАИ_завершились_инженерные_каникулы_для_выпускников_10 классов_авиационного_профиля__новости_МАИ.txt\n",
      "Pairs /home/jupyter/datasphere/project/text/В МАИ_завершились_инженерные_каникулы_для_выпускников_10 классов_авиационного_профиля__новости_МАИ.txt\n",
      ": [{'request': 'Какие инженерные каникулы для выпускников 10 классов авиационного профиля прошли в МАИ?', 'response': 'В МАИ завершились инженерные каникулы для выпускников 10 классов авиационного профиля | новости МАИ'}, {'request': 'Когда прошли инженерные каникулы для выпускников 10 классов авиационного профиля?', 'response': '17 июня 2023'}, {'request': 'Что было организовано в МАИ с 13 по 16 июня?', 'response': 'В МАИ завершились инженерные каникулы для выпускников 10 инженерных классов авиационного профиля'}, {'request': 'Что узнали участники инженерных каникул?', 'response': 'Познакомились с историей создания летательного аппарата и беспилотных авиационных систем, узнали, как работает стенд для разработки бортового программного обеспечения, познакомились с робособакой Дорой, узнали о применении искусственного интеллекта'}, {'request': 'Что сделали участники инженерных каникул по завершении программы?', 'response': 'Применили полученные знания и навыки на практических занятиях, получили именные сертификаты'}]\n"
     ]
    },
    {
     "name": "stderr",
     "output_type": "stream",
     "text": [
      "Processing files:   8%|▊         | 51/629 [21:29<4:01:04, 25.03s/it]"
     ]
    },
    {
     "name": "stdout",
     "output_type": "stream",
     "text": [
      "Processing /home/jupyter/datasphere/project/text/В МАИ_завершилась_всероссийская_акция_Неделя_без_турникетов__новости_МАИ.txt\n",
      "Pairs /home/jupyter/datasphere/project/text/В МАИ_завершилась_всероссийская_акция_Неделя_без_турникетов__новости_МАИ.txt\n",
      ": []\n"
     ]
    },
    {
     "name": "stderr",
     "output_type": "stream",
     "text": [
      "Processing files:   8%|▊         | 52/629 [21:55<4:05:15, 25.50s/it]"
     ]
    },
    {
     "name": "stdout",
     "output_type": "stream",
     "text": [
      "Processing /home/jupyter/datasphere/project/text/В МАИ_завершилась_всероссийская_акция_Неделя_без_турникетов__новости_МАИ_1.txt\n",
      "Pairs /home/jupyter/datasphere/project/text/В МАИ_завершилась_всероссийская_акция_Неделя_без_турникетов__новости_МАИ_1.txt\n",
      ": []\n"
     ]
    },
    {
     "name": "stderr",
     "output_type": "stream",
     "text": [
      "Processing files:   8%|▊         | 53/629 [22:21<4:05:11, 25.54s/it]"
     ]
    },
    {
     "name": "stdout",
     "output_type": "stream",
     "text": [
      "Processing /home/jupyter/datasphere/project/text/В МАИ_начала_работу_приёмная_комиссия__новости_МАИ.txt\n",
      "Pairs /home/jupyter/datasphere/project/text/В МАИ_начала_работу_приёмная_комиссия__новости_МАИ.txt\n",
      ": [{'request': 'Сколько бюджетных мест на программах бакалавриата в МАИ в 2023 году?', 'response': '1330 бюджетных мест'}, {'request': 'Какие сроки подачи документов в МАИ в 2023 году?', 'response': 'Подать документы можно через суперсервис «Поступление в вуз онлайн» на портале «Госуслуги», личный кабинет абитуриента МАИ и очно в Главном учебном корпусе МАИ'}, {'request': 'Какие документы необходимы для поступления в МАИ?', 'response': 'Для поступления в МАИ необходимо предоставить следующие документы: аттестат о среднем общем образовании, документ, удостоверяющий личность, и другие документы, указанные в перечне на сайте МАИ'}, {'request': 'Какие льготы предоставляются победителям и призёрам олимпиад при поступлении в МАИ?', 'response': 'Победители и призёры олимпиад, соответствующих профилю направления подготовки, имеют право на поступление без экзаменов или получение 100 баллов по профильному вступительному испытанию'}, {'request': 'Какие направления подготовки доступны в МАИ для иностранных граждан?', 'response': 'В МАИ доступны следующие направления подготовки для иностранных граждан: авиастроение, ракетно-космические системы, двигателестроение и другие'}]\n"
     ]
    },
    {
     "name": "stderr",
     "output_type": "stream",
     "text": [
      "Processing files:   9%|▊         | 54/629 [22:46<4:03:21, 25.39s/it]"
     ]
    },
    {
     "name": "stdout",
     "output_type": "stream",
     "text": [
      "Processing /home/jupyter/datasphere/project/text/В МАИ_завершился_первый_отборочный_тур_городского_образовательного_конкурса__новости_МАИ.txt\n",
      "Pairs /home/jupyter/datasphere/project/text/В МАИ_завершился_первый_отборочный_тур_городского_образовательного_конкурса__новости_МАИ.txt\n",
      ": []\n"
     ]
    },
    {
     "name": "stderr",
     "output_type": "stream",
     "text": [
      "Processing files:   9%|▊         | 55/629 [23:14<4:09:41, 26.10s/it]"
     ]
    },
    {
     "name": "stdout",
     "output_type": "stream",
     "text": [
      "Processing /home/jupyter/datasphere/project/text/В МАИ_наградили_победителей_Международной_технической_олимпиады_Траектория_взлёта__новости_МАИ.txt\n",
      "Pairs /home/jupyter/datasphere/project/text/В МАИ_наградили_победителей_Международной_технической_олимпиады_Траектория_взлёта__новости_МАИ.txt\n",
      ": [{'request': 'Сколько участников стали финалистами Международной технической олимпиады «Траектория взлёта»?', 'response': '9 апреля состоялось подведение итогов и награждение победителей и призёров Международной технической олимпиады Московского авиационного института «Траектория взлёта». По итогам было определено 9 победителей и 63 призёра.'}, {'request': 'Сколько победителей и призёров получили сертификаты на обучение в Детском технопарке «Траектория взлёта»?', 'response': 'Победители получили сертификаты на обучение в Детском технопарке «Траектория взлёта». Учащиеся 9-11 классов получили сертификаты, гарантирующие им до 5 дополнительных баллов к ЕГЭ. Учащиеся 7-х и 8-х классов получили возможность поступить на 2022-2023 учебный год в Центр «Предуниверсарий МАИ» по результатам собеседования.'}, {'request': 'Кто приветствовал победителей и призёров на церемонии награждения?', 'response': 'Победителей и призёров приветствовал проректор МАИ по учебной работе Дмитрий Александрович Козорез.'}, {'request': 'В каком формате проходил первый этап олимпиады «Траектория взлёта»?', 'response': 'На первом этапе проверялись знания участников по общеобразовательным предметам (математика, физика и информатика).'}]\n"
     ]
    },
    {
     "name": "stderr",
     "output_type": "stream",
     "text": [
      "Processing files:   9%|▉         | 56/629 [23:39<4:06:38, 25.83s/it]"
     ]
    },
    {
     "name": "stdout",
     "output_type": "stream",
     "text": [
      "Processing /home/jupyter/datasphere/project/text/В МАИ_определены_финалисты_НТО_по профилю_Беспилотные_авиационные_системы__новости_МАИ.txt\n",
      "Pairs /home/jupyter/datasphere/project/text/В МАИ_определены_финалисты_НТО_по профилю_Беспилотные_авиационные_системы__новости_МАИ.txt\n",
      ": []\n"
     ]
    },
    {
     "name": "stderr",
     "output_type": "stream",
     "text": [
      "Processing files:   9%|▉         | 57/629 [24:05<4:06:16, 25.83s/it]"
     ]
    },
    {
     "name": "stdout",
     "output_type": "stream",
     "text": [
      "Processing /home/jupyter/datasphere/project/text/В МАИ_определили_победителей_школьной_секции_Гагаринских_чтений__новости_МАИ.txt\n",
      "Pairs /home/jupyter/datasphere/project/text/В МАИ_определили_победителей_школьной_секции_Гагаринских_чтений__новости_МАИ.txt\n",
      ": [{'request': 'Какой проект победил в секции «Авиация будущего»?', 'response': 'Проект «Новая конструкция ограждения для аппарата на воздушной подушке», автор — учащийся МБОУ «Гимназия № 5» Валерий Лептюхов.'}, {'request': 'Какие проекты заняли призовые места в секции «Ракетно-космическая перспектива и космическая экология»?', 'response': 'Проект «Ионный двигатель. Принцип работы. Возможности усовершенствования», автор — учащаяся Школы № 875 Екатерина Шепелева; Проект «Разработка программно-аппаратного решения симметричного управления бионическим протезом кисти руки», автор — учащийся МБУ ДО «Дом детского творчества» г. Реутов Даниил Никитин.'}, {'request': 'Какие проекты победили в секции «Математика и информатика в инженерных задачах. Прикладная физика»?', 'response': 'Проект «Разработка программно-аппаратного решения симметричного управления бионическим протезом кисти руки», автор — учащийся МБУ ДО «Дом детского творчества» г. Реутов Даниил Никитин; Проект «Лёгкий и тёплый профиль и кирпич с ячейкой Штейнера», автор — учащаяся МБОУ Гимназия № 5 Альбина Драцкая.'}, {'request': 'Какие проекты победили в секции «Международные проблемы энергосбережения и повышения энергоэффективности»?', 'response': 'Проект «Энергия моря: Морской змей», авторы — учащиеся Школы № 1576 Роман Шмаков и Иван Радюков.'}, {'request': 'Какие проекты победили в секции «Юные учёные будущего»?', 'response': 'Проект «Макет первого известного межзвёздного объекта, пролетевшего Солнечную систему. Технология наблюдения астероида в лабораторных условиях», автор — учащийся Школы № 1560 «Лидер» Тихон Дробин; Проект «Создание прототипа ракеты. Математическое моделирование. Исследование влияния конструктивных элементов ракеты на параметры её полёта», авторы — учащиеся Школы № 1619 Мария Моторина и Александр Николаев.'}]\n"
     ]
    },
    {
     "name": "stderr",
     "output_type": "stream",
     "text": [
      "Processing files:   9%|▉         | 58/629 [24:32<4:08:58, 26.16s/it]"
     ]
    },
    {
     "name": "stdout",
     "output_type": "stream",
     "text": [
      "Processing /home/jupyter/datasphere/project/text/В МАИ_открылся_финал_Национальной_технологической_олимпиады__новости_МАИ.txt\n",
      "Pairs /home/jupyter/datasphere/project/text/В МАИ_открылся_финал_Национальной_технологической_олимпиады__новости_МАИ.txt\n",
      ": [{'request': 'Какие направления подготовки предлагает МАИ?', 'response': 'МАИ предлагает следующие направления подготовки:   Базовое высшее образование:      Программы:          Базовое высшее образование.          Специализированное высшее образование.          Среднее профессиональное образование.      Подача документов.      Платное обучение.      Индивидуальные достижения.      Особые права.      Целевое обучение.      Предложения от работодателей.      Видеопрезентации предприятий 2024.      Сетевые программы.      Баллы.      Экзамены.      Общежитие.   Специализированное высшее образование:      Программы.      Подача документов.      Платное обучение.      Индивидуальные достижения.      Целевой приём.      Целевая квота.      Предложения от работодателей.      Экзамены.      Общежитие.   Среднее профессиональное образование:      Программы.      Экзамены.      Подача документов.      Сетевые программы.      Стоимость обучения.   Иностранным гражданам:      Правила приёма иностранных граждан.   Базовое высшее:      Алгоритм поступления на бюджет.      Алгоритм поступления на платное.      Сроки приёма.      Подготовка к поступлению.   Специализированное высшее:      Алгоритм поступления на бюджет.      Алгоритм поступления на платное.      Сроки приёма.      Подготовка к поступлению.   Официальные документы.  Нормативные документы.  Направления подготовки и перечень вступительных испытаний.  План приёма.  План приёма на бюджетные места.  План приёма на платные места.  Особая квота.  Отдельная квота.  Целевая квота.  План приёма иностранных граждан.   Вступительные испытания, проводимые МАИ самостоятельно:      Формы проведения и программы вступительных испытаний.      Программы вступительных испытаний в магистратуру.      Сдача экзаменов на иностранном языке.      Сдача экзаменов с использованием дистанционных технологий.      Вступительные испытания для граждан с ОВЗ.   Расписание консультаций и экзаменов.   Особые права и преимущества, предоставляемые поступающим.  Минимальное количество баллов ЕГЭ.  Льготы победителям и призёрам олимпиад.  Учёт индивидуальных достижений.  Целевой приём.  Информация о необходимости прохождения медицинского осмотра.  Приём иностранных граждан.  Информация о предоставлении мест в общежитиях.  Порядок предоставления мест в общежитиях.  Порядок заселения в общежития.  Распределение мест в общежитиях 2023.  Заселение в общежитие 1 курса 2023.   Приём документов.  Анонсы.  Статьи.  Календарь.  Контакты.  Личный кабинет.  Меганаправления.   Авиастроение.  Ракетно-космические системы.  Двигателестроение.  Радиоэлектроника и системы связи.  Компьютерные науки и прикладная математика.  Бортовая электроника и техническая кибернетика.  Робототехнические системы и комплексы вооружения ЛА.  Материалы и современные технологии.  Управленческо-экономические и лингвистические направления.   Дни открытых дверей.  Школьникам.  Онлайн-тур по МАИ.  Поиск по сайту.   Карта сайта.  Календарь абитуриента.   Дни открытых дверей.  Анонсы.  Статьи.'}, {'request': 'Какие вступительные испытания необходимо пройти для поступления в МАИ?', 'response': 'Вступительные испытания, проводимые МАИ самостоятельно:   Формы проведения и программы вступительных испытаний.  Программы вступительных испытаний в магистратуру.  Сдача экзаменов на иностранном языке.  Сдача экзаменов с использованием дистанционных технологий.  Вступительные испытания для граждан с ОВЗ.  Вступительные испытания, проводимые совместно с другими вузами:   Перечень вступительных испытаний определяется вузом, в который поступает абитуриент.  Дополнительные вступительные испытания:   Перечень вступительных испытаний определяется вузом, в который поступает абитуриент.'}, {'request': 'Какие льготы предоставляются победителям и призёрам олимпиад при поступлении в МАИ?', 'response': 'Льготы победителям и призёрам олимпиад:   Поступление без вступительных испытаний.  100 баллов по профильному предмету ЕГЭ.'}, {'request': 'Какие документы необходимы для поступления в МАИ?', 'response': 'Документы, необходимые для поступления:   Заявление о приёме.  Паспорт или другой документ, удостоверяющий личность.  Документ об образовании (аттестат, диплом).  Фотографии.  Медицинская справка (для некоторых специальностей).  Документы, подтверждающие особые права и преимущества (для некоторых категорий абитуриентов).  Для иностранных граждан:   Заявление о приёме.  Паспорт или другой документ, удостоверяющий личность.  Миграционная карта.  Регистрация по месту пребывания.  Документы об образовании, признанные в Российской Федерации.  Фотографии.  Медицинская справка.  Документы, подтверждающие право на обучение в Российской Федерации (виза, разрешение на временное пребывание или вид на жительство).  Для лиц с ограниченными возможностями здоровья:   Заявление о приёме.  Паспорт или другой документ, удостоверяющий личность.  Документы, подтверждающие инвалидность (справка, удостоверение).  Документы, подтверждающие особые права и преимущества (для некоторых категорий абитуриентов).  Для целевого приёма:   Заявление о приёме.  Паспорт или другой документ, удостоверяющий личность.  Документы, подтверждающие целевую квоту (договор о целевом приёме, направление от работодателя).  Для приёма на целевое обучение:   Заявление о приёме.  Паспорт или другой документ, удостоверяющий личность.  Документы, подтверждающие целевое обучение (договор о целевом обучении, направление от работодателя).  Для приёма на обучение по программам военной подготовки:   Заявление о приёме.  Паспорт или другой документ, удостоверяющий личность.  Документы, подтверждающие прохождение военной службы или обучение в военном учебном центре.'}]\n"
     ]
    },
    {
     "name": "stderr",
     "output_type": "stream",
     "text": [
      "Processing files:   9%|▉         | 59/629 [25:07<4:33:50, 28.83s/it]"
     ]
    },
    {
     "name": "stdout",
     "output_type": "stream",
     "text": [
      "Processing /home/jupyter/datasphere/project/text/В МАИ_отметили_90 лет_со дня_рождения_Юрия_Гагарина__новости_МАИ.txt\n",
      "Pairs /home/jupyter/datasphere/project/text/В МАИ_отметили_90 лет_со дня_рождения_Юрия_Гагарина__новости_МАИ.txt\n",
      ": []\n"
     ]
    },
    {
     "name": "stderr",
     "output_type": "stream",
     "text": [
      "Processing files:  10%|▉         | 60/629 [25:35<4:30:44, 28.55s/it]"
     ]
    },
    {
     "name": "stdout",
     "output_type": "stream",
     "text": [
      "Processing /home/jupyter/datasphere/project/text/В МАИ_подвели_итоги_конкурса_школьных_проектов_3D-Бум_по беспилотникам__новости_МАИ.txt\n",
      "Pairs /home/jupyter/datasphere/project/text/В МАИ_подвели_итоги_конкурса_школьных_проектов_3D-Бум_по беспилотникам__новости_МАИ.txt\n",
      ": [{'request': 'Какие насекомые могут быть индикаторами состояния окружающей среды?', 'response': 'Многие виды насекомых являются важными индикаторами состояния окружающей среды, включая воду, воздух и почву.'}, {'request': 'Какие методы наблюдения за насекомыми используют летательные аппараты?', 'response': 'Летательные аппараты могут использовать различные методы наблюдения за насекомыми, такие как фото- и видеомониторинг, тепловизоры.'}, {'request': 'Какие требования предъявляются к размеру летательного аппарата для наблюдения за насекомыми?', 'response': 'Полный размер устройства по любому из габаритов (по длине, ширине и высоте) не должен превышать 200 мм.'}, {'request': 'Какие типы летательных аппаратов могут использоваться для наблюдения за насекомыми?', 'response': 'Для наблюдения за насекомыми могут использоваться различные типы летательных аппаратов, такие как квадрокоптеры, самолёты, конвертопланы и другие.'}, {'request': 'Какие критерии оцениваются при оценке проектов летательных аппаратов для наблюдения за насекомыми?', 'response': 'При оценке проектов летательных аппаратов для наблюдения за насекомыми оцениваются такие критерии, как практическая значимость проекта, креативность, соответствие возможностей модели заявленным характеристикам, практическая реализация модели, командная работа и многое другое.'}]\n"
     ]
    },
    {
     "name": "stderr",
     "output_type": "stream",
     "text": [
      "Processing files:  10%|▉         | 61/629 [26:00<4:21:39, 27.64s/it]"
     ]
    },
    {
     "name": "stdout",
     "output_type": "stream",
     "text": [
      "Processing /home/jupyter/datasphere/project/text/В МАИ_подвели_итоги_Международной_технической_олимпиады_Траектория_взлёта__новости_МАИ.txt\n",
      "Pairs /home/jupyter/datasphere/project/text/В МАИ_подвели_итоги_Международной_технической_олимпиады_Траектория_взлёта__новости_МАИ.txt\n",
      ": []\n"
     ]
    },
    {
     "name": "stderr",
     "output_type": "stream",
     "text": [
      "Processing files:  10%|▉         | 62/629 [26:24<4:09:40, 26.42s/it]"
     ]
    },
    {
     "name": "stdout",
     "output_type": "stream",
     "text": [
      "Processing /home/jupyter/datasphere/project/text/В МАИ_прошёл_конкурс_школьных_проектов_Я _конструктор_будущего__новости_МАИ.txt\n",
      "Pairs /home/jupyter/datasphere/project/text/В МАИ_прошёл_конкурс_школьных_проектов_Я _конструктор_будущего__новости_МАИ.txt\n",
      ": [{'request': 'Какие проекты были представлены на конкурсе «Я — конструктор будущего»?', 'response': 'На конкурсе были представлены 60 технологических проектов.'}, {'request': 'Кто стал победителем конкурса «Я — конструктор будущего»?', 'response': 'Победителем конкурса стал учащийся 11-го класса ГБОУ СОШ № 7 Даниил Никитин с проектом «Разработка программно-аппаратного решения симметричного управления манипулятором».'}, {'request': 'Какие награды получили победители и призёры конкурса «Я — конструктор будущего»?', 'response': 'Победителей и призёров конкурса наградили почётными дипломами и памятными подарками.'}, {'request': 'Что даёт участие в конкурсе «Я — конструктор будущего»?', 'response': 'Участие в конкурсе помогает получить полезные навыки и опыт, а также возможность продемонстрировать свои достижения.'}]\n"
     ]
    },
    {
     "name": "stderr",
     "output_type": "stream",
     "text": [
      "Processing files:  10%|█         | 63/629 [26:48<4:02:05, 25.66s/it]"
     ]
    },
    {
     "name": "stdout",
     "output_type": "stream",
     "text": [
      "Processing /home/jupyter/datasphere/project/text/В МАИ_состоялось_совещание_по развитию_сети_инженерных_классов_авиастроительного_профиля__новости_МА.txt\n",
      "Pairs /home/jupyter/datasphere/project/text/В МАИ_состоялось_совещание_по развитию_сети_инженерных_классов_авиастроительного_профиля__новости_МА.txt\n",
      ": []\n"
     ]
    },
    {
     "name": "stderr",
     "output_type": "stream",
     "text": [
      "Processing files:  10%|█         | 64/629 [27:13<4:01:35, 25.66s/it]"
     ]
    },
    {
     "name": "stdout",
     "output_type": "stream",
     "text": [
      "Processing /home/jupyter/datasphere/project/text/В МАИ_подвели_итоги_Национальной_технологической_олимпиады_по профилю_Беспилотные_авиационные_систем.txt\n",
      "Pairs /home/jupyter/datasphere/project/text/В МАИ_подвели_итоги_Национальной_технологической_олимпиады_по профилю_Беспилотные_авиационные_систем.txt\n",
      ": []\n"
     ]
    },
    {
     "name": "stderr",
     "output_type": "stream",
     "text": [
      "Processing files:  10%|█         | 65/629 [27:40<4:05:02, 26.07s/it]"
     ]
    },
    {
     "name": "stdout",
     "output_type": "stream",
     "text": [
      "Processing /home/jupyter/datasphere/project/text/В МАИ_состоялся_День_открытых_дверей_для_абитуриентов_из стран_СНГ__новости_МАИ.txt\n",
      "Pairs /home/jupyter/datasphere/project/text/В МАИ_состоялся_День_открытых_дверей_для_абитуриентов_из стран_СНГ__новости_МАИ.txt\n",
      ": []\n"
     ]
    },
    {
     "name": "stderr",
     "output_type": "stream",
     "text": [
      "Processing files:  10%|█         | 66/629 [28:05<4:01:53, 25.78s/it]"
     ]
    },
    {
     "name": "stdout",
     "output_type": "stream",
     "text": [
      "Processing /home/jupyter/datasphere/project/text/В МАИ_состоялся_первый_этап II_научно-технической_конференции_Юный_инженер__новости_МАИ.txt\n",
      "Ошибка декодирования JSON в строке: {\"request\":\"Какие призовые места заняли учащиеся 3-7 классов в секции «Доклады и проекты»?\",\"response\":\"1 место — Дмитрий Нагайчук с работой «Спасательное средство на воде «Вертикаль», Кристина Ягупова с работой «Великие открытия в истории авиации и космонавтики»; 2 место — Александра и Мария Котова с работой «Борьба с пластиковыми отходами с помощью робота-манипулятора», София Церетели с работой «Развитие ракетостроения и космонавтики до второй половины XX века»; 3 место — Антон Николаев с работой «Самолёт Су-34», Никита Погореловский с работой «Самолёт По-2: простота и эффективность», Владимир Дворянинов, Тимур Васильев, Ислам Исмаилов с работой «История запуска советских космических спутников связи\"»,  4. {\"request\":\"Какие призовые места заняли учащиеся 3-7 классов в секции «Доклады и проекты»?\",\"response\":\"1 место — Кристина Ягупова с работой «Великие открытия в истории авиации и космонавтики»; 2 место — Александра и Мария Котова с работой «Борьба с пластиковыми отходами с помощью робота-манипулятора», София Церетели с работой «Развитие ракетостроения и космонавтики до второй половины XX века»; 3 место — Антон Николаев с работой «Спасательное средство на воде «Вертикаль», Владимир Дворянинов, Тимур Васильев, Ислам Исмаилов с работой «История запуска советских космических спутников связи\"»,  5. {\"request\":\"Какие призовые места заняли учащиеся 3-7 классов в секции «Робототехника «Arduino»?\",\"response\":\"1 место — Илья Чернов; 2 место — Макар Константинов; 3 место — Никита Башков.\"}\n",
      "Expecting ',' delimiter: line 1 column 712 (char 711)\n",
      "Pairs /home/jupyter/datasphere/project/text/В МАИ_состоялся_первый_этап II_научно-технической_конференции_Юный_инженер__новости_МАИ.txt\n",
      ": [{'request': 'Какие призовые места заняли учащиеся 8-11 классов в секции «Робототехника «Arduino»?', 'response': '1 место — Денис Крот с работой «Разработка эффективной системы освещения для работы в условиях Арктики и крайнего севера»; 2 место — Любовь Котова, Мария Додайкина, Алиса Зайцева, Дарья Нечепуренко с работой «Сравнительный анализ выращивания растений гидропонным и почвенным методами», Никита Воробьёв, Матвей Криворучко, Михаил Хряков с работой «Интерактивный макет умного дома с реализацией через веб-интерфейс»; 3 место — Михаил Барбашов с работой «Создание модели малой орошающей платформы».'}, {'request': 'Какие призовые места заняли учащиеся 8-11 классов в секции «Робототехника «ЛЕГО»?', 'response': 'В соревновании «Траектория» победила команда Марии и Александры Котовых; в соревновании «Большое путешествие» — команда братьев Гаврилиных — Германа и Никиты.'}]\n"
     ]
    },
    {
     "name": "stderr",
     "output_type": "stream",
     "text": [
      "Processing files:  11%|█         | 67/629 [28:34<4:08:25, 26.52s/it]"
     ]
    },
    {
     "name": "stdout",
     "output_type": "stream",
     "text": [
      "Processing /home/jupyter/datasphere/project/text/В МАИ_стартовал_предварительный_приём_документов___новости_МАИ.txt\n",
      "Pairs /home/jupyter/datasphere/project/text/В МАИ_стартовал_предварительный_приём_документов___новости_МАИ.txt\n",
      ": []\n"
     ]
    },
    {
     "name": "stderr",
     "output_type": "stream",
     "text": [
      "Processing files:  11%|█         | 68/629 [28:59<4:04:54, 26.19s/it]"
     ]
    },
    {
     "name": "stdout",
     "output_type": "stream",
     "text": [
      "Processing /home/jupyter/datasphere/project/text/В МАИ_состоялся_день_открытых_дверей_по сетевым_программам_со СмолГУ__новости_МАИ.txt\n",
      "Pairs /home/jupyter/datasphere/project/text/В МАИ_состоялся_день_открытых_дверей_по сетевым_программам_со СмолГУ__новости_МАИ.txt\n",
      ": [{'request': 'Какие сетевые программы реализует МАИ совместно со СмолГУ?', 'response': 'МАИ и СмолГУ реализуют две сетевые программы: «Самолётостроение» и «Пилотируемые и автоматические космические аппараты и системы».'}, {'request': 'Какой срок обучения по этим программам?', 'response': '5,5 лет.'}, {'request': 'В каком формате реализуются эти программы?', 'response': 'В формате базового высшего образования (БВО).'}, {'request': 'Что такое БВО и в чём его особенности?', 'response': 'БВО — это гибкий формат обучения, который позволяет готовить инженеров нового поколения, подкрепляя теоретические знания студентов их активным вовлечением в индустриальные проекты, насыщенными программами практик и стажировок, дополнительными модулями по передовым технологиям.'}]\n"
     ]
    },
    {
     "name": "stderr",
     "output_type": "stream",
     "text": [
      "Processing files:  11%|█         | 69/629 [29:22<3:57:00, 25.39s/it]"
     ]
    },
    {
     "name": "stdout",
     "output_type": "stream",
     "text": [
      "Processing /home/jupyter/datasphere/project/text/В МАИ_прошла_карьерная_выставка_высокотехнологичных_предприятий_России__новости_МАИ.txt\n",
      "Pairs /home/jupyter/datasphere/project/text/В МАИ_прошла_карьерная_выставка_высокотехнологичных_предприятий_России__новости_МАИ.txt\n",
      ": [{'request': 'Как поступить в МАИ?', 'response': 'На сайте МАИ есть подробная информация о поступлении. Вот некоторые ключевые аспекты:   - Программы обучения: на сайте представлены различные программы обучения, включая базовое, специализированное и среднее профессиональное образование.   - Подача документов: информация о необходимых документах и сроках их подачи.   - Платное обучение: информация о стоимости обучения и условиях поступления на платное обучение.   - Индивидуальные достижения: информация о том, как учитываются индивидуальные достижения при поступлении.   - Особые права: информация о правах, которые предоставляются отдельным категориям абитуриентов.   - Целевое обучение: информация о целевом обучении, включая квоты и предложения от работодателей.   - Видеопрезентации предприятий: ссылки на видеопрезентации предприятий, которые доступны для просмотра на сайте МАИ.   - Расписание дней открытых дверей: информация о расписании дней открытых дверей, которые проводятся для абитуриентов.   - Нормативные документы: ссылки на нормативные документы, регулирующие процесс поступления.   - План приёма: информация о количестве бюджетных и платных мест, а также о квотах на целевое обучение.   - Вступительные испытания: информация о формах проведения и программах вступительных испытаний.   - Минимальное количество баллов ЕГЭ: минимальное количество баллов ЕГЭ, необходимых для поступления.   - Льготы победителям олимпиад: информация о льготах, предоставляемых победителям и призёрам олимпиад.   - Учёт индивидуальных достижений: информация о том, как учитываются индивидуальные достижения при поступлении.   - Целевой приём: информация о целевом приёме и квотах на целевое обучение.   - Информация о необходимости прохождения медицинского осмотра: информация о необходимости прохождения медицинского осмотра для поступления.   - Порядок предоставления мест в общежитиях: информация о порядке предоставления мест в общежитиях.   - Заселение в общежитие: информация о порядке заселения в общежития.   - Распределение мест в общежитиях: информация о распределении мест в общежитиях.   - Анонсы: информация о предстоящих мероприятиях и событиях, связанных с поступлением.   - Календарь: календарь событий и мероприятий, связанных с поступлением.   - Контакты: контактная информация для связи с приёмной комиссией и другими службами МАИ.   - Меганаправления: информация о меганаправлениях, которые предлагает МАИ.   - Дни открытых дверей: информация о днях открытых дверей, которые проводятся для школьников.   - Онлайн-тур по МАИ: информация об онлайн-туре по МАИ.   - Поиск по сайту: ссылки на поиск по сайту МАИ.   - Карта сайта: карта сайта МАИ.   - Календарь абитуриента: календарь абитуриента.   - Официальные документы: ссылки на официальные документы, регулирующие процесс поступления.   - Дополнительное IT-обучение: информация о бесплатном обучении по IT-специальностям.   - Военная кафедра: информация о военной подготовке.   - Экскурсии по институтам: информация о возможности посещения лабораторий и кафедр.   - Презентации меганаправлений: ссылки на презентации меганаправлений.   '}, {'request': 'Какие специальности предлагает МАИ?', 'response': 'МАИ предлагает широкий спектр специальностей в области авиации, космонавтики, ракетно-космических систем, двигателестроения, радиоэлектроники, компьютерных наук, прикладной математики, материаловедения, экономики и управления, а также в области лингвистики.   '}, {'request': 'Какие направления обучения доступны в МАИ?', 'response': 'В МАИ доступны следующие направления обучения:   - Базовое высшее образование;   - Специализированное высшее образование;   - Среднее профессиональное образование.   '}, {'request': 'Какие документы необходимы для поступления в МАИ?', 'response': 'Для поступления в МАИ необходимы следующие документы:   - Заявление о приёме;   - Аттестат о среднем образовании или диплом о среднем профессиональном образовании;   - Документы, подтверждающие индивидуальные достижения;   - Медицинская справка;   - Фотографии;   - Другие документы, необходимые в соответствии с правилами приёма.   '}, {'request': 'Какие экзамены нужно сдавать для поступления в МАИ?', 'response': 'Для поступления в МАИ необходимо сдать следующие экзамены:   - ЕГЭ по математике, русскому языку и другим предметам в зависимости от выбранной специальности.   '}]\n"
     ]
    },
    {
     "name": "stderr",
     "output_type": "stream",
     "text": [
      "Processing files:  11%|█         | 70/629 [29:54<4:12:17, 27.08s/it]"
     ]
    },
    {
     "name": "stdout",
     "output_type": "stream",
     "text": [
      "Processing /home/jupyter/datasphere/project/text/В МАИ_состоялся_финал_Международной_технической_олимпиады_Траектория_взлёта__новости_МАИ.txt\n",
      "Pairs /home/jupyter/datasphere/project/text/В МАИ_состоялся_финал_Международной_технической_олимпиады_Траектория_взлёта__новости_МАИ.txt\n",
      ": []\n"
     ]
    },
    {
     "name": "stderr",
     "output_type": "stream",
     "text": [
      "Processing files:  11%|█▏        | 71/629 [30:19<4:06:29, 26.51s/it]"
     ]
    },
    {
     "name": "stdout",
     "output_type": "stream",
     "text": [
      "Processing /home/jupyter/datasphere/project/text/В МАИ_стартовал_предварительный_приём_документов___новости_МАИ_1.txt\n",
      "Pairs /home/jupyter/datasphere/project/text/В МАИ_стартовал_предварительный_приём_документов___новости_МАИ_1.txt\n",
      ": []\n"
     ]
    },
    {
     "name": "stderr",
     "output_type": "stream",
     "text": [
      "Processing files:  11%|█▏        | 72/629 [30:45<4:04:19, 26.32s/it]"
     ]
    },
    {
     "name": "stdout",
     "output_type": "stream",
     "text": [
      "Processing /home/jupyter/datasphere/project/text/В МАИ_стартовал_приём_на 20212022_учебный_год__новости_МАИ.txt\n",
      "Pairs /home/jupyter/datasphere/project/text/В МАИ_стартовал_приём_на 20212022_учебный_год__новости_МАИ.txt\n",
      ": [{'request': 'Вопрос 1: Какие направления бакалавриата, специалитета и магистратуры предлагает МАИ?', 'response': 'МАИ предлагает более 70 направлений бакалавриата, специалитета и магистратуры, которые разделены на 9 меганаправлений по основным траекториям развития авиационной и ракетно-космической промышленности: авиастроение, двигателестроение, информатика, кибернетика и электроэнергетика, математика и информатика, материалы и современные технологии, радиоэлектроника и системы связи, ракетно-космические системы, робототехнические системы и комплексы вооружения ЛА, управленческо-экономические и лингвистические направления.'}, {'request': 'Вопрос 2: Какие экзамены нужно сдавать для поступления?', 'response': 'Для поступления на бакалавриат и специалитет необходимо предоставить результаты ЕГЭ по предметам, соответствующим желаемой конкурсной группе. Перечень конкурсных групп и экзаменов размещены на сайте приёмной комиссии МАИ.'}, {'request': 'Вопрос 3: Как подать документы?', 'response': 'Документы можно подать онлайн через Личный кабинет абитуриента МАИ или через портал Госуслуг. Для подачи документов через Личный кабинет МАИ необходимо загрузить скан-копии документов в формате ПДФ. Также можно подать документы в МАИ по почте, отправив их заказным письмом с уведомлением о вручении.'}, {'request': 'Вопрос 4: Какие документы нужны для поступления?', 'response': 'Для подачи документов необходимо предоставить заявление и согласие на обработку персональных данных, паспорт, аттестат или диплом об окончании колледжа, СНИЛС, справку о прохождении медицинского осмотра, документы, подтверждающие особые права или индивидуальные достижения.'}]\n"
     ]
    },
    {
     "name": "stderr",
     "output_type": "stream",
     "text": [
      "Processing files:  12%|█▏        | 73/629 [31:12<4:06:10, 26.57s/it]"
     ]
    },
    {
     "name": "stdout",
     "output_type": "stream",
     "text": [
      "Processing /home/jupyter/datasphere/project/text/В МАИ_стартовал_финал_Национальной_технологической_олимпиады_по профилю_Беспилотные_авиационные_сист.txt\n",
      "Pairs /home/jupyter/datasphere/project/text/В МАИ_стартовал_финал_Национальной_технологической_олимпиады_по профилю_Беспилотные_авиационные_сист.txt\n",
      ": []\n"
     ]
    },
    {
     "name": "stderr",
     "output_type": "stream",
     "text": [
      "Processing files:  12%|█▏        | 74/629 [31:37<4:02:16, 26.19s/it]"
     ]
    },
    {
     "name": "stdout",
     "output_type": "stream",
     "text": [
      "Processing /home/jupyter/datasphere/project/text/В МАИ_стартовала_акция_для_школьников_Неделя_без_турникетов__новости_МАИ.txt\n",
      "Pairs /home/jupyter/datasphere/project/text/В МАИ_стартовала_акция_для_школьников_Неделя_без_турникетов__новости_МАИ.txt\n",
      ": []\n"
     ]
    },
    {
     "name": "stderr",
     "output_type": "stream",
     "text": [
      "Processing files:  12%|█▏        | 75/629 [32:02<3:59:10, 25.90s/it]"
     ]
    },
    {
     "name": "stdout",
     "output_type": "stream",
     "text": [
      "Processing /home/jupyter/datasphere/project/text/В МАИ_стартовала_приёмная_кампания__новости_МАИ.txt\n",
      "Pairs /home/jupyter/datasphere/project/text/В МАИ_стартовала_приёмная_кампания__новости_МАИ.txt\n",
      ": []\n"
     ]
    },
    {
     "name": "stderr",
     "output_type": "stream",
     "text": [
      "Processing files:  12%|█▏        | 76/629 [32:28<3:56:59, 25.71s/it]"
     ]
    },
    {
     "name": "stdout",
     "output_type": "stream",
     "text": [
      "Processing /home/jupyter/datasphere/project/text/В МАИ_стартовал_цикл_мероприятий_акции_Неделя_без_турникетов__новости_МАИ.txt\n",
      "Pairs /home/jupyter/datasphere/project/text/В МАИ_стартовал_цикл_мероприятий_акции_Неделя_без_турникетов__новости_МАИ.txt\n",
      ": []\n"
     ]
    },
    {
     "name": "stderr",
     "output_type": "stream",
     "text": [
      "Processing files:  12%|█▏        | 77/629 [32:54<3:57:31, 25.82s/it]"
     ]
    },
    {
     "name": "stdout",
     "output_type": "stream",
     "text": [
      "Processing /home/jupyter/datasphere/project/text/В Москву_ради_мечты_как_жительница_Казани_выбрала_профессию_инженера_медицинского_профиля__новости_М.txt\n",
      "Pairs /home/jupyter/datasphere/project/text/В Москву_ради_мечты_как_жительница_Казани_выбрала_профессию_инженера_медицинского_профиля__новости_М.txt\n",
      ": [{'request': 'Как Ангелина Елисеева выбрала специальность?', 'response': 'Ангелина Елисеева с 7 класса увлекалась биологией и медициной, а также хотела помогать людям. Поэтому она выбрала специальность «Биотехнические системы и технологии» в МАИ.'}, {'request': 'Какие преимущества есть у победителей и призёров олимпиад при поступлении в МАИ?', 'response': 'Победители и призёры олимпиад могут получить дополнительные баллы к ЕГЭ при поступлении в МАИ. Это может увеличить шансы на поступление на бюджет.'}]\n"
     ]
    },
    {
     "name": "stderr",
     "output_type": "stream",
     "text": [
      "Processing files:  12%|█▏        | 78/629 [33:17<3:50:02, 25.05s/it]"
     ]
    },
    {
     "name": "stdout",
     "output_type": "stream",
     "text": [
      "Processing /home/jupyter/datasphere/project/text/В Предуниверсарии_МАИ_состоялся_праздник_посвящённый_Дню_знаний__новости_МАИ.txt\n",
      "Pairs /home/jupyter/datasphere/project/text/В Предуниверсарии_МАИ_состоялся_праздник_посвящённый_Дню_знаний__новости_МАИ.txt\n",
      ": [{'request': 'Как поступить в МАИ?', 'response': 'Приёмная комиссия МАИ проводит приём документов для поступления на программы базового, специализированного и среднего профессионального высшего образования. Приём документов осуществляется по адресу: Волоколамское шоссе, 4, Москва, 125993. Также можно подать документы в электронной форме на сайте МАИ.'}, {'request': 'Какие особенности обучения в Предуниверсарии МАИ?', 'response': 'Особенности обучения в Предуниверсарии МАИ включают углублённое изучение технических дисциплин, индивидуальные образовательные траектории и проектную деятельность учеников во взаимодействии с подразделениями вуза.'}, {'request': 'Какие изменения в системе обучения ожидаются в этом году?', 'response': 'В этом году в учебный процесс вносятся несколько важных изменений, которые помогут ученикам лучше адаптироваться к системе обучения в Предуниверсарии МАИ. Среди них: усовершенствование системы персонализированных расписаний учеников, добавление подготовки к перечню олимпиад по математике, а также выделение специальных часов на подготовку к ЕГЭ по математике, физике, информатике и русскому языку для 11 класса.'}, {'request': 'Какие возможности для подготовки к поступлению предоставляет МАИ?', 'response': 'МАИ предлагает различные программы подготовки к поступлению, включая подготовку к ЕГЭ, олимпиадам и целевым экзаменам. Также МАИ предоставляет информацию о необходимых документах, правилах приёма и других аспектах поступления.'}, {'request': 'Какие направления обучения предлагает МАИ?', 'response': 'МАИ предлагает широкий спектр направлений обучения, включая авиастроение, ракетно-космические системы, двигателестроение, радиоэлектронику и другие. МАИ также предлагает программы среднего профессионального образования и специализацию в различных областях.'}]\n"
     ]
    },
    {
     "name": "stderr",
     "output_type": "stream",
     "text": [
      "Processing files:  13%|█▎        | 79/629 [33:43<3:53:40, 25.49s/it]"
     ]
    },
    {
     "name": "stdout",
     "output_type": "stream",
     "text": [
      "Processing /home/jupyter/datasphere/project/text/В Ступинском_филиале_МАИ_завершилась_молодёжная_конференция_Колачёвские_чтения__новости_МАИ.txt\n",
      "Pairs /home/jupyter/datasphere/project/text/В Ступинском_филиале_МАИ_завершилась_молодёжная_конференция_Колачёвские_чтения__новости_МАИ.txt\n",
      ": [{'request': 'Сколько участников было на конференции «Колачёвские чтения»?', 'response': 'Более 300 человек из разных городов России и других стран.'}, {'request': 'Какие секции были на конференции?', 'response': 'Секции «Информатика, вычислительная техника и управление», «Материаловедение, технология и автоматизация обработки материалов», «Аэрокосмическая техника и технологии», «Менеджмент, экономические и социально-гуманитарные проблемы современного мира».'}, {'request': 'Кто выступил на конференции?', 'response': 'Профессор МАИ, доктор технических наук Сергей Бецофен и член федерации Космонавтики России, ветеран космодрома Байконур Игорь Кучменко.'}, {'request': 'Кто стал автором лучших работ?', 'response': 'Аспирантка МАИ Алёна Нейман, студенты Вадим Сертаков, Дмитрий Прохоров, Мария Жилкина, Маргарита Мазилина, Никита Пятов, Вероника Хажакян, Владислав Казначевский, Елена Емельянова, Степан Михалев, Казначевский Владислав, Алина Щедрина, Арсений Давыдов, Анна Кулагина, Никита Изотов, Мария Барышникова, Екатерина Трощий, Иван Бирев, Наталья Кузнецова, Сергей Махотаев, Максим Жигунов, а также школьники Мария Жильцова, Тимофей Морозов, Ольга Мищенко, Арсений Полюшко.'}]\n"
     ]
    },
    {
     "name": "stderr",
     "output_type": "stream",
     "text": [
      "Processing files:  13%|█▎        | 80/629 [34:09<3:53:58, 25.57s/it]"
     ]
    },
    {
     "name": "stdout",
     "output_type": "stream",
     "text": [
      "Processing /home/jupyter/datasphere/project/text/В СмолГУ_представили_абитуриентам_совместные_с МАИ_сетевые_программы__новости_МАИ.txt\n",
      "Pairs /home/jupyter/datasphere/project/text/В СмолГУ_представили_абитуриентам_совместные_с МАИ_сетевые_программы__новости_МАИ.txt\n",
      ": []\n"
     ]
    },
    {
     "name": "stderr",
     "output_type": "stream",
     "text": [
      "Processing files:  13%|█▎        | 81/629 [34:34<3:53:00, 25.51s/it]"
     ]
    },
    {
     "name": "stdout",
     "output_type": "stream",
     "text": [
      "Processing /home/jupyter/datasphere/project/text/В ЦТПО_МАИ_отобрали_финалистов_конкурса_Инженерный_старт-2020__новости_МАИ.txt\n",
      "Pairs /home/jupyter/datasphere/project/text/В ЦТПО_МАИ_отобрали_финалистов_конкурса_Инженерный_старт-2020__новости_МАИ.txt\n",
      ": [{'request': 'Вопрос 1: Какие проекты были отобраны для финала конкурса «Инженерный старт-2020»?', 'response': 'Номинация «Владение технологией»: Михаил Барбашов с проектом «Робот-консультант аптеки». Номинация «Проектирование»: Илья Чернов и Илья Моисеев с проектом «Мобильный робот-кормушка для животных в питомнике». Номинация «Наука, технология, искусство (Science-Art)»: Елена Романова с проектом «Протезы».', 'response_type': 'string'}, {'request': 'Вопрос 2: Когда состоится финал конкурса «Инженерный старт-2020»?', 'response': '28 ноября.', 'response_type': 'string'}, {'request': 'Вопрос 3: Какие направления обучения предлагает МАИ?', 'response': 'Базовое высшее образование, Специализированное высшее образование, Среднее профессиональное образование.', 'response_type': 'array<string>'}, {'request': 'Вопрос 4: Какие документы необходимы для поступления в МАИ?', 'response': 'Документы, подтверждающие личность, документы об образовании, документы о сдаче ЕГЭ, документы о индивидуальных достижениях.', 'response_type': 'array<string>'}]\n"
     ]
    },
    {
     "name": "stderr",
     "output_type": "stream",
     "text": [
      "Processing files:  13%|█▎        | 82/629 [35:00<3:51:45, 25.42s/it]"
     ]
    },
    {
     "name": "stdout",
     "output_type": "stream",
     "text": [
      "Processing /home/jupyter/datasphere/project/text/В_МАИ_открыта_предварительная_подача_заявлений_на_поступление_2024__новости_МАИ.txt\n",
      "Pairs /home/jupyter/datasphere/project/text/В_МАИ_открыта_предварительная_подача_заявлений_на_поступление_2024__новости_МАИ.txt\n",
      ": []\n"
     ]
    },
    {
     "name": "stderr",
     "output_type": "stream",
     "text": [
      "Processing files:  13%|█▎        | 83/629 [35:24<3:47:32, 25.01s/it]"
     ]
    },
    {
     "name": "stdout",
     "output_type": "stream",
     "text": [
      "Processing /home/jupyter/datasphere/project/text/В_МАИ_прошёл_первый_нейросетевой_день_открытых_дверей__новости_МАИ.txt\n",
      "Pairs /home/jupyter/datasphere/project/text/В_МАИ_прошёл_первый_нейросетевой_день_открытых_дверей__новости_МАИ.txt\n",
      ": [{'request': 'Какие технологии будущего развивает МАИ?', 'response': 'МАИ развивает технологии будущего в области авиастроения, ракетно-космических систем, двигателестроения, радиоэлектроники и систем связи, компьютерных наук и прикладной математики, бортовой электроники и технической кибернетики, робототехнических систем и комплексов вооружения ЛА, а также в материаловедении и современных технологиях.'}, {'request': 'Как МАИ готовит комплексных инженеров?', 'response': 'Комплексных инженеров МАИ готовит, обучая студентов различным областям инженерии, таким как авиастроение, ракетно-космические системы, двигателестроение, радиоэлектроника и системы связи, компьютерные науки и прикладная математика, бортовая электроника и техническая кибернетика, робототехнические системы и комплексы вооружения ЛА, а также материаловедение и современные технологии.'}, {'request': 'Как устроен искусственный интеллект?', 'response': 'Искусственный интеллект (ИИ) — это система, способная выполнять задачи, обычно требующие человеческого интеллекта, такие как распознавание образов, принятие решений, решение задач и обучение. ИИ может быть обучен на больших объёмах данных и может использовать алгоритмы машинного обучения для улучшения своих способностей.'}, {'request': 'Как студенты изучают искусственный интеллект в МАИ?', 'response': 'Студенты МАИ изучают искусственный интеллект на кафедре 806 «Вычислительная математика и программирование». Они изучают основы ИИ, такие как машинное обучение, глубокое обучение, компьютерное зрение и обработка естественного языка. Студенты также участвуют в проектах, связанных с ИИ, таких как создание чат-ботов, распознавание образов и анализ данных.'}]\n"
     ]
    },
    {
     "name": "stderr",
     "output_type": "stream",
     "text": [
      "Processing files:  13%|█▎        | 84/629 [35:50<3:50:19, 25.36s/it]"
     ]
    },
    {
     "name": "stdout",
     "output_type": "stream",
     "text": [
      "Processing /home/jupyter/datasphere/project/text/В_МАИ_состоялся_масштабный_день_карьеры_для_школьников__новости_МАИ.txt\n",
      "Ошибка декодирования JSON в строке: {\"request\":\"Как поступить в МАИ?\",     \"response\":\"Чтобы поступить в МАИ, необходимо ознакомиться с информацией на официальном сайте университета. На сайте представлена информация о направлениях подготовки, вступительных испытаниях, минимальных баллах ЕГЭ, льготах для победителей олимпиад, индивидуальных достижениях, особых правах и преимуществах, предоставляемых поступающим. Также на сайте можно найти информацию о необходимых документах, сроках приёма, подготовке к поступлению и других важных аспектах поступления.     }\n",
      "Unterminated string starting at: line 1 column 51 (char 50)\n",
      "Ошибка декодирования JSON в строке: {\"request\":\"Какие направления подготовки предлагает МАИ?\",     \"response\":\"МАИ предлагает более 40 направлений подготовки, включая базовое, специализированное и среднее профессиональное высшее образование, а также специалитет.     }\n",
      "Unterminated string starting at: line 1 column 75 (char 74)\n",
      "Ошибка декодирования JSON в строке: {\"request\":\"Какие вступительные испытания проводятся МАИ самостоятельно?\",     \"response\":\"МАИ самостоятельно проводит вступительные испытания по направлениям подготовки. Программы вступительных испытаний и формы их проведения можно найти на официальном сайте университета.     }\n",
      "Unterminated string starting at: line 1 column 91 (char 90)\n",
      "Ошибка декодирования JSON в строке: {\"request\":\"Какие льготы предоставляются победителям олимпиад при поступлении в МАИ?\",     \"response\":\"Победителям олимпиад предоставляются льготы при поступлении. Льготы включают в себя зачисление без вступительных испытаний или 100 баллов по профильному предмету.     }\n",
      "Unterminated string starting at: line 1 column 103 (char 102)\n",
      "Pairs /home/jupyter/datasphere/project/text/В_МАИ_состоялся_масштабный_день_карьеры_для_школьников__новости_МАИ.txt\n",
      ": []\n"
     ]
    },
    {
     "name": "stderr",
     "output_type": "stream",
     "text": [
      "Processing files:  14%|█▎        | 85/629 [36:15<3:49:53, 25.36s/it]"
     ]
    },
    {
     "name": "stdout",
     "output_type": "stream",
     "text": [
      "Processing /home/jupyter/datasphere/project/text/В_МАИ_прошёл_день_открытых_дверей_магистратуры__новости_МАИ.txt\n",
      "Pairs /home/jupyter/datasphere/project/text/В_МАИ_прошёл_день_открытых_дверей_магистратуры__новости_МАИ.txt\n",
      ": []\n"
     ]
    },
    {
     "name": "stderr",
     "output_type": "stream",
     "text": [
      "Processing files:  14%|█▎        | 86/629 [36:41<3:51:37, 25.59s/it]"
     ]
    },
    {
     "name": "stdout",
     "output_type": "stream",
     "text": [
      "Processing /home/jupyter/datasphere/project/text/В_МАИ_состоялся_День_науки__новости_МАИ.txt\n",
      "Pairs /home/jupyter/datasphere/project/text/В_МАИ_состоялся_День_науки__новости_МАИ.txt\n",
      ": [{'request': 'Какие мероприятия прошли в МАИ 9 октября 2023 года?', 'response': 'В МАИ состоялся День науки | новости МАИ'}, {'request': 'Сколько человек посетили мероприятие?', 'response': 'Более 800 человек'}, {'request': 'Что было посвящено мероприятию?', 'response': 'Мероприятие было посвящено аэрокосмическим технологиям будущего'}, {'request': 'Кто принял участие в мероприятии?', 'response': 'Школьники'}, {'request': 'Что проходило в рамках программы мероприятия?', 'response': 'Научный Stand Up на тему космических технологий, IT и беспилотных летательных аппаратов'}, {'request': 'Где можно узнать о трендах инноваций и прорывных технологиях?', 'response': 'В рамках программы Дня науки'}, {'request': 'Где можно узнать о программах базового высшего образования?', 'response': 'В разделе Базовое высшее образование'}, {'request': 'Как подать документы на платное обучение?', 'response': 'В разделе Подача документов'}, {'request': 'Какие индивидуальные достижения учитываются при поступлении?', 'response': 'В разделе Индивидуальные достижения'}, {'request': 'Какие особые права предоставляются поступающим?', 'response': 'В разделе Особые права'}, {'request': 'Какие целевые квоты существуют?', 'response': 'В разделе Целевой приём'}, {'request': 'Какие вступительные испытания проводятся МАИ самостоятельно?', 'response': 'В разделе Вступительные испытания, проводимые МАИ самостоятельно'}, {'request': 'Какие льготы предоставляются победителям олимпиад?', 'response': 'В разделе Льготы победителям и призёрам олимпиад'}, {'request': 'Какие документы необходимы для поступления?', 'response': 'В разделе Нормативные документы'}, {'request': 'Какие направления подготовки существуют?', 'response': 'В разделе Направления подготовки и перечень вступительных испытаний'}, {'request': 'Какие экзамены необходимо сдать для поступления?', 'response': 'В разделе Экзамены'}, {'request': 'Какие льготы предоставляются поступающим с ОВЗ?', 'response': 'В разделе Вступительные испытания для граждан с ОВЗ'}, {'request': 'Какие общежития предоставляет МАИ?', 'response': 'В разделе Общежития'}, {'request': 'Какие стипендии предоставляются поступающим?', 'response': 'В разделе Стипендии'}, {'request': 'Какие военные кафедры существуют в МАИ?', 'response': 'В разделе Военная кафедра'}, {'request': 'Какие IT-курсы можно пройти бесплатно?', 'response': 'В разделе Дополнительное IT-обучение'}, {'request': 'Какие экскурсии можно посетить?', 'response': 'В разделе Экскурсии по институтам'}, {'request': 'Какие презентации меганаправлений можно посмотреть?', 'response': 'В разделе Презентации меганаправлений'}]\n"
     ]
    },
    {
     "name": "stderr",
     "output_type": "stream",
     "text": [
      "Processing files:  14%|█▍        | 87/629 [37:10<3:57:58, 26.34s/it]"
     ]
    },
    {
     "name": "stdout",
     "output_type": "stream",
     "text": [
      "Processing /home/jupyter/datasphere/project/text/Взгляд_на МАИ_изнутри_студентка_института_ 6 стала_участницей_проекта_Зачислено__новости_МАИ.txt\n",
      "Pairs /home/jupyter/datasphere/project/text/Взгляд_на МАИ_изнутри_студентка_института_ 6 стала_участницей_проекта_Зачислено__новости_МАИ.txt\n",
      ": [{'request': 'Какие возможности трудоустройства получают студенты МАИ?', 'response': 'Студенты МАИ получают возможность трудоустройства в высокотехнологичных отраслях промышленности, а также могут претендовать на стипендии за хорошую успеваемость, научные исследования и участие в студенческой жизни.'}, {'request': 'Что такое СКБ и хакатон?', 'response': 'СКБ — студенческое конструкторское бюро, объединение студентов, занимающихся разработкой и проектированием различных устройств и систем. Хакатон — мероприятие, на котором команды студентов решают инженерные задачи в сжатые сроки.'}, {'request': 'Как проходит практика в ангарах Роскосмоса?', 'response': 'Студенты проходят практику в ангарах Роскосмоса, где они могут познакомиться с оборудованием и технологиями, используемыми в космической отрасли.'}, {'request': 'Какие внеучебные организации есть в МАИ?', 'response': 'В МАИ есть различные внеучебные организации, такие как спортивные секции, клубы по интересам, научные кружки и студенческие объединения.'}, {'request': 'Что такое целевое обучение?', 'response': 'Целевое обучение — это форма обучения, при которой студент получает образование по отдельному конкурсу и обязуется отработать в организации, которая направила его на обучение.'}]\n"
     ]
    },
    {
     "name": "stderr",
     "output_type": "stream",
     "text": [
      "Processing files:  14%|█▍        | 88/629 [37:34<3:51:15, 25.65s/it]"
     ]
    },
    {
     "name": "stdout",
     "output_type": "stream",
     "text": [
      "Processing /home/jupyter/datasphere/project/text/Вертолётостроение.txt\n",
      "Pairs /home/jupyter/datasphere/project/text/Вертолётостроение.txt\n",
      ": []\n"
     ]
    },
    {
     "name": "stderr",
     "output_type": "stream",
     "text": [
      "Processing files:  14%|█▍        | 89/629 [37:55<3:40:00, 24.45s/it]"
     ]
    },
    {
     "name": "stdout",
     "output_type": "stream",
     "text": [
      "Processing /home/jupyter/datasphere/project/text/Виртуальнаядополненная_реальность_и_искусственный_интеллект.txt\n",
      "Pairs /home/jupyter/datasphere/project/text/Виртуальнаядополненная_реальность_и_искусственный_интеллект.txt\n",
      ": []\n"
     ]
    },
    {
     "name": "stderr",
     "output_type": "stream",
     "text": [
      "Processing files:  14%|█▍        | 90/629 [38:21<3:44:30, 24.99s/it]"
     ]
    },
    {
     "name": "stdout",
     "output_type": "stream",
     "text": [
      "Processing /home/jupyter/datasphere/project/text/Военный_учебный_центр_при_МАИ_провёл_день_открытых_дверей__новости_МАИ.txt\n",
      "Pairs /home/jupyter/datasphere/project/text/Военный_учебный_центр_при_МАИ_провёл_день_открытых_дверей__новости_МАИ.txt\n",
      ": [{'request': 'Какие специальности доступны для обучения в ВУЦ при МАИ в 2023/2024 учебном году?', 'response': 'Полный список военно-учётных специальностей в ВУЦ при МАИ на 2023/2024 учебный год можно найти на сайте: https://mai.ru/education/admissions/vutc'}, {'request': 'Какие условия обучения в ВУЦ при МАИ?', 'response': 'Обучение в ВУЦ при МАИ включает в себя обучение по двум специальностям: гражданской и военной. Студенты получают дополнительные стипендии, места в общежитии по конкурсу, а также гарантированное трудоустройство после окончания обучения. Обучение проводят три кафедры: Кафедра летательных аппаратов, Кафедра управления военных представительств Министерства обороны РФ и Кафедра ракетных войск стратегического назначения.'}, {'request': 'Какие перспективы есть у выпускников ВУЦ при МАИ?', 'response': 'Выпускники ВУЦ при МАИ имеют хорошие перспективы трудоустройства в высокотехнологичных отраслях промышленности, таких как авиастроение, ракетно-космические системы, двигателестроение и другие. Они также могут продолжить обучение в магистратуре МАИ или других вузах.'}, {'request': 'Как поступить в ВУЦ при МАИ?', 'response': 'Для поступления в ВУЦ при МАИ необходимо подать заявление в военкомат по месту жительства. Заявление можно подать лично или через представителя. Также необходимо предоставить документы, подтверждающие право на льготы при поступлении. Более подробную информацию можно найти на сайте ВУЦ при МАИ: https://mai.ru/education/admissions/vutc'}]\n"
     ]
    },
    {
     "name": "stderr",
     "output_type": "stream",
     "text": [
      "Processing files:  14%|█▍        | 91/629 [38:47<3:46:13, 25.23s/it]"
     ]
    },
    {
     "name": "stdout",
     "output_type": "stream",
     "text": [
      "Processing /home/jupyter/datasphere/project/text/Войти_в историю_создавая_новое_студент_МАИ_о целевой_программе_Крылья_Ростеха__новости_МАИ.txt\n",
      "Pairs /home/jupyter/datasphere/project/text/Войти_в историю_создавая_новое_студент_МАИ_о целевой_программе_Крылья_Ростеха__новости_МАИ.txt\n",
      ": [{'request': 'Как называется целевая программа, по которой проходит обучение студент Александр Гнускин?', 'response': '«Крылья Ростеха»'}, {'request': 'Где проходит обучение студент Александр Гнускин?', 'response': 'Московский авиационный институт'}, {'request': 'На каком факультете учится студент Александр Гнускин?', 'response': 'Институт №1 «Авиационная техника»'}, {'request': 'На каком направлении учится студент Александр Гнускин?', 'response': 'Самолёто- и вертолётостроение'}]\n"
     ]
    },
    {
     "name": "stderr",
     "output_type": "stream",
     "text": [
      "Processing files:  15%|█▍        | 92/629 [39:10<3:40:10, 24.60s/it]"
     ]
    },
    {
     "name": "stdout",
     "output_type": "stream",
     "text": [
      "Processing /home/jupyter/datasphere/project/text/Вступительные_испытания_проводимые_МАИ_самостоятельно.txt\n",
      "Pairs /home/jupyter/datasphere/project/text/Вступительные_испытания_проводимые_МАИ_самостоятельно.txt\n",
      ": [{'request': 'Какие категории абитуриентов могут сдавать общеобразовательные вступительные испытания в МАИ?', 'response': 'Отдельные категории поступающих на базе среднего общего образования могут сдавать общеобразовательные вступительные испытания, проводимые МАИ самостоятельно (далее — общеобразовательные вступительные испытания для отдельных категорий поступающих):   инвалиды (в том числе дети-инвалиды);  иностранные граждане;  выпускники СПО.'}, {'request': 'Какие предметы могут сдавать поступающие на отдельные категории?', 'response': 'Поступающий получил документ о среднем общем образовании в иностранной организации может сдавать общеобразовательные вступительные испытания для отдельных категорий поступающих по всем общеобразовательным предметам, по которым ему предоставлено такое право, либо сдавать одно или несколько указанных вступительных испытаний наряду с использованием результатов ЕГЭ по другим общеобразовательным предметам.'}, {'request': 'Какие документы необходимы для поступления в МАИ?', 'response': 'Для поступления в МАИ необходимо предоставить следующие документы:   заявление о приёме;  документ, удостоверяющий личность и гражданство;  документ об образовании и (или) документ об образовании и о квалификации;  фотографии;  документы, подтверждающие особые права и преимущества, предоставляемые поступающим;  иные документы, предусмотренные правилами приёма в МАИ.'}, {'request': 'Какие льготы предоставляются победителям и призёрам олимпиад при поступлении в МАИ?', 'response': 'Победителям и призёрам олимпиад предоставляется льгота в виде поступления без вступительных испытаний (за исключением дополнительных вступительных испытаний творческой и (или) профессиональной направленности) по специальностям и (или) направлениям подготовки, соответствующим профилю олимпиады.'}, {'request': 'Какие формы проведения вступительных испытаний предлагает МАИ?', 'response': 'МАИ предлагает следующие формы проведения вступительных испытаний:   устные;  письменные;  в форме компьютерного тестирования;  в форме дистанционного тестирования;  в комбинированной форме.'}]\n"
     ]
    },
    {
     "name": "stderr",
     "output_type": "stream",
     "text": [
      "Processing files:  15%|█▍        | 93/629 [39:37<3:44:52, 25.17s/it]"
     ]
    },
    {
     "name": "stdout",
     "output_type": "stream",
     "text": [
      "Processing /home/jupyter/datasphere/project/text/Вступительные_испытания_для граждан_с ОВЗ.txt\n",
      "Pairs /home/jupyter/datasphere/project/text/Вступительные_испытания_для граждан_с ОВЗ.txt\n",
      ": []\n"
     ]
    },
    {
     "name": "stderr",
     "output_type": "stream",
     "text": [
      "Processing files:  15%|█▍        | 94/629 [40:02<3:44:55, 25.23s/it]"
     ]
    },
    {
     "name": "stdout",
     "output_type": "stream",
     "text": [
      "Processing /home/jupyter/datasphere/project/text/Второй_поток_российско-китайского_бакалавриата_МАИ-ШУЦТ_вышел_на защиту_дипломов__новости_МАИ.txt\n",
      "Pairs /home/jupyter/datasphere/project/text/Второй_поток_российско-китайского_бакалавриата_МАИ-ШУЦТ_вышел_на защиту_дипломов__новости_МАИ.txt\n",
      ": []\n"
     ]
    },
    {
     "name": "stderr",
     "output_type": "stream",
     "text": [
      "Processing files:  15%|█▌        | 95/629 [40:26<3:40:56, 24.82s/it]"
     ]
    },
    {
     "name": "stdout",
     "output_type": "stream",
     "text": [
      "Processing /home/jupyter/datasphere/project/text/ВУЦ_при_МАИ_кто_такие_студенты_в погонах_и как_их готовят__новости_МАИ.txt\n",
      "Pairs /home/jupyter/datasphere/project/text/ВУЦ_при_МАИ_кто_такие_студенты_в погонах_и как_их готовят__новости_МАИ.txt\n",
      ": [{'request': 'Кто проводит обучение в ВУЦ при МАИ?', 'response': 'Минобороны России'}, {'request': 'Какие направления военной подготовки предлагает ВУЦ при МАИ?', 'response': 'Воздушно-космические силы, Сухопутные войска, Ракетные войска стратегического назначения и Управление военных представительств Минобороны России'}, {'request': 'Кого готовит ВУЦ при МАИ?', 'response': 'Офицеров кадра, офицеров и сержантов запаса'}, {'request': 'Где проходит обучение в ВУЦ при МАИ?', 'response': 'На современной материальной базе с применением новейших средств обучения'}, {'request': 'Какова цель обучения в ВУЦ при МАИ?', 'response': 'Подготовка к службе по контракту и обучение офицеров и сержантов запаса'}]\n"
     ]
    },
    {
     "name": "stderr",
     "output_type": "stream",
     "text": [
      "Processing files:  15%|█▌        | 96/629 [40:49<3:35:52, 24.30s/it]"
     ]
    },
    {
     "name": "stdout",
     "output_type": "stream",
     "text": [
      "Processing /home/jupyter/datasphere/project/text/Выпускникам_филиала_Ракетно-космическая_техника_МАИ_вручили_дипломы__новости_МАИ.txt\n",
      "Pairs /home/jupyter/datasphere/project/text/Выпускникам_филиала_Ракетно-космическая_техника_МАИ_вручили_дипломы__новости_МАИ.txt\n",
      ": []\n"
     ]
    },
    {
     "name": "stderr",
     "output_type": "stream",
     "text": [
      "Processing files:  15%|█▌        | 97/629 [41:20<3:53:58, 26.39s/it]"
     ]
    },
    {
     "name": "stdout",
     "output_type": "stream",
     "text": [
      "Processing /home/jupyter/datasphere/project/text/Выбираем_направления_обучения_в_МАИ__новости_МАИ.txt\n",
      "Pairs /home/jupyter/datasphere/project/text/Выбираем_направления_обучения_в_МАИ__новости_МАИ.txt\n",
      ": [{'request': 'Какие меганаправления предлагает МАИ для базового высшего образования?', 'response': 'МАИ предлагает следующие меганаправления для базового высшего образования: - Авиастроение; - Двигателестроение; - Информатика, кибернетика и электроэнергетика; - Радиоэлектроника и системы связи; - Ракетно-космические системы; - Робототехнические системы и комплексы вооружения ЛА; - Математика и информатика; - Материалы и современные технологии.'}, {'request': 'Какие направления специалитета предлагает МАИ?', 'response': 'МАИ предлагает следующие направления специалитета: - Авиастроение; - Двигателестроение; - Информатика, кибернетика и электроэнергетика; - Радиоэлектроника и системы связи; - Ракетно-космические системы; - Робототехнические системы и комплексы вооружения ЛА; - Материалы и современные технологии.'}, {'request': 'Какие направления среднего профессионального образования предлагает МАИ?', 'response': 'МАИ предлагает следующие направления среднего профессионального образования: - Авиастроение; - Двигателестроение; - Информатика, кибернетика и электроэнергетика; - Радиоэлектроника и системы связи; - Ракетно-космические системы; - Робототехнические системы и комплексы вооружения ЛА; - Материалы и современные технологии.'}, {'request': 'Какие формы вступительных испытаний предлагает МАИ для поступления на бюджетное и платное обучение?', 'response': 'МАИ предлагает следующие формы вступительных испытаний для поступления на бюджетное и платное обучение: - Вступительные испытания, проводимые МАИ самостоятельно; - Вступительные испытания, проводимые в форме ЕГЭ; - Вступительные испытания, проводимые в форме вступительных испытаний, установленных вузом.'}, {'request': 'Какие льготы предоставляются победителям и призёрам олимпиад при поступлении в МАИ?', 'response': 'Победителям и призёрам олимпиад предоставляются следующие льготы при поступлении в МАИ: - Льготы по минимальному количеству баллов ЕГЭ; - Льготы по зачислению без вступительных испытаний; - Льготы по зачислению в первую очередь.'}]\n"
     ]
    },
    {
     "name": "stderr",
     "output_type": "stream",
     "text": [
      "Processing files:  16%|█▌        | 98/629 [41:48<3:55:34, 26.62s/it]"
     ]
    },
    {
     "name": "stdout",
     "output_type": "stream",
     "text": [
      "Processing /home/jupyter/datasphere/project/text/Вертолётостроение_(сетевая_программа_МАИ_и_Восточно-Сибирского_государственного_университета_техноло.txt\n",
      "Pairs /home/jupyter/datasphere/project/text/Вертолётостроение_(сетевая_программа_МАИ_и_Восточно-Сибирского_государственного_университета_техноло.txt\n",
      ": []\n"
     ]
    },
    {
     "name": "stderr",
     "output_type": "stream",
     "text": [
      "Processing files:  16%|█▌        | 99/629 [42:09<3:40:35, 24.97s/it]"
     ]
    },
    {
     "name": "stdout",
     "output_type": "stream",
     "text": [
      "Processing /home/jupyter/datasphere/project/text/Вертолётостроение_(сетевая_программа_МАИ_и_Восточно-Сибирского_государственного_университета_техноло_1.txt\n",
      "Pairs /home/jupyter/datasphere/project/text/Вертолётостроение_(сетевая_программа_МАИ_и_Восточно-Сибирского_государственного_университета_техноло_1.txt\n",
      ": []\n"
     ]
    },
    {
     "name": "stderr",
     "output_type": "stream",
     "text": [
      "Processing files:  16%|█▌        | 100/629 [42:30<3:30:01, 23.82s/it]"
     ]
    },
    {
     "name": "stdout",
     "output_type": "stream",
     "text": [
      "Processing /home/jupyter/datasphere/project/text/Вычислительная_и_экспериментальная__аэрогидродинамика_летательных_аппаратов.txt\n",
      "Pairs /home/jupyter/datasphere/project/text/Вычислительная_и_экспериментальная__аэрогидродинамика_летательных_аппаратов.txt\n",
      ": []\n"
     ]
    },
    {
     "name": "stderr",
     "output_type": "stream",
     "text": [
      "Processing files:  16%|█▌        | 101/629 [42:51<3:23:27, 23.12s/it]"
     ]
    },
    {
     "name": "stdout",
     "output_type": "stream",
     "text": [
      "Processing /home/jupyter/datasphere/project/text/Вычислительные_машины_комплексы_системы_и_сети.txt\n",
      "Pairs /home/jupyter/datasphere/project/text/Вычислительные_машины_комплексы_системы_и_сети.txt\n",
      ": []\n"
     ]
    },
    {
     "name": "stderr",
     "output_type": "stream",
     "text": [
      "Processing files:  16%|█▌        | 102/629 [43:20<3:36:23, 24.64s/it]"
     ]
    },
    {
     "name": "stdout",
     "output_type": "stream",
     "text": [
      "Processing /home/jupyter/datasphere/project/text/Вычислительные_машины_комплексы_системы_и_сети_1.txt\n",
      "Pairs /home/jupyter/datasphere/project/text/Вычислительные_машины_комплексы_системы_и_сети_1.txt\n",
      ": []\n"
     ]
    },
    {
     "name": "stderr",
     "output_type": "stream",
     "text": [
      "Processing files:  16%|█▋        | 103/629 [43:41<3:27:42, 23.69s/it]"
     ]
    },
    {
     "name": "stdout",
     "output_type": "stream",
     "text": [
      "Processing /home/jupyter/datasphere/project/text/Вычислительные_машины_комплексы_системы_и_сети_2.txt\n",
      "Pairs /home/jupyter/datasphere/project/text/Вычислительные_машины_комплексы_системы_и_сети_2.txt\n",
      ": []\n"
     ]
    },
    {
     "name": "stderr",
     "output_type": "stream",
     "text": [
      "Processing files:  17%|█▋        | 104/629 [44:03<3:23:44, 23.28s/it]"
     ]
    },
    {
     "name": "stdout",
     "output_type": "stream",
     "text": [
      "Processing /home/jupyter/datasphere/project/text/Выше_балл_проректор_МАИ_Дмитрий_Козорез_о предварительных_итогах_приёмной_кампании__новости_МАИ.txt\n",
      "Pairs /home/jupyter/datasphere/project/text/Выше_балл_проректор_МАИ_Дмитрий_Козорез_о предварительных_итогах_приёмной_кампании__новости_МАИ.txt\n",
      ": [{'request': 'Какие направления оказались наиболее востребованными в МАИ в 2023 году?', 'response': 'По словам проректора МАИ Дмитрия Козореза, наибольшей популярностью среди абитуриентов пользовались IT-направления, такие как «Информационные технологии и прикладная математика», «Программная инженерия», «Фундаментальная информатика и информационные технологии», а также традиционные для МАИ направления, такие как «Авиастроение», «Ракетные комплексы и космонавтика», «Двигателестроение».'}, {'request': 'Как изменился средний балл ЕГЭ абитуриентов в 2023 году по сравнению с прошлым годом?', 'response': 'Средний балл ЕГЭ поступающих вырос почти на 4 балла по сравнению с прошлым годом.'}, {'request': 'Какие специальности пользуются наибольшим спросом среди абитуриентов?', 'response': 'Наибольшим спросом пользуются IT-направления, такие как «Информационные технологии и прикладная математика», «Программная инженерия», «Фундаментальная информатика и информационные технологии».'}, {'request': 'Какие направления обучения в МАИ всё более плотно интегрируются с информационными технологиями?', 'response': 'Особенно хорошо это видно на примере программ аэрокосмической направленности.'}, {'request': 'Какие преимущества предоставляет целевое обучение в МАИ?', 'response': 'Целевое обучение предоставляет возможность поступить на бюджет по отдельному конкурсу и получить гарантированное трудоустройство в высокотехнологичных отраслях промышленности.'}]\n"
     ]
    },
    {
     "name": "stderr",
     "output_type": "stream",
     "text": [
      "Processing files:  17%|█▋        | 105/629 [44:29<3:30:13, 24.07s/it]"
     ]
    },
    {
     "name": "stdout",
     "output_type": "stream",
     "text": [
      "Processing /home/jupyter/datasphere/project/text/Газотурбинные_энергетические_установки.txt\n",
      "Pairs /home/jupyter/datasphere/project/text/Газотурбинные_энергетические_установки.txt\n",
      ": []\n"
     ]
    },
    {
     "name": "stderr",
     "output_type": "stream",
     "text": [
      "Processing files:  17%|█▋        | 106/629 [44:51<3:23:19, 23.33s/it]"
     ]
    },
    {
     "name": "stdout",
     "output_type": "stream",
     "text": [
      "Processing /home/jupyter/datasphere/project/text/Гид_абитуриента_поступление_на_платное_в_2023_году__новости_МАИ.txt\n",
      "Pairs /home/jupyter/datasphere/project/text/Гид_абитуриента_поступление_на_платное_в_2023_году__новости_МАИ.txt\n",
      ": []\n"
     ]
    },
    {
     "name": "stderr",
     "output_type": "stream",
     "text": [
      "Processing files:  17%|█▋        | 107/629 [45:13<3:20:08, 23.00s/it]"
     ]
    },
    {
     "name": "stdout",
     "output_type": "stream",
     "text": [
      "Processing /home/jupyter/datasphere/project/text/Гид_для_старшеклассника_как_подготовиться_к_поступлению_в_МАИ__новости_МАИ.txt\n",
      "Pairs /home/jupyter/datasphere/project/text/Гид_для_старшеклассника_как_подготовиться_к_поступлению_в_МАИ__новости_МАИ.txt\n",
      ": [{'request': 'Какой максимальный балл нужно набрать на ЕГЭ по профильному предмету для поступления на бюджет?', 'response': '75'}, {'request': 'Какие олимпиады дают льготы при поступлении в МАИ?', 'response': 'Победители и призёры олимпиад могут поступить в МАИ на бюджет вне конкурса без вступительных испытаний в течение 4 лет. Для этого нужно подтвердить свой уровень знаний – сдать ЕГЭ по одному профильному предмету олимпиады и набрать не менее 75 баллов.'}]\n"
     ]
    },
    {
     "name": "stderr",
     "output_type": "stream",
     "text": [
      "Processing files:  17%|█▋        | 108/629 [45:37<3:21:30, 23.21s/it]"
     ]
    },
    {
     "name": "stdout",
     "output_type": "stream",
     "text": [
      "Processing /home/jupyter/datasphere/project/text/Гид_МАИ_для_первокурсников_от традиций_до рекомендаций__новости_МАИ.txt\n",
      "Pairs /home/jupyter/datasphere/project/text/Гид_МАИ_для_первокурсников_от традиций_до рекомендаций__новости_МАИ.txt\n",
      ": []\n"
     ]
    },
    {
     "name": "stderr",
     "output_type": "stream",
     "text": [
      "Processing files:  17%|█▋        | 109/629 [45:58<3:16:13, 22.64s/it]"
     ]
    },
    {
     "name": "stdout",
     "output_type": "stream",
     "text": [
      "Processing /home/jupyter/datasphere/project/text/Главное_в дроне _мозги_руководитель_Школы_дронов_МАИ_о беспилотниках_и профессии_оператора_БПЛА__нов.txt\n",
      "Pairs /home/jupyter/datasphere/project/text/Главное_в дроне _мозги_руководитель_Школы_дронов_МАИ_о беспилотниках_и профессии_оператора_БПЛА__нов.txt\n",
      ": []\n"
     ]
    },
    {
     "name": "stderr",
     "output_type": "stream",
     "text": [
      "Processing files:  17%|█▋        | 110/629 [46:24<3:24:20, 23.62s/it]"
     ]
    },
    {
     "name": "stdout",
     "output_type": "stream",
     "text": [
      "Processing /home/jupyter/datasphere/project/text/Двигателестроение.txt\n",
      "Pairs /home/jupyter/datasphere/project/text/Двигателестроение.txt\n",
      ": [{'request': 'Как поступить в МАИ на специалитет по направлению «Двигателестроение»?', 'response': 'Для поступления на специалитет по направлению «Двигателестроение» необходимо выполнить следующие шаги: 1. Выбрать предметы ЕГЭ по списку, который соответствует направлению и требованиям вуза. 2. Собрать необходимые документы, включая заявление о поступлении, паспорт, аттестат о среднем образовании и другие документы, указанные на сайте МАИ. 3. Подать документы в приёмную комиссию МАИ. 4. Пройти вступительные испытания, которые включают в себя экзамены, творческие конкурсы и другие испытания, в зависимости от выбранной программы обучения. 5. Дождаться результатов вступительных испытаний и узнать о зачислении.  Более подробную информацию о поступлении можно найти на сайте МАИ в разделе «Приёмная комиссия».  Также на сайте МАИ можно найти информацию о минимальных баллах ЕГЭ, необходимых для поступления на бюджет и платное обучение, а также о других требованиях и условиях поступления.  Если у вас есть вопросы о поступлении, вы можете обратиться в приёмную комиссию МАИ или задать вопрос на сайте МАИ в разделе «Задать вопрос».'}, {'request': 'Какие направления подготовки есть в МАИ по направлению «Двигателестроение»?', 'response': 'В МАИ по направлению «Двигателестроение» есть следующие направления подготовки: - Авиационные двигатели. - Ракетные двигатели. - Электроракетные двигатели. - Энергосиловые установки космических аппаратов. - Сверхмалые двигательные установки. - Гибридные силовые установки. - Криогенные и водородные технологии. - Силовые установки для беспилотников. - Метрологическое обеспечение производства и сертификация двигателей летательных аппаратов.  Также в МАИ есть программы специалитета и бакалавриата по направлению «Двигателестроение».  Более подробную информацию о направлениях подготовки и программах обучения можно найти на сайте МАИ в разделе «Меганаправления» в подразделе «Двигателестроение».'}, {'request': 'Какие экзамены нужно сдавать для поступления в МАИ на направление «Двигателестроение»?', 'response': 'Для поступления в МАИ на направление «Двигателестроение» необходимо сдать следующие экзамены: - Русский язык. - Математика. - Физика. - Химия. - Информатика и ИКТ (для направления «Двигателестроение» на базе информатики).  Также для поступления на некоторые программы обучения могут потребоваться дополнительные экзамены, такие как информатика и ИКТ (для направления «Двигателестроение» на базе физики), физика и химия (для направления «Двигателестроение» на базе математики).  Более подробную информацию о вступительных испытаниях можно найти на сайте МАИ в разделе «Вступительные испытания».'}, {'request': 'Какие льготы предоставляются победителям олимпиад при поступлении в МАИ на направление «Двигателестроение»?', 'response': 'Победители и призёры олимпиад, которые соответствуют требованиям приёма, имеют право на льготы при поступлении в МАИ. Льготы могут включать в себя: - Поступление без экзаменов. - Дополнительные баллы к результатам ЕГЭ. - Приоритет при зачислении.  Более подробную информацию о льготах можно найти на сайте МАИ в разделе «Особые права и преимущества, предоставляемые поступающим».'}, {'request': 'Какие документы нужны для поступления в МАИ на направление «Двигателестроение»?', 'response': 'Для поступления в МАИ на направление «Двигателестроение» необходимо предоставить следующие документы: - Заявление о поступлении. - Паспорт. - Аттестат о среднем образовании. - Документы, подтверждающие особые права и льготы (если есть). - Другие документы, которые указаны на сайте МАИ.  Более подробную информацию о документах можно найти на сайте МАИ в разделе «Приём документов».'}]\n"
     ]
    },
    {
     "name": "stderr",
     "output_type": "stream",
     "text": [
      "Processing files:  18%|█▊        | 111/629 [46:53<3:37:57, 25.25s/it]"
     ]
    },
    {
     "name": "stdout",
     "output_type": "stream",
     "text": [
      "Processing /home/jupyter/datasphere/project/text/Двигателестроение_(сетевая_программа_МАИ_и_Рыбинского_государственного_авиационного_технического_уни.txt\n",
      "Pairs /home/jupyter/datasphere/project/text/Двигателестроение_(сетевая_программа_МАИ_и_Рыбинского_государственного_авиационного_технического_уни.txt\n",
      ": []\n"
     ]
    },
    {
     "name": "stderr",
     "output_type": "stream",
     "text": [
      "Processing files:  18%|█▊        | 112/629 [47:15<3:28:49, 24.24s/it]"
     ]
    },
    {
     "name": "stdout",
     "output_type": "stream",
     "text": [
      "Processing /home/jupyter/datasphere/project/text/День_науки_в_МАИ__анонсы_МАИ.txt\n",
      "Pairs /home/jupyter/datasphere/project/text/День_науки_в_МАИ__анонсы_МАИ.txt\n",
      ": [{'request': 'Какие вступительные экзамены проводятся МАИ самостоятельно?', 'response': 'МАИ самостоятельно проводит следующие вступительные экзамены: - Базовое высшее образование: физика, математика, русский язык. - Специализированное высшее образование: физика, математика, русский язык, профильный предмет. - Среднее профессиональное образование: математика, русский язык, физика или информатика.'}, {'request': 'Какие льготы предоставляются победителям и призёрам олимпиад при поступлении?', 'response': 'Победители и призёры олимпиад, соответствующих профилю направления, могут получить льготы при поступлении. Льготы могут включать в себя дополнительные баллы к результатам ЕГЭ, зачисление без экзаменов или зачисление на приоритетное место в конкурсе.'}, {'request': 'Какие документы необходимы для поступления?', 'response': 'Для поступления необходимо предоставить следующие документы: - Заявление о поступлении. - Паспорт или другой документ, удостоверяющий личность. - Аттестат о среднем общем образовании или диплом о среднем профессиональном образовании. - Документы, подтверждающие индивидуальные достижения (при наличии). - Фотографии. - Медицинская справка (при необходимости). - Другие документы, необходимые в соответствии с правилами приёма.'}]\n"
     ]
    },
    {
     "name": "stderr",
     "output_type": "stream",
     "text": [
      "Processing files:  18%|█▊        | 113/629 [47:40<3:30:57, 24.53s/it]"
     ]
    },
    {
     "name": "stdout",
     "output_type": "stream",
     "text": [
      "Processing /home/jupyter/datasphere/project/text/День_открытых_дверей _выставка_предприятий_в МАИ__анонсы_МАИ.txt\n",
      "Pairs /home/jupyter/datasphere/project/text/День_открытых_дверей _выставка_предприятий_в МАИ__анонсы_МАИ.txt\n",
      ": []\n"
     ]
    },
    {
     "name": "stderr",
     "output_type": "stream",
     "text": [
      "Processing files:  18%|█▊        | 114/629 [48:08<3:38:48, 25.49s/it]"
     ]
    },
    {
     "name": "stdout",
     "output_type": "stream",
     "text": [
      "Processing /home/jupyter/datasphere/project/text/День_открытых_дверей_института_8_Компьютерные_науки_и_прикладная_математика__анонсы_МАИ.txt\n",
      "Pairs /home/jupyter/datasphere/project/text/День_открытых_дверей_института_8_Компьютерные_науки_и_прикладная_математика__анонсы_МАИ.txt\n",
      ": [{'request': 'Какие направления подготовки предлагает институт №8 «Компьютерные науки и прикладная математика»?', 'response': 'Институт №8 «Компьютерные науки и прикладная математика» предлагает следующие направления подготовки:  Базовое высшее образование;  Специализированное высшее образование;  Среднее профессиональное образование.'}, {'request': 'Какие вступительные испытания проводятся МАИ самостоятельно?', 'response': 'МАИ самостоятельно проводит следующие вступительные испытания:  Вступительные испытания, проводимые МАИ самостоятельно;  Формы проведения и программы вступительных испытаний;  Программы вступительных испытаний в магистратуру;  Сдача экзаменов на иностранном языке;  Сдача экзаменов с использованием дистанционных технологий;  Вступительные испытания для граждан с ОВЗ.'}, {'request': 'Какие документы необходимы для поступления в МАИ?', 'response': 'Для поступления в МАИ необходимы следующие документы:  Заявление о приёме;  Паспорт или другой документ, удостоверяющий личность и гражданство;  Документ об образовании (аттестат об основном общем или среднем общем образовании);  Документы, подтверждающие индивидуальные достижения;  Фотографии;  Медицинская справка (для поступающих на специальности, связанные с медицинским обслуживанием);  Документы, подтверждающие особые права и преимущества, предоставляемые поступающим.'}]\n"
     ]
    },
    {
     "name": "stderr",
     "output_type": "stream",
     "text": [
      "Processing files:  18%|█▊        | 115/629 [48:33<3:37:57, 25.44s/it]"
     ]
    },
    {
     "name": "stdout",
     "output_type": "stream",
     "text": [
      "Processing /home/jupyter/datasphere/project/text/День_открытых_дверей_поступление_2022__анонсы_МАИ.txt\n",
      "Pairs /home/jupyter/datasphere/project/text/День_открытых_дверей_поступление_2022__анонсы_МАИ.txt\n",
      ": []\n"
     ]
    },
    {
     "name": "stderr",
     "output_type": "stream",
     "text": [
      "Processing files:  18%|█▊        | 116/629 [49:01<3:42:23, 26.01s/it]"
     ]
    },
    {
     "name": "stdout",
     "output_type": "stream",
     "text": [
      "Processing /home/jupyter/datasphere/project/text/Детский_технопарк_МАИ_запускает_новый_формат_обучения__новости_МАИ.txt\n",
      "Pairs /home/jupyter/datasphere/project/text/Детский_технопарк_МАИ_запускает_новый_формат_обучения__новости_МАИ.txt\n",
      ": [{'request': 'Какие мастер-классы будут посвящены в Детском технопарке МАИ?', 'response': 'Мастер-классы в Детском технопарке МАИ будут посвящены трём увлекательным темам: авиация, беспилотные технологии и промышленный дизайн.'}, {'request': 'Когда пройдут ближайшие мастер-классы?', 'response': 'Ближайшие мастер-классы намечены на 14 марта.'}, {'request': 'Где можно зарегистрироваться на мастер-классы?', 'response': 'Зарегистрироваться можно по ссылке.'}, {'request': 'Что нужно сделать после мастер-класса?', 'response': 'После мастер-класса ребята смогут получить полную информацию обо всех направлениях занятий в технопарке и записаться на интересующий курс.'}, {'request': 'Какие направления обучения предлагает Детский технопарк МАИ?', 'response': 'Детский технопарк МАИ предлагает следующие направления обучения:  авиация;  беспилотные технологии;  промышленный дизайн.'}, {'request': 'Какие документы нужны для поступления в МАИ?', 'response': 'Для поступления в МАИ необходимы следующие документы:  заявление о приёме;  документ, удостоверяющий личность и гражданство;  документ об образовании;  фотографии;  документы, подтверждающие особые права и преимущества, предоставляемые поступающим;  другие документы, предусмотренные правилами приёма.'}, {'request': 'Какие экзамены нужно сдавать для поступления в МАИ?', 'response': 'Для поступления в МАИ необходимо сдать следующие экзамены:  русский язык;  математика (профильный уровень);  физика;  химия;  информатика (информатика и информационно-коммуникационные технологии (ИКТ) — для специальностей, связанных с информационными технологиями);  обществознание — для специальностей гуманитарного профиля;  литература — для специальностей филологического профиля;  география — для специальностей географического профиля;  биология — для специальностей биологического профиля;  иностранные языки — для специальностей, требующих знания иностранных языков.'}, {'request': 'Какие льготы предоставляются победителям олимпиад при поступлении в МАИ?', 'response': 'Победителям и призёрам олимпиад предоставляется льгота по результатам олимпиад, проводимых в порядке, установленном Минобрнауки России.'}, {'request': 'Какие преимущества предоставляются поступающим с ограниченными возможностями здоровья при поступлении в МАИ?', 'response': 'Поступающим с ограниченными возможностями здоровья предоставляются следующие преимущества:  приём без вступительных испытаний (при поступлении на обучение по программам бакалавриата или программам специалитета по специальностям и (или) направлениям подготовки, соответствующим медицинским показаниям поступающего);  приём без вступительных испытаний или по результатам вступительных испытаний, проводимых МАИ самостоятельно;  приём в пределах особой квоты;  приём в пределах целевой квоты, установленной в соответствии с частью 10 статьи 71 Федерального закона № 273-ФЗ;  обучение за счёт бюджетных ассигнований федерального бюджета в пределах установленной квоты, а также в пределах целевой квоты, установленной в соответствии с частью 10 статьи 71 Федерального закона № 273-ФЗ.'}, {'request': 'Какие общежития предоставляет МАИ для иногородних абитуриентов?', 'response': 'МАИ предоставляет иногородним абитуриентам общежитие на конкурсной основе — по баллам.'}, {'request': 'Какие стипендии получают студенты МАИ?', 'response': 'Студенты МАИ могут получать следующие стипендии:  стипендии за хорошую успеваемость;  научные стипендии;  стипендии за участие в научных исследованиях;  стипендии за активную студенческую позицию;  именные стипендии.'}, {'request': 'Какие дополнительные IT-курсы могут пройти студенты МАИ?', 'response': 'Студенты МАИ могут бесплатно пройти следующие IT-курсы:  второй диплом по IT-специальности;  курсы по программированию;  курсы по веб-дизайну;  курсы по кибербезопасности;  курсы по машинному обучению;  курсы по анализу данных;  курсы по разработке мобильных приложений.'}]\n"
     ]
    },
    {
     "name": "stderr",
     "output_type": "stream",
     "text": [
      "Processing files:  19%|█▊        | 117/629 [49:31<3:53:22, 27.35s/it]"
     ]
    },
    {
     "name": "stdout",
     "output_type": "stream",
     "text": [
      "Processing /home/jupyter/datasphere/project/text/Детский_технопарк_МАИ_начинает_учебный_год__новости_МАИ.txt\n",
      "Pairs /home/jupyter/datasphere/project/text/Детский_технопарк_МАИ_начинает_учебный_год__новости_МАИ.txt\n",
      ": []\n"
     ]
    },
    {
     "name": "stderr",
     "output_type": "stream",
     "text": [
      "Processing files:  19%|█▉        | 118/629 [49:57<3:48:24, 26.82s/it]"
     ]
    },
    {
     "name": "stdout",
     "output_type": "stream",
     "text": [
      "Processing /home/jupyter/datasphere/project/text/Детский_технопарк_МАИ_провёл_мастер-классы_для_учителей__новости_МАИ.txt\n",
      "Pairs /home/jupyter/datasphere/project/text/Детский_технопарк_МАИ_провёл_мастер-классы_для_учителей__новости_МАИ.txt\n",
      ": [{'request': 'Какие мастер-классы для учителей провёл Детский технопарк МАИ?', 'response': '11 ноября 2020 года в Детском технопарке МАИ «Траектория взлёта» прошли мастер-классы по конструированию в среде SolidWorks и программированию Raspberry Pi и Arduino для учителей.'}, {'request': 'Какие направления подготовки предлагает МАИ?', 'response': 'МАИ предлагает следующие направления подготовки:  Базовое высшее образование;  Специализированное высшее образование;  Среднее профессиональное образование;  Иностранным гражданам;  Официальные документы;  Специализированное высшее образование;  Нормативные документы;  Направления подготовки и перечень вступительных испытаний;  План приёма;  План приёма на бюджетные места;  План приёма на платные места;  Целевая квота;  План приёма иностранных граждан;  Формы проведения и программы вступительных испытаний;  Программы вступительных испытаний в магистратуру;  Сдача экзаменов на иностранном языке;  Сдача экзаменов с использованием дистанционных технологий;  Вступительные испытания для граждан с ОВЗ;  Расписание консультаций и экзаменов;  Сроки проведения приёма;  Особые права и преимущества, предоставляемые поступающим;  Минимальное количество баллов ЕГЭ;  Льготы победителям и призёрам олимпиад;  Учёт индивидуальных достижений;  Целевой приём;  Информация о необходимости прохождения медицинского осмотра;  Приём иностранных граждан;  Информация о предоставлении мест в общежитиях;  Порядок предоставления мест в общежитиях;  Порядок заселения в общежития;  Распределение мест в общежитиях 2023;  Заселение в общежитие 1 курса 2023;  Приём документов;  Анонсы;  Статьи;  Календарь;  Контакты;  Личный кабинет;  Меганаправления;  Авиастроение;  Ракетно-космические системы;  Двигателестроение;  Радиоэлектроника и системы связи;  Компьютерные науки и прикладная математика;  Бортовая электроника и техническая кибернетика;  Робототехнические системы и комплексы вооружения ЛА;  Материалы и современные технологии;  Управленческо-экономические и лингвистические направления;  Дни открытых дверей;  Школьникам;  Онлайн-тур по МАИ;  Поиск по сайту;  Карта сайта;  Календарь абитуриента. '}, {'request': 'Какие льготы предоставляются поступающим в МАИ?', 'response': 'Поступающим в МАИ предоставляются следующие льготы:  Льготы победителям и призёрам олимпиад;  Особые права и преимущества, предоставляемые поступающим;  Минимальное количество баллов ЕГЭ;  Учёт индивидуальных достижений;  Целевой приём.'}]\n"
     ]
    },
    {
     "name": "stderr",
     "output_type": "stream",
     "text": [
      "Processing files:  19%|█▉        | 119/629 [50:25<3:51:17, 27.21s/it]"
     ]
    },
    {
     "name": "stdout",
     "output_type": "stream",
     "text": [
      "Processing /home/jupyter/datasphere/project/text/Динамика_полёта_и_управление_движением_летательных_аппаратов.txt\n",
      "Pairs /home/jupyter/datasphere/project/text/Динамика_полёта_и_управление_движением_летательных_аппаратов.txt\n",
      ": []\n"
     ]
    },
    {
     "name": "stderr",
     "output_type": "stream",
     "text": [
      "Processing files:  19%|█▉        | 120/629 [50:56<4:02:13, 28.55s/it]"
     ]
    },
    {
     "name": "stdout",
     "output_type": "stream",
     "text": [
      "Processing /home/jupyter/datasphere/project/text/Дни_открытых_дверей_в МАИ_что_это_такое_и почему_вам_стоит_прийти__новости_МАИ.txt\n",
      "Pairs /home/jupyter/datasphere/project/text/Дни_открытых_дверей_в МАИ_что_это_такое_и почему_вам_стоит_прийти__новости_МАИ.txt\n",
      ": []\n"
     ]
    },
    {
     "name": "stderr",
     "output_type": "stream",
     "text": [
      "Processing files:  19%|█▉        | 121/629 [51:23<3:57:09, 28.01s/it]"
     ]
    },
    {
     "name": "stdout",
     "output_type": "stream",
     "text": [
      "Processing /home/jupyter/datasphere/project/text/Дни_открытых_дверей_меганаправлений_2022__анонсы_МАИ.txt\n",
      "Pairs /home/jupyter/datasphere/project/text/Дни_открытых_дверей_меганаправлений_2022__анонсы_МАИ.txt\n",
      ": []\n"
     ]
    },
    {
     "name": "stderr",
     "output_type": "stream",
     "text": [
      "Processing files:  19%|█▉        | 122/629 [51:49<3:51:14, 27.37s/it]"
     ]
    },
    {
     "name": "stdout",
     "output_type": "stream",
     "text": [
      "Processing /home/jupyter/datasphere/project/text/Дни_открытых_дверей_меганаправлений_2023__анонсы_МАИ.txt\n",
      "Pairs /home/jupyter/datasphere/project/text/Дни_открытых_дверей_меганаправлений_2023__анонсы_МАИ.txt\n",
      ": [{'request': 'Что включает в себя цикл мероприятий «Дни открытых дверей меганаправлений 2023»?', 'response': 'Цикл мероприятий «Дни открытых дверей меганаправлений 2023» включает в себя подробное знакомство абитуриентов с конкурсными группами и программами обучения.'}, {'request': 'Какие мероприятия будут проходить в рамках цикла «Дни открытых дверей меганаправлений 2023»?', 'response': 'В рамках цикла «Дни открытых дверей меганаправлений 2023» будут проходить следующие мероприятия: - «Материалы и современные технологии»; - «Компьютерные науки и прикладная математика»; - «Робототехнические системы и комплексы вооружения летательных аппаратов»; - «Ракетно-космические системы»; - «Экономика и менеджмент высокотехнологичной индустрии»; - «Институт иностранных языков»; - «Радиоэлектроника и системы связи»; - «Информатика, кибернетика и электроэнергетика»; - «Двигателестроение»; - «Авиастроение»; - «Передовая инженерная школа».'}, {'request': 'Как можно зарегистрироваться на мероприятия цикла «Дни открытых дверей меганаправлений 2023»?', 'response': 'Для регистрации на мероприятия цикла «Дни открытых дверей меганаправлений 2023» необходимо заполнить веб-форму на сайте МАИ.'}, {'request': 'Где можно получить онлайн-запись на мероприятия цикла «Дни открытых дверей меганаправлений 2023»?', 'response': 'Онлайн-запись на мероприятия цикла «Дни открытых дверей меганаправлений 2023» можно получить в форме регистрации.'}]\n"
     ]
    },
    {
     "name": "stderr",
     "output_type": "stream",
     "text": [
      "Processing files:  20%|█▉        | 123/629 [52:15<3:47:51, 27.02s/it]"
     ]
    },
    {
     "name": "stdout",
     "output_type": "stream",
     "text": [
      "Processing /home/jupyter/datasphere/project/text/Дни_открытых_дверей_меганаправлений_2023__анонсы_МАИ_1.txt\n",
      "Pairs /home/jupyter/datasphere/project/text/Дни_открытых_дверей_меганаправлений_2023__анонсы_МАИ_1.txt\n",
      ": [{'request': 'Что такое меганаправление в МАИ?', 'response': 'Меганаправление — это подборка конкурсных групп и направлений подготовки, которые объединены общей сферой деятельности.'}, {'request': 'Какие меганаправления предлагает МАИ в 2023 году?', 'response': 'МАИ предлагает следующие меганаправления в 2023 году: - Авиастроение. - Двигателестроение. - Информатика, кибернетика и электроэнергетика. - Радиоэлектроника и системы связи. - Управленческо-экономические и лингвистическое. - Ракетно-космические системы. - Робототехнические и интеллектуальные системы. - Компьютерные науки и прикладная математика. - Материалы и современные технологии.'}, {'request': 'Где можно узнать больше информации о меганаправлениях МАИ?', 'response': 'Больше информации о меганаправлениях МАИ можно узнать на сайте МАИ, на странице «Дни открытых дверей меганаправлений 2023 | анонсы МАИ» по ссылке: https://mai.ru/events/Open-Days/Mega-Directions-2023/.'}, {'request': 'Когда пройдут Дни открытых дверей меганаправлений МАИ в 2023 году?', 'response': 'Дни открытых дверей меганаправлений МАИ пройдут 25 ноября 2023 года.'}]\n"
     ]
    },
    {
     "name": "stderr",
     "output_type": "stream",
     "text": [
      "Processing files:  20%|█▉        | 124/629 [52:41<3:45:25, 26.78s/it]"
     ]
    },
    {
     "name": "stdout",
     "output_type": "stream",
     "text": [
      "Processing /home/jupyter/datasphere/project/text/Дни_открытых_дверей_меганаправлений_ONLINE_2021__анонсы_МАИ.txt\n",
      "Pairs /home/jupyter/datasphere/project/text/Дни_открытых_дверей_меганаправлений_ONLINE_2021__анонсы_МАИ.txt\n",
      ": []\n"
     ]
    },
    {
     "name": "stderr",
     "output_type": "stream",
     "text": [
      "Processing files:  20%|█▉        | 125/629 [53:09<3:48:06, 27.16s/it]"
     ]
    },
    {
     "name": "stdout",
     "output_type": "stream",
     "text": [
      "Processing /home/jupyter/datasphere/project/text/Желание_быть_полезным_мотивирует_на подвиги _победитель_НТО_Дмитрий_Гейжа__новости_МАИ.txt\n",
      "Pairs /home/jupyter/datasphere/project/text/Желание_быть_полезным_мотивирует_на подвиги _победитель_НТО_Дмитрий_Гейжа__новости_МАИ.txt\n",
      ": []\n"
     ]
    },
    {
     "name": "stderr",
     "output_type": "stream",
     "text": [
      "Processing files:  20%|██        | 126/629 [53:33<3:39:14, 26.15s/it]"
     ]
    },
    {
     "name": "stdout",
     "output_type": "stream",
     "text": [
      "Processing /home/jupyter/datasphere/project/text/Жизнь_после_восьмого_института_маёвец_о карьерном_треке_внутри IT__новости_МАИ.txt\n",
      "Pairs /home/jupyter/datasphere/project/text/Жизнь_после_восьмого_института_маёвец_о карьерном_треке_внутри IT__новости_МАИ.txt\n",
      ": [{'request': 'Какие перспективы у студентов IT-направлений Московского авиационного института и что ждёт выпускников института № 8?', 'response': 'Рынок IT в России продолжает расти уверенными темпами. Какие перспективы у студентов IT-направлений Московского авиационного института и что ждёт выпускников института № 8 «Информационные технологии и прикладная математика» — рассказывает Вадим Кондаратцев, руководитель магистерской программы кафедры 806 «Вычислительная математика и программирование», R&D-инженер компании Phygitalism и победитель грантовой программы «УМНИК» 2022 года.'}, {'request': 'Как сложилась ваша карьера после окончания бакалавриата?', 'response': 'После выпуска я собирался заниматься наукой, но ближе к окончанию университета меня увлекли практические задачи, связанные с программированием, искусственным интеллектом, компьютерной графикой.'}, {'request': 'Какие знания и навыки, полученные в вузе, оказались особенно полезны в профессии?', 'response': 'Первое — фундаментальные науки, которые, разумеется, точно пригодятся в работе. Математика и информатика в большом объёме и очень качественно преподаются в университете. Если разобраться в этих дисциплинах, то в будущем будет проще понимать индустриальные новинки, их внутреннее устройство, а также изобретать и конструировать их самому.'}, {'request': 'Как вы оцениваете перспективы IT в 2022 году?', 'response': 'В целом здесь нечего оценивать — очевидно, IT переживает эпоху технологического ренессанса. Количество публикаций, новых открытых лабораторий, внедрений, а также рост зарплат — это абсолютно объективные показатели.'}]\n"
     ]
    },
    {
     "name": "stderr",
     "output_type": "stream",
     "text": [
      "Processing files:  20%|██        | 127/629 [53:59<3:38:52, 26.16s/it]"
     ]
    },
    {
     "name": "stdout",
     "output_type": "stream",
     "text": [
      "Processing /home/jupyter/datasphere/project/text/Завершился_цикл_Дней_открытых_дверей_меганаправлений_МАИ__новости_МАИ.txt\n",
      "Pairs /home/jupyter/datasphere/project/text/Завершился_цикл_Дней_открытых_дверей_меганаправлений_МАИ__новости_МАИ.txt\n",
      ": []\n"
     ]
    },
    {
     "name": "stderr",
     "output_type": "stream",
     "text": [
      "Processing files:  20%|██        | 128/629 [54:23<3:32:49, 25.49s/it]"
     ]
    },
    {
     "name": "stdout",
     "output_type": "stream",
     "text": [
      "Processing /home/jupyter/datasphere/project/text/Заместитель_главы_Минобрнауки_России_встретился_с малазийскими_студентами_в МАИ__новости_МАИ.txt\n",
      "Pairs /home/jupyter/datasphere/project/text/Заместитель_главы_Минобрнауки_России_встретился_с малазийскими_студентами_в МАИ__новости_МАИ.txt\n",
      ": [{'request': 'Какие возможности студенты МАИ видят для себя и для тех, кто приедет после них в развитии стратегического партнёрства России и Малайзии?', 'response': 'На встрече замминистра ответил на вопросы о существующих программах по интеграции иностранных студентов в России и их востребованности как специалистов по окончании обучения, а также о совместных планах двух стран в научно-исследовательской сфере.'}, {'request': 'Какие совместные образовательные инициативы планируется развивать в Малайзии?', 'response': 'Также замминистра отметил возможность развития новых совместных с российскими университетами образовательных программ в Малайзии.'}, {'request': 'Какие программы предлагает МАИ для иностранных граждан?', 'response': 'При поступлении иностранные граждане могут воспользоваться следующими программами:  Базовое высшее образование;  Специализированное высшее образование;  Среднее профессиональное образование.'}, {'request': 'Какие льготы предоставляются победителям и призёрам олимпиад при поступлении?', 'response': 'Минимальное количество баллов ЕГЭ для поступления — 70 баллов. Льготы победителям и призёрам олимпиад — 100 баллов по профильному предмету.'}, {'request': 'Какие стипендии и гранты доступны для студентов МАИ?', 'response': 'Стипендии и гранты, доступные для студентов МАИ:  Стипендии за хорошую успеваемость, научные исследования и участие, а также активную студенческую позицию;  Целевое обучение;  Дополнительное IT-обучение;  Военный учебный центр при МАИ осуществляет военную подготовку офицеров и сержантов запаса.'}]\n"
     ]
    },
    {
     "name": "stderr",
     "output_type": "stream",
     "text": [
      "Processing files:  21%|██        | 129/629 [54:52<3:39:46, 26.37s/it]"
     ]
    },
    {
     "name": "stdout",
     "output_type": "stream",
     "text": [
      "Processing /home/jupyter/datasphere/project/text/Запрограммировать_на успех_стартовал_финал_Национальной_технологической_олимпиады_по БАС__новости_МА.txt\n",
      "Pairs /home/jupyter/datasphere/project/text/Запрограммировать_на успех_стартовал_финал_Национальной_технологической_олимпиады_по БАС__новости_МА.txt\n",
      ": [{'request': 'Сколько школьников прошло в заключительный этап Национальной технологической олимпиады по БАС?', 'response': 'Всего в заключительный этап прошло 37 школьников из 9 регионов России.'}, {'request': 'Какие регионы России представляют школьники, прошедшие в заключительный этап?', 'response': '9 регионов России.'}, {'request': 'Что нужно сделать финалистам профиля «Беспилотные авиационные системы» для проверки своих решений?', 'response': 'Проверить свои решения на специализированном симуляторе полёта БПЛА самолётного типа.'}, {'request': 'Для чего могут пригодиться беспилотники?', 'response': 'Беспилотники могут стать незаменимым инструментом в решении самых важных задач, от поиска пропавших людей до обнаружения чрезвычайных ситуаций.'}]\n"
     ]
    },
    {
     "name": "stderr",
     "output_type": "stream",
     "text": [
      "Processing files:  21%|██        | 130/629 [55:15<3:32:31, 25.55s/it]"
     ]
    },
    {
     "name": "stdout",
     "output_type": "stream",
     "text": [
      "Processing /home/jupyter/datasphere/project/text/Зарабатывай_умом_навигатор_по стипендиям___новости_МАИ.txt\n",
      "Pairs /home/jupyter/datasphere/project/text/Зарабатывай_умом_навигатор_по стипендиям___новости_МАИ.txt\n",
      ": []\n"
     ]
    },
    {
     "name": "stderr",
     "output_type": "stream",
     "text": [
      "Processing files:  21%|██        | 131/629 [55:42<3:35:39, 25.98s/it]"
     ]
    },
    {
     "name": "stdout",
     "output_type": "stream",
     "text": [
      "Processing /home/jupyter/datasphere/project/text/Зарабатывай_умом_навигатор_по стипендиям_и поощрительным_выплатам_2023-2024__новости_МАИ.txt\n",
      "Pairs /home/jupyter/datasphere/project/text/Зарабатывай_умом_навигатор_по стипендиям_и поощрительным_выплатам_2023-2024__новости_МАИ.txt\n",
      ": []\n"
     ]
    },
    {
     "name": "stderr",
     "output_type": "stream",
     "text": [
      "Processing files:  21%|██        | 132/629 [56:19<4:02:08, 29.23s/it]"
     ]
    },
    {
     "name": "stdout",
     "output_type": "stream",
     "text": [
      "Processing /home/jupyter/datasphere/project/text/Заселение_в_общежитие_студентов_1_курса.txt\n",
      "Pairs /home/jupyter/datasphere/project/text/Заселение_в_общежитие_студентов_1_курса.txt\n",
      ": [{'request': 'В какие дни и по каким адресам будет осуществляться выдача направлений для заселения в общежития?', 'response': 'Направления для заселения в общежития выдаются в Дирекции студгородка МАИ по адресу: ул. Дубосековская, д. 5 строго в следующие дни с 09:00 до 18:00 часов:  - 28 августа 2023 года — Институт №3 «Системы управления, информатика и электроэнергетика», Институт №7 «Робототехнические и интеллектуальные системы», Институт №9 «Институт общеинженерной подготовки»;  - 29 августа 2023 года — Институт №1 «Авиационная техника», Институт №6 «Аэрокосмический», Институт №4 «Радиоэлектроника, инфокоммуникации и информационная безопасность»;  - 30 августа 2023 года — Институт №2 «Авиационные, ракетные двигатели и энергетические установки», Институт №8 «Компьютерные науки и прикладная математика», Институт №14 «Передовая инженерная школа»;  - 31 августа 2023 года — Институт №5 «Экономика и менеджмент высокотехнологичной индустрии», Институт №10 «Институт иностранных языков»;  - Магистратура по всем направлениям.'}, {'request': 'Какие документы необходимы для заселения в общежитие?', 'response': 'Для заселения в общежитие необходимо предоставить следующие документы:  - Три копии паспорта (страницы 2, 3, 5);  - Для иностранных граждан — нотариально заверенный перевод паспорта;  - Фото 3х4 или 4х6 (2 шт.);  - Нотариально заверенное согласие законных представителей на заселение в общежитие МАИ несовершеннолетних граждан;  - Перечень медицинских документов, обязательных для заселения и проживания в общежитиях Студенческого городка МАИ.'}, {'request': 'Какие медицинские документы необходимы для заселения в общежитие?', 'response': 'Гражданам РФ потребуются следующие медицинские документы:  - Карта профилактических прививок (форма 063/у) или сертификат о проведении профилактической иммунизации в рамках национального календаря прививок и календаря прививок по эпидемиологическим показаниям против дифтерии, коклюша, столбняка (АКДС), кори (ЖКВ), краснухи, эпидемического паротита (ЖПВ), гепатита В, туберкулеза (БЦЖ);  - Рентгенологическое исследование легких в двух проекциях или компьютерная томография с заключением врача-специалиста;  - Медицинская справка с заключением врача-дерматовенеролога об отсутствии противопоказаний для проживания в общежитии с указанием результатов бактериоскопического анализа на заболевания, передающиеся половым путем, результатов исследования крови на сифилис, гепатит В, гепатит С и на добровольной основе на ВИЧ-инфекцию;  - Копия полиса обязательного медицинского страхования.'}, {'request': 'Какие документы необходимы иностранным гражданам для заселения в общежитие?', 'response': 'Иностранным гражданам потребуются следующие медицинские документы:  - Документ о проведении профилактической иммунизации в соответствии с национальным календарем прививок и указанием даты проведения вакцинации против дифтерии, коклюша, столбняка, кори, краснухи, эпидемического паротита, гепатита В, туберкулеза, либо документ, подтверждающий отсутствие сведений о прохождении иммунизации, заверенный медицинским работником;  - Рентгенологическое исследование легких в двух проекциях или компьютерная томография с заключением врача-специалиста, выполненные в срок не более 6 месяцев перед медицинским освидетельствованием (в случае отсутствия — необходимо провести обследование и предоставить заключение);  - Медицинская справка с заключением врача-дерматовенеролога об отсутствии противопоказаний для проживания в общежитии с указанием результатов бактериоскопического анализа на заболевания, передающиеся половым путем, результатов исследования крови на сифилис, ВИЧ-инфекцию, гепатит В, гепатит С.'}]\n"
     ]
    },
    {
     "name": "stderr",
     "output_type": "stream",
     "text": [
      "Processing files:  21%|██        | 133/629 [56:51<4:06:52, 29.86s/it]"
     ]
    },
    {
     "name": "stdout",
     "output_type": "stream",
     "text": [
      "Processing /home/jupyter/datasphere/project/text/Изменения_в правилах_приёма_в_МАИ_с 2021_года__новости_МАИ.txt\n",
      "Pairs /home/jupyter/datasphere/project/text/Изменения_в правилах_приёма_в_МАИ_с 2021_года__новости_МАИ.txt\n",
      ": []\n"
     ]
    },
    {
     "name": "stderr",
     "output_type": "stream",
     "text": [
      "Processing files:  21%|██▏       | 134/629 [57:16<3:56:04, 28.62s/it]"
     ]
    },
    {
     "name": "stdout",
     "output_type": "stream",
     "text": [
      "Processing /home/jupyter/datasphere/project/text/Индивидуальные_достижения.txt\n",
      "Pairs /home/jupyter/datasphere/project/text/Индивидуальные_достижения.txt\n",
      ": []\n"
     ]
    },
    {
     "name": "stderr",
     "output_type": "stream",
     "text": [
      "Processing files:  21%|██▏       | 135/629 [57:38<3:37:37, 26.43s/it]"
     ]
    },
    {
     "name": "stdout",
     "output_type": "stream",
     "text": [
      "Processing /home/jupyter/datasphere/project/text/Индивидуальные_достижения_1.txt\n",
      "Pairs /home/jupyter/datasphere/project/text/Индивидуальные_достижения_1.txt\n",
      ": [{'request': 'Сколько баллов начисляется за наличие статуса чемпиона мира по видам спорта, не включенным в программы Олимпийских игр, Паралимпийских игр, Сурдлимпийских игр?', 'response': 5}, {'request': 'Сколько баллов начисляется за наличие золотого, серебряного или бронзового знака отличия Всероссийского физкультурно-спортивного комплекса «Готов к труду и обороне» (ГТО)?', 'response': 2}, {'request': 'Сколько баллов начисляется за наличие статуса чемпиона или призёра первенства России, победителя Кубка России, победителя или призёра других соревнований Всероссийского уровня по техническим видам спорта (авиамодельный, ракетомодельный спорт и др.)?', 'response': 5}, {'request': 'Сколько баллов начисляется за участие в добровольческой (волонтёрской) деятельности в течение не менее 4 лет продолжительностью не менее 100 часов в год?', 'response': 4}, {'request': 'Сколько баллов начисляется за наличие диплома о высшем образовании с отличием?', 'response': 5}]\n"
     ]
    },
    {
     "name": "stderr",
     "output_type": "stream",
     "text": [
      "Processing files:  22%|██▏       | 136/629 [58:03<3:35:46, 26.26s/it]"
     ]
    },
    {
     "name": "stdout",
     "output_type": "stream",
     "text": [
      "Processing /home/jupyter/datasphere/project/text/Индивидуальные_образовательные_траектории_в_МАИ__новости_МАИ.txt\n",
      "Pairs /home/jupyter/datasphere/project/text/Индивидуальные_образовательные_траектории_в_МАИ__новости_МАИ.txt\n",
      ": []\n"
     ]
    },
    {
     "name": "stderr",
     "output_type": "stream",
     "text": [
      "Processing files:  22%|██▏       | 137/629 [58:31<3:38:56, 26.70s/it]"
     ]
    },
    {
     "name": "stdout",
     "output_type": "stream",
     "text": [
      "Processing /home/jupyter/datasphere/project/text/Инженерное_дело_в_аэрокосмической_медицине.txt\n",
      "Pairs /home/jupyter/datasphere/project/text/Инженерное_дело_в_аэрокосмической_медицине.txt\n",
      ": []\n"
     ]
    },
    {
     "name": "stderr",
     "output_type": "stream",
     "text": [
      "Processing files:  22%|██▏       | 138/629 [58:53<3:25:48, 25.15s/it]"
     ]
    },
    {
     "name": "stdout",
     "output_type": "stream",
     "text": [
      "Processing /home/jupyter/datasphere/project/text/Инженерное_дело_в_медико-биологической_практике_и_биотехнических_системах.txt\n",
      "Pairs /home/jupyter/datasphere/project/text/Инженерное_дело_в_медико-биологической_практике_и_биотехнических_системах.txt\n",
      ": []\n"
     ]
    },
    {
     "name": "stderr",
     "output_type": "stream",
     "text": [
      "Processing files:  22%|██▏       | 139/629 [59:14<3:16:30, 24.06s/it]"
     ]
    },
    {
     "name": "stdout",
     "output_type": "stream",
     "text": [
      "Processing /home/jupyter/datasphere/project/text/Инноватика.txt\n",
      "Pairs /home/jupyter/datasphere/project/text/Инноватика.txt\n",
      ": []\n"
     ]
    },
    {
     "name": "stderr",
     "output_type": "stream",
     "text": [
      "Processing files:  22%|██▏       | 140/629 [59:46<3:34:21, 26.30s/it]"
     ]
    },
    {
     "name": "stdout",
     "output_type": "stream",
     "text": [
      "Processing /home/jupyter/datasphere/project/text/Инновационные_технологии_разработки_и_производства_летательных_аппаратов.txt\n",
      "Pairs /home/jupyter/datasphere/project/text/Инновационные_технологии_разработки_и_производства_летательных_аппаратов.txt\n",
      ": []\n"
     ]
    },
    {
     "name": "stderr",
     "output_type": "stream",
     "text": [
      "Processing files:  22%|██▏       | 141/629 [1:00:07<3:22:31, 24.90s/it]"
     ]
    },
    {
     "name": "stdout",
     "output_type": "stream",
     "text": [
      "Processing /home/jupyter/datasphere/project/text/Иностранным_гражданам.txt\n",
      "Pairs /home/jupyter/datasphere/project/text/Иностранным_гражданам.txt\n",
      ": [{'request': 'Как поступить в МАИ на платное обучение?', 'response': 'Для поступления на платное обучение в МАИ необходимо:  1. Ознакомиться с правилами приёма и программами обучения на сайте МАИ. 2. Собрать необходимые документы, включая заявление о поступлении, копию паспорта, аттестат о среднем образовании или диплом о среднем специальном образовании, документы, подтверждающие индивидуальные достижения, и другие документы, указанные в правилах приёма. 3. Подать документы в приёмную комиссию МАИ. 4. Пройти вступительные испытания, если это предусмотрено правилами приёма. 5. Дождаться решения приёмной комиссии о зачислении.  При необходимости можно также уточнить информацию о поступлении по телефону или электронной почте, указанным на сайте МАИ.'}, {'request': 'Какие документы необходимы для поступления в МАИ?', 'response': 'Для поступления в МАИ необходимы следующие документы:  1. Заявление о поступлении. 2. Копия паспорта. 3. Аттестат о среднем образовании или диплом о среднем специальном образовании. 4. Документы, подтверждающие индивидуальные достижения. 5. Другие документы, указанные в правилах приёма.  Список необходимых документов может быть дополнен в зависимости от программы обучения и формы поступления.'}, {'request': 'Какие вступительные испытания необходимо пройти для поступления в МАИ?', 'response': 'Вступительные испытания для поступления в МАИ зависят от программы обучения и формы поступления.  Для поступления на базовое высшее образование необходимо сдать ЕГЭ по трём предметам: русский язык, математика и предмет по выбору.  Для поступления на специализированное высшее образование необходимо сдать вступительные испытания, которые проводятся МАИ самостоятельно.  Для поступления на платное обучение необходимо сдать вступительные испытания, если это предусмотрено правилами приёма.  Для поступления на целевое обучение необходимо сдать вступительные испытания, если это предусмотрено правилами приёма, и предоставить документы, подтверждающие целевое направление.  Для поступления на магистерские программы необходимо сдать вступительные испытания, которые проводятся МАИ самостоятельно.'}, {'request': 'Какие льготы предоставляются победителям олимпиад при поступлении в МАИ?', 'response': 'Победители и призёры олимпиад, соответствующих профилю направления подготовки, могут получить льготы при поступлении в МАИ.  Льготы могут включать в себя:  - поступление без вступительных испытаний; - дополнительные баллы к результатам вступительных испытаний; - зачисление в первую очередь.'}]\n"
     ]
    },
    {
     "name": "stderr",
     "output_type": "stream",
     "text": [
      "Processing files:  23%|██▎       | 142/629 [1:00:35<3:27:29, 25.56s/it]"
     ]
    },
    {
     "name": "stdout",
     "output_type": "stream",
     "text": [
      "Processing /home/jupyter/datasphere/project/text/Иностранным_гражданам_1.txt\n",
      "Pairs /home/jupyter/datasphere/project/text/Иностранным_гражданам_1.txt\n",
      ": [{'request': 'Какие документы необходимы для поступления в МАИ?', 'response': 'Для поступления в МАИ необходимо предоставить следующие документы: - заявление о приёме; - документ, удостоверяющий личность, гражданство и возраст (или их копии); - документ об образовании и (или) о квалификации; - фотографии; - документы, подтверждающие особые права и преимущества при поступлении; - иные документы, предусмотренные законодательством Российской Федерации и локальными нормативными актами МАИ. '}, {'request': 'Какие вступительные испытания проводятся в МАИ самостоятельно?', 'response': 'В МАИ самостоятельно проводятся следующие вступительные испытания: - вступительные испытания по общеобразовательным предметам; - вступительные испытания по дополнительным вступительным испытаниям творческой и (или) профессиональной направленности; - вступительные испытания по программам вступительных испытаний на обучение по программам бакалавриата и программам специалитета в порядке, установленном Министерством науки и высшего образования Российской Федерации. '}, {'request': 'Какие льготы предоставляются победителям и призёрам олимпиад при поступлении в МАИ?', 'response': 'Победителям и призёрам олимпиад школьников, проводимых в порядке, устанавливаемом федеральным органом исполнительной власти, осуществляющим функции по выработке и реализации государственной политики и нормативно-правовому регулированию в сфере общего образования, предоставляются льготы при поступлении в МАИ в соответствии с Порядком приёма, утверждённым Министерством науки и высшего образования Российской Федерации. '}, {'request': 'Какие направления подготовки предлагает МАИ для иностранных граждан?', 'response': 'МАИ предлагает следующие направления подготовки для иностранных граждан: - Базовое высшее образование; - Специализированное высшее образование; - Среднее профессиональное образование. '}, {'request': 'Какие экзамены необходимо сдавать для поступления в МАИ?', 'response': 'Для поступления в МАИ необходимо сдать следующие экзамены: - Вступительные испытания по общеобразовательным предметам; - Вступительные испытания по дополнительным вступительным испытаниям творческой и (или) профессиональной направленности; - Вступительные испытания по программам вступительных испытаний на обучение по программам бакалавриата и программам специалитета в порядке, установленном Министерством науки и высшего образования Российской Федерации. '}]\n"
     ]
    },
    {
     "name": "stderr",
     "output_type": "stream",
     "text": [
      "Processing files:  23%|██▎       | 143/629 [1:01:01<3:29:54, 25.91s/it]"
     ]
    },
    {
     "name": "stdout",
     "output_type": "stream",
     "text": [
      "Processing /home/jupyter/datasphere/project/text/Иностранным_гражданам_2.txt\n",
      "Pairs /home/jupyter/datasphere/project/text/Иностранным_гражданам_2.txt\n",
      ": []\n"
     ]
    },
    {
     "name": "stderr",
     "output_type": "stream",
     "text": [
      "Processing files:  23%|██▎       | 144/629 [1:01:28<3:32:19, 26.27s/it]"
     ]
    },
    {
     "name": "stdout",
     "output_type": "stream",
     "text": [
      "Processing /home/jupyter/datasphere/project/text/Интегрированные_интеллектуальные_робототехнические_комплексы.txt\n"
     ]
    }
   ],
   "source": [
    "import json\n",
    "import os\n",
    "import re\n",
    "import time\n",
    "from glob import glob\n",
    "\n",
    "from grpc._channel import _MultiThreadedRendezvous\n",
    "from langchain.llms import YandexGPT\n",
    "from langchain.output_parsers.json import SimpleJsonOutputParser\n",
    "from tqdm import tqdm\n",
    "\n",
    "gpt = YandexGPT(api_key=os.environ[\"api_key\"], folder_id=folder_id)\n",
    "\n",
    "prompt = \"\"\"\n",
    "Тебе нужно прочитать текстовый файл с информацией с сайта приемной комиссии Московского авиационного института (МАИ). На основе этой информации тебе необходимо составить 5 вопрос-ответных пар в формате JSON. Вопросы должны быть подробными и конкретными, и охватывать все ключевые аспекты информации, представленной в файле, а ответы должны быть точными и информативными. Формат вопрос-ответных пар должен быть следующим:\n",
    "[\n",
    "    {\"request\":\"вопрос 1\",\"response\":\"ответ 1\"},\n",
    "    {\"request\":\"вопрос 2\",\"response\":\"ответ 2\"},\n",
    "    {\"request\":\"вопрос 3\",\"response\":\"ответ 3\"},\n",
    "    ...\n",
    "]\n",
    "\n",
    "Убедись, что каждый вопрос точно соответствует информации, представленной в тексте, и что ответы содержат всю необходимую информацию для корректного ответа на вопрос.\n",
    "\n",
    "Ниже приведена доступная информация:\n",
    "```\n",
    "{PAGE}\n",
    "```\n",
    "\"\"\"\n",
    "\n",
    "jp = SimpleJsonOutputParser()\n",
    "gpt.temperature = 0.1\n",
    "\n",
    "# Словарь для хранения вопрос-ответных пар\n",
    "pairs = {}\n",
    "\n",
    "\n",
    "def process_files(fns):\n",
    "    for fn in tqdm(fns, desc=\"Processing files\"):\n",
    "        if fn in pairs.keys():\n",
    "            print(f\"Already processed: {fn}\")\n",
    "            continue\n",
    "        print(f\"Processing {fn}\")\n",
    "        text = open(fn, \"r\", encoding=\"utf-8\").read()\n",
    "        p = prompt.replace(\"{PAGE}\", text)\n",
    "        try:\n",
    "            res = gpt(p)\n",
    "            # print(\"RES:\\n\", res)\n",
    "        except _MultiThreadedRendezvous as e:\n",
    "            print(f\"Error processing {fn}\")\n",
    "            continue\n",
    "\n",
    "        # Предварительная обработка для удаления символов перевода строки и экранирования кавычек\n",
    "        res = re.sub(r\"\\\\n\", \" \", res)\n",
    "        res = re.sub(r\"(\\r\\n|\\n|\\r)\", \" \", res)\n",
    "        res = re.sub(r'\"', r'\\\\\"', res)\n",
    "        res = res.replace('\\\\\"', '\"')\n",
    "        res = res.replace(\"*\", \"\")\n",
    "\n",
    "        # print(\"RES v2:\\n\", res)\n",
    "\n",
    "        # Используем регулярное выражение для поиска JSON объектов\n",
    "        json_matches = re.findall(r\"\\{.*?\\}\", res, re.DOTALL)\n",
    "        data = []\n",
    "        for match in json_matches:\n",
    "            try:\n",
    "                obj = json.loads(match)\n",
    "                data.append(obj)\n",
    "            except json.JSONDecodeError as e:\n",
    "                print(f\"Ошибка декодирования JSON в строке: {match}\\n{e}\")\n",
    "\n",
    "        pairs[fn] = data\n",
    "        save_to_json(pairs, output_file)\n",
    "        print(f\"Pairs {fn}\\n: {pairs[fn]}\")\n",
    "        time.sleep(1)\n",
    "\n",
    "\n",
    "# Функция для сохранения результатов в JSON файл\n",
    "def save_to_json(pairs, output_file):\n",
    "    all_qa_pairs = []\n",
    "    for fn, qa_list in pairs.items():\n",
    "        all_qa_pairs.extend(qa_list)\n",
    "\n",
    "    with open(output_file, \"w\", encoding=\"utf-8\") as f:\n",
    "        json.dump(all_qa_pairs, f, ensure_ascii=False, indent=4)\n",
    "\n",
    "\n",
    "# Запуск обработки файлов\n",
    "file_list = glob(\"/home/jupyter/datasphere/project/text/*\")\n",
    "process_files(file_list)"
   ]
  },
  {
   "cell_type": "markdown",
   "metadata": {},
   "source": [
    "Теперь преобразуем всё к формату, в котором Yandex GPT принимает фразы для до-обучения:"
   ]
  },
  {
   "cell_type": "code",
   "execution_count": 102,
   "metadata": {
    "execution": {
     "iopub.execute_input": "2024-05-25T23:51:59.187643Z",
     "iopub.status.busy": "2024-05-25T23:51:59.186617Z",
     "iopub.status.idle": "2024-05-25T23:51:59.203037Z",
     "shell.execute_reply": "2024-05-25T23:51:59.202353Z",
     "shell.execute_reply.started": "2024-05-25T23:51:59.187599Z"
    }
   },
   "outputs": [
    {
     "name": "stdout",
     "output_type": "stream",
     "text": [
      "Всего 1179 вопрос-ответных пар\n"
     ]
    }
   ],
   "source": [
    "res = []\n",
    "stop = []\n",
    "for _, p in pairs.items():\n",
    "    for d in p:\n",
    "        if \"request\" in d and \"response\" in d and not (d[\"request\"].lower() in stop):\n",
    "            res.append(d)\n",
    "\n",
    "print(f\"Всего {len(res)} вопрос-ответных пар\")"
   ]
  },
  {
   "cell_type": "markdown",
   "metadata": {},
   "source": [
    "Запишем результат на диск:"
   ]
  },
  {
   "cell_type": "code",
   "execution_count": 103,
   "metadata": {
    "execution": {
     "iopub.execute_input": "2024-05-25T23:52:26.038148Z",
     "iopub.status.busy": "2024-05-25T23:52:26.037095Z",
     "iopub.status.idle": "2024-05-25T23:52:26.063991Z",
     "shell.execute_reply": "2024-05-25T23:52:26.063241Z",
     "shell.execute_reply.started": "2024-05-25T23:52:26.038097Z"
    }
   },
   "outputs": [],
   "source": [
    "with open(\"pairs_for_train_ygpt.json\", \"w\", encoding=\"utf-8\") as f:\n",
    "    json.dump(res, f, ensure_ascii=False)"
   ]
  },
  {
   "cell_type": "markdown",
   "metadata": {},
   "source": [
    "# 4. Запуск бота в Telegram"
   ]
  },
  {
   "cell_type": "code",
   "execution_count": 129,
   "metadata": {
    "execution": {
     "iopub.execute_input": "2024-05-26T12:04:50.567267Z",
     "iopub.status.busy": "2024-05-26T12:04:50.566121Z",
     "iopub.status.idle": "2024-05-26T12:04:55.747847Z",
     "shell.execute_reply": "2024-05-26T12:04:55.746813Z",
     "shell.execute_reply.started": "2024-05-26T12:04:50.567222Z"
    }
   },
   "outputs": [
    {
     "name": "stderr",
     "output_type": "stream",
     "text": [
      "huggingface/tokenizers: The current process just got forked, after parallelism has already been used. Disabling parallelism to avoid deadlocks...\n",
      "To disable this warning, you can either:\n",
      "\t- Avoid using `tokenizers` before the fork if possible\n",
      "\t- Explicitly set the environment variable TOKENIZERS_PARALLELISM=(true | false)\n"
     ]
    },
    {
     "name": "stdout",
     "output_type": "stream",
     "text": [
      "E0526 12:04:50.638531588  307331 backup_poller.cc:127]                 Run client channel backup poller: UNKNOWN:pollset_work {created_time:\"2024-05-26T12:04:50.638402754+00:00\", children:[UNKNOWN:Bad file descriptor {created_time:\"2024-05-26T12:04:50.638305375+00:00\", errno:9, os_error:\"Bad file descriptor\", syscall:\"epoll_wait\"}]}\n",
      "Defaulting to user installation because normal site-packages is not writeable\n",
      "Requirement already satisfied: nest_asyncio in /usr/local/lib/python3.10/dist-packages (1.5.6)\n",
      "\n",
      "\u001b[1m[\u001b[0m\u001b[34;49mnotice\u001b[0m\u001b[1;39;49m]\u001b[0m\u001b[39;49m A new release of pip is available: \u001b[0m\u001b[31;49m23.0.1\u001b[0m\u001b[39;49m -> \u001b[0m\u001b[32;49m24.0\u001b[0m\n",
      "\u001b[1m[\u001b[0m\u001b[34;49mnotice\u001b[0m\u001b[1;39;49m]\u001b[0m\u001b[39;49m To update, run: \u001b[0m\u001b[32;49mpython3 -m pip install --upgrade pip\u001b[0m\n"
     ]
    }
   ],
   "source": [
    "%pip install nest_asyncio"
   ]
  },
  {
   "cell_type": "code",
   "execution_count": null,
   "metadata": {
    "scrolled": true,
    "tags": []
   },
   "outputs": [],
   "source": [
    "import asyncio\n",
    "\n",
    "import nest_asyncio\n",
    "from telegram import Update\n",
    "from telegram.ext import (\n",
    "    ApplicationBuilder,\n",
    "    CallbackContext,\n",
    "    CommandHandler,\n",
    "    MessageHandler,\n",
    "    filters,\n",
    ")\n",
    "\n",
    "# Вставьте здесь ваш токен API\n",
    "TOKEN = \"6560264857:AAGfINoUv8vwqEHQvjP3kRUT3SOAYzPcRiE\"\n",
    "\n",
    "\n",
    "async def start(update: Update, context: CallbackContext) -> None:\n",
    "    await update.message.reply_text(\"Привет! Задай мне вопрос.\")\n",
    "\n",
    "\n",
    "async def help_command(update: Update, context: CallbackContext) -> None:\n",
    "    await update.message.reply_text(\"Напиши мне любой вопрос, и я постараюсь ответить.\")\n",
    "\n",
    "\n",
    "async def handle_message(update: Update, context: CallbackContext) -> None:\n",
    "    user_question = update.message.text\n",
    "    # Вызов функции для ответа на вопрос\n",
    "    bot_response = answer(user_question, print_results=False)\n",
    "    await update.message.reply_text(bot_response)\n",
    "\n",
    "\n",
    "async def stop(update: Update, context: CallbackContext) -> None:\n",
    "    await update.message.reply_text(\"Бот остановлен.\")\n",
    "    await context.application.stop()\n",
    "    await context.application.shutdown()\n",
    "\n",
    "\n",
    "async def main() -> None:\n",
    "    # Создайте приложение и передайте ему токен вашего бота.\n",
    "    application = ApplicationBuilder().token(TOKEN).build()\n",
    "\n",
    "    # Инициализация приложения\n",
    "    await application.initialize()\n",
    "\n",
    "    # На разных командах - ответите в Telegram\n",
    "    application.add_handler(CommandHandler(\"start\", start))\n",
    "    application.add_handler(CommandHandler(\"help\", help_command))\n",
    "    application.add_handler(CommandHandler(\"stop\", stop))  # Команда для остановки\n",
    "\n",
    "    # На текстовые сообщения - ответите в Telegram\n",
    "    application.add_handler(\n",
    "        MessageHandler(filters.TEXT & ~filters.COMMAND, handle_message)\n",
    "    )\n",
    "\n",
    "    # Запуск бота\n",
    "    await application.start()\n",
    "    await application.updater.start_polling()\n",
    "\n",
    "    # Ожидание завершения работы\n",
    "    await application.updater.idle()\n",
    "\n",
    "\n",
    "# Активируем nest_asyncio\n",
    "nest_asyncio.apply()\n",
    "\n",
    "# Запуск бота в текущем цикле событий\n",
    "if __name__ == \"__main__\":\n",
    "    asyncio.get_event_loop().run_until_complete(main())"
   ]
  },
  {
   "cell_type": "code",
   "execution_count": null,
   "metadata": {
    "tags": []
   },
   "outputs": [],
   "source": [
    "send_tg_message()"
   ]
  },
  {
   "cell_type": "code",
   "execution_count": null,
   "metadata": {},
   "outputs": [],
   "source": []
  }
 ],
 "metadata": {
  "colab": {
   "collapsed_sections": [
    "mLPFjnKbzS2j",
    "6_FN07K-WdrU"
   ],
   "provenance": []
  },
  "kernelspec": {
   "display_name": "Python 3 (ipykernel)",
   "language": "python",
   "name": "python3"
  },
  "language_info": {
   "codemirror_mode": {
    "name": "ipython",
    "version": 3
   },
   "file_extension": ".py",
   "mimetype": "text/x-python",
   "name": "python",
   "nbconvert_exporter": "python",
   "pygments_lexer": "ipython3",
   "version": "3.11.7"
  }
 },
 "nbformat": 4,
 "nbformat_minor": 4
}
